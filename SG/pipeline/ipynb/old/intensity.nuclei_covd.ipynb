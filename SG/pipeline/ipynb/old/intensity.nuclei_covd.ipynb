{
 "cells": [
  {
   "cell_type": "code",
   "execution_count": 3,
   "metadata": {},
   "outputs": [],
   "source": [
    "import numpy as np\n",
    "from skimage.measure import label, regionprops\n",
    "from scipy.sparse import csr_matrix,lil_matrix,coo_matrix\n",
    "from scipy.linalg import eigh, inv, logm, norm\n",
    "from  scipy import ndimage,sparse\n",
    "import cv2\n",
    "import os\n",
    "import sys\n",
    "import csv\n",
    "import glob\n",
    "\n",
    "import h5py\n",
    "from matplotlib import pyplot as plt\n",
    "import warnings\n",
    "#warnings.filterwarnings('ignore')\n"
   ]
  },
  {
   "cell_type": "code",
   "execution_count": 32,
   "metadata": {},
   "outputs": [],
   "source": [
    "def covd(mat):\n",
    "    ims = coo_matrix(mat)\n",
    "    imd = np.pad( mat.astype(float), (1,1), 'constant')\n",
    "    [x,y,I] = [ims.row,ims.col,ims.data]  \n",
    "\n",
    "    Ix = [] #first derivative in x\n",
    "    Iy = [] #first derivative in y\n",
    "    Ixx = [] #second der in x\n",
    "    Iyy = [] #second der in y \n",
    "    Id = [] #magnitude of the first der \n",
    "    Idd = [] #magnitude of the second der\n",
    "    \n",
    "    for ind in range(len(I)):\n",
    "        Ix.append( imd[x[ind]+1,y[ind]] - imd[x[ind]-1,y[ind]] )\n",
    "        Ixx.append( imd[x[ind]+1,y[ind]] - 2*imd[x[ind],y[ind]] + imd[x[ind]-1,y[ind]] )\n",
    "        Iy.append( imd[x[ind],y[ind]+1] - imd[x[ind],y[ind]-1] )\n",
    "        Iyy.append( imd[x[ind],y[ind]+1] - 2*imd[x[ind],y[ind]] + imd[x[ind],y[ind]-1] )\n",
    "        Id.append(np.linalg.norm([Ix,Iy]))\n",
    "        Idd.append(np.linalg.norm([Ixx,Iyy]))\n",
    "    descriptor = np.array( list(zip(list(x),list(y),list(I),Ix,Iy,Ixx,Iyy,Id,Idd)),dtype='int64' ).T     # descriptors\n",
    "    C = np.cov(descriptor) #covariance of the descriptor\n",
    "\n",
    "    iu1 = np.triu_indices(C.shape[1]) # the indices of the upper triangular part\n",
    "    covd2vec = C[iu1]\n",
    "\n",
    "    return covd2vec"
   ]
  },
  {
   "cell_type": "code",
   "execution_count": null,
   "metadata": {},
   "outputs": [],
   "source": [
    "'''\n",
    "Set the input information\n",
    "'''\n",
    "h5_file = sys.argv[1]   #this file contains the segmented nuclei\n",
    "datadir = os.path.dirname(os.path.realpath(h5_file))\n",
    "dapi_file = sys.argv[2] #this file contains the tif images\n",
    "npz_file = sys.argv[3] #this is the output file with spatial and morphological descriptors\n",
    "method = sys.argv[4] #choose between covd rotational invariant or not: covdRI or covd \n",
    "report = sys.argv[5] #filename of the output report"
   ]
  },
  {
   "cell_type": "code",
   "execution_count": 33,
   "metadata": {},
   "outputs": [],
   "source": [
    "'''\n",
    "Set the input information\n",
    "'''\n",
    "h5_file = '/home/garner1/pipelines/WSI-analysis/SG/heatmap_module/test_data/iMS342_20190715_001._r20_c23.h5'   #this file contains the segmented nuclei\n",
    "datadir = os.path.dirname(os.path.realpath(h5_file))\n",
    "dapi_file = '/home/garner1/pipelines/WSI-analysis/SG/heatmap_module/test_data/iMS342_20190715_001._r20_c23.tif' #this file contains the tif images\n",
    "npz_file = '/home/garner1/pipelines/WSI-analysis/SG/heatmap_module/test_data/out.npz' #this is the output file with spatial and morphological descriptors\n",
    "method = 'covd' #choose between covd rotational invariant or not: covdRI or covd \n",
    "report = '/home/garner1/pipelines/WSI-analysis/SG/heatmap_module/test_data/report.txt' #filename of the output report"
   ]
  },
  {
   "cell_type": "code",
   "execution_count": 34,
   "metadata": {},
   "outputs": [
    {
     "name": "stdout",
     "output_type": "stream",
     "text": [
      "r: 20 c: 23 nuclei: 367\n"
     ]
    }
   ],
   "source": [
    "fov = h5py.File(h5_file, 'r') # load the current fov segmentation\n",
    "mask = fov['/exported_watershed_masks'][:]\n",
    "mask_reduced = np.squeeze(mask, axis=2) #to get rid of the third dimension\n",
    "dapi_fov= cv2.imread(dapi_file,cv2.IMREAD_GRAYSCALE) #the dapi tif file of the current FOV\n",
    "\n",
    "#Check which position the current FOV occupies within the big scan\n",
    "row = h5_file.split('_r',1)[1].split('_c')[0]\n",
    "col = h5_file.split('_r',1)[1].split('_c')[1].split('.')[0]\n",
    "\n",
    "# label all connected components in the fov, 0 is background\n",
    "mask_label, numb_of_nuclei = label(mask_reduced,return_num=True) \n",
    "\n",
    "centroids = []    #list of centroid coordinates for sc in each fov\n",
    "descriptors = []  #list of descriptors for sc in each fov\n",
    "counter=0\n",
    "print('r:',row,'c:',col,'nuclei:',numb_of_nuclei)\n",
    "\n",
    "for region in regionprops(mask_label,intensity_image=dapi_fov):\n",
    "    counter+=1\n",
    "    if ((np.count_nonzero(region.intensity_image) <= 10) or (np.count_nonzero(region.intensity_image) > 2500)) :        #at least 1 cell\n",
    "        print('The number of pixels is '+str(np.count_nonzero(region.intensity_image))+' in region='+str(counter))\n",
    "    else:\n",
    "#        print('The number of pixels is '+str(np.count_nonzero(region.intensity_image))+' in region='+str(counter))\n",
    "        centroids.append(region.centroid)\n",
    "        if method == 'covd':\n",
    "            descriptors.append(covd(region.intensity_image))\n",
    "        if method == 'covdRI':\n",
    "            descriptors.append(covd_ri(region.intensity_image))\n",
    "#save covd to file\n",
    "from datetime import datetime\n",
    "# Returns a datetime object containing the local date and time\n",
    "dateTimeObj = datetime.now()\n",
    "\n",
    "if numb_of_nuclei > 0:\n",
    "    np.savez(str(npz_file)+'_'+str(method)+'.npz',centroids=centroids,descriptors=descriptors)\n",
    "else:\n",
    "    print('There are no nuclei in row='+str(row)+' and col='+str(col)+' in file: '+str(h5_file))\n",
    "\n",
    "with open(str(report), 'a+', newline='') as myfile:\n",
    "     wr = csv.writer(myfile)\n",
    "     wr.writerow([dateTimeObj,'row='+str(row),'col='+str(col),'nuclei='+str(numb_of_nuclei),'#descriptors='+str(len(descriptors))])\n",
    "     "
   ]
  },
  {
   "cell_type": "code",
   "execution_count": 35,
   "metadata": {},
   "outputs": [
    {
     "name": "stdout",
     "output_type": "stream",
     "text": [
      "(367, 45)\n"
     ]
    }
   ],
   "source": [
    "filename= str(npz_file)+'_'+str(method)+'.npz'\n",
    "data = np.load(filename,allow_pickle=True)\n",
    "covds = data['descriptors']\n",
    "print(covds.shape)"
   ]
  },
  {
   "cell_type": "code",
   "execution_count": 36,
   "metadata": {},
   "outputs": [
    {
     "name": "stdout",
     "output_type": "stream",
     "text": [
      "Clustering the descriptors\n"
     ]
    }
   ],
   "source": [
    "print('Clustering the descriptors')\n",
    "import umap\n",
    "import hdbscan\n",
    "import sklearn.cluster as cluster\n",
    "from sklearn.cluster import OPTICS\n",
    "\n",
    "# this is used to identify clusters                                 \n",
    "embedding = umap.UMAP(min_dist=0.0,n_components=3,random_state=42).fit_transform(covds) "
   ]
  },
  {
   "cell_type": "code",
   "execution_count": 37,
   "metadata": {},
   "outputs": [],
   "source": [
    "from mpl_toolkits.mplot3d import Axes3D \n",
    "import matplotlib.pyplot as plt\n",
    "import plotly.graph_objects as go\n",
    "from plotly.graph_objs import *\n",
    "import plotly.express as px\n",
    "import seaborn as sns\n",
    "%matplotlib inline\n",
    "sns.set_context('poster')\n",
    "sns.set_style('white')\n",
    "sns.set_color_codes()\n",
    "plot_kwds = {'alpha' : 0.5, 's' : 80, 'linewidths':0}\n",
    "\n",
    "import hdbscan\n",
    "\n",
    "import os\n",
    "import glob\n",
    "\n",
    "from sklearn.neighbors import NearestNeighbors\n",
    "from numpy import linalg as LA\n",
    "import numpy as np\n",
    "import pandas as pd"
   ]
  },
  {
   "cell_type": "code",
   "execution_count": 38,
   "metadata": {},
   "outputs": [],
   "source": [
    "df_embedding = pd.DataFrame(data=embedding, columns=['x','y','z'])\n",
    "'''\n",
    "Visualize the 3D UMAP representation of the morphology\n",
    "'''\n",
    "fig = px.scatter_3d(df_embedding, x=\"x\", y=\"y\", z=\"z\")\n",
    "fig.update_traces(marker=dict(size=1,opacity=0.5),selector=dict(mode='markers'))\n",
    "fig.write_html('test.html', auto_open=True)"
   ]
  },
  {
   "cell_type": "code",
   "execution_count": null,
   "metadata": {},
   "outputs": [],
   "source": []
  }
 ],
 "metadata": {
  "kernelspec": {
   "display_name": "Python 3",
   "language": "python",
   "name": "python3"
  },
  "language_info": {
   "codemirror_mode": {
    "name": "ipython",
    "version": 3
   },
   "file_extension": ".py",
   "mimetype": "text/x-python",
   "name": "python",
   "nbconvert_exporter": "python",
   "pygments_lexer": "ipython3",
   "version": "3.7.4"
  }
 },
 "nbformat": 4,
 "nbformat_minor": 2
}
