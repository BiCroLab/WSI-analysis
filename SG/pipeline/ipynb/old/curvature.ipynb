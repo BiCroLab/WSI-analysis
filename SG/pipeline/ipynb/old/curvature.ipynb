{
 "cells": [
  {
   "cell_type": "markdown",
   "metadata": {},
   "source": [
    "# General considerations\n",
    "We aim at classifying intensity and morphometric patterns measured on a population of DAPI stained nuclei in WSI. The classification should be interpretable from a standard biological point of view, suggesting a robust mapping between unsupervised classes and typical cell types (eg cancer, immuno and stroma).\n",
    "\n",
    "The approach we take is describe by the following steps: \n",
    "- first, we learn the manifold of the morphometric features (we use UMAP for this) and represent it a 3D point cloud\n",
    "- second, we segment the point cloud based on the curvature evaluated in each point's neighborhood\n",
    "- third, we use a hierarchical clustering approach to analyse the points with lowest curvature (first quartile)\n",
    "\n",
    "This notebook details the observations that led to the above euristic approach."
   ]
  },
  {
   "cell_type": "code",
   "execution_count": 21,
   "metadata": {},
   "outputs": [],
   "source": [
    "'''\n",
    "Load the necessary libraries\n",
    "'''\n",
    "\n",
    "from mpl_toolkits.mplot3d import Axes3D \n",
    "import matplotlib.pyplot as plt\n",
    "import plotly.graph_objects as go\n",
    "from plotly.graph_objs import *\n",
    "import plotly.express as px\n",
    "import seaborn as sns\n",
    "%matplotlib inline\n",
    "sns.set_context('poster')\n",
    "sns.set_style('white')\n",
    "sns.set_color_codes()\n",
    "plot_kwds = {'alpha' : 0.5, 's' : 80, 'linewidths':0}\n",
    "\n",
    "import hdbscan\n",
    "\n",
    "import os\n",
    "import glob\n",
    "\n",
    "from sklearn.neighbors import NearestNeighbors\n",
    "from numpy import linalg as LA\n",
    "import numpy as np\n",
    "import pandas as pd"
   ]
  },
  {
   "cell_type": "code",
   "execution_count": 68,
   "metadata": {},
   "outputs": [],
   "source": [
    "'''\n",
    "Load the morphology data and their pre-processed UMAP 3D embedding \n",
    "'''\n",
    "\n",
    "usecols = (1,2,3,4,5,6,7,8) # include all fields\n",
    "\n",
    "# set the filenames\n",
    "embedding_filename = '/home/garner1/wsi-data/npy/id'+str(13)+'_clusterable_embedding.morphology.npy'\n",
    "morphology_filename = '/home/garner1/wsi-data/npy/'+str(13)+'.txt.woInf.gz'\n",
    "\n",
    "# load the data \n",
    "embedding = np.load(embedding_filename, allow_pickle=True)\n",
    "morphology = np.loadtxt(morphology_filename, delimiter=\"\\t\", skiprows=True, usecols=usecols)\n",
    "\n",
    "# subsample the point cloud to speed up computations\n",
    "sample_size = 100000\n",
    "subidx = np.random.randint(embedding.shape[0], size=sample_size)\n",
    "subsample = embedding[subidx,:]\n",
    "\n",
    "#df_embedding = pd.DataFrame(data=subsample, columns=['x','y','z'])\n",
    "#df_morphology = pd.DataFrame(data=morphology[subidx,:], columns=['cx','cy','area','perimeter','eccentricity','circularity','mean_intensity','tot_intensity'])\n",
    "\n",
    "df_embedding = pd.DataFrame(data=embedding, columns=['x','y','z'])\n",
    "df_morphology = pd.DataFrame(data=morphology, columns=['cx','cy','area','perimeter','eccentricity',\n",
    "                                                       'circularity','mean_intensity','tot_intensity'])"
   ]
  },
  {
   "cell_type": "code",
   "execution_count": 43,
   "metadata": {},
   "outputs": [],
   "source": [
    "'''\n",
    "Visualize the 3D UMAP representation of the morphology\n",
    "'''\n",
    "fig = px.scatter_3d(df_embedding.sample(n=50000,axis=0), x=\"x\", y=\"y\", z=\"z\")\n",
    "fig.update_traces(marker=dict(size=1,opacity=0.5),selector=dict(mode='markers'))\n",
    "fig.write_html('id13.3Dumap.html', auto_open=True)"
   ]
  },
  {
   "cell_type": "markdown",
   "metadata": {},
   "source": [
    "Note that to facilitate the visualization we sampled 50.000 points from the entire cloud.\n",
    "\n",
    "As can be seen from the 3d UMAP visualization the point cloud does not show any relevant discontinuity that can be immediately exploited to identify morphological clusters.\n",
    "\n",
    "We need to look more carefully to the point cloud.\n",
    "\n",
    "Let's start by coloring the points based on the decile of each single morphological feature (area, perimeter, circularity, etc.) to see where they are located on the point cloud. We use deciles because the raw feature distributions are not spread enough to visualize what is a large value and what is a small value."
   ]
  },
  {
   "cell_type": "code",
   "execution_count": null,
   "metadata": {},
   "outputs": [],
   "source": [
    "df = pd.concat([df_morphology, df_embedding], axis=1)\n",
    "\n",
    "for feature in ['area','perimeter','eccentricity','circularity','mean_intensity','tot_intensity']:\n",
    "    df['color'] = pd.qcut(df[feature], 10, labels=False)\n",
    "    fig = px.scatter_3d(df.sample(n=50000,axis=0), x=\"x\", y=\"y\", z=\"z\", color=\"color\")\n",
    "    fig.update_traces(marker=dict(size=1,opacity=0.5),selector=dict(mode='markers'))\n",
    "    fig.update_layout(title=feature,\n",
    "                            font=dict(\n",
    "                            family=\"Courier New, monospace\",\n",
    "                            size=18,\n",
    "                            color=\"#7f7f7f\"\n",
    "                                )\n",
    "                     )\n",
    "    fig.write_html('id13.'+feature+'.3Dumap.html', auto_open=True)"
   ]
  },
  {
   "cell_type": "markdown",
   "metadata": {},
   "source": [
    "The figures show that each feature has a particular location pattern in point cloud. For example, nuclei with larger area are located in the tail of the cloud, a possible indication that there we could find putative cancer nuclei. Analously for circularity with respect to putative immune cells, and for eccentricity with respect to putative stroma cells. \n",
    "\n",
    "But how can we select for those points in the cloud taking into account many features at the same time? We need to identify an intrinsic property of the point cloud that could allow us to select clusters of interest in the cloud. \n",
    "\n",
    "One such intrinsic property is the curvature. We can use the covariance matrix of the points belonging to the neighborhood of a given point to estimate the curvature around that point. If we do this for all the points in the cloud we have an estimate of the curvature on the entire cloud:"
   ]
  },
  {
   "cell_type": "code",
   "execution_count": 71,
   "metadata": {},
   "outputs": [],
   "source": [
    "'''\n",
    "Calculate the local curvature of the point cloud embedding\n",
    "'''\n",
    "# Find the neighborood\n",
    "n_neighbors = 200 # parameter to be adjausted\n",
    "\n",
    "# For each point's neighborood determine the curvature using the covariance of the neighborood\n",
    "\n",
    "#nbrs = NearestNeighbors(n_neighbors=n_neighbors, algorithm='kd_tree').fit(subsample)\n",
    "#distances, indices = nbrs.kneighbors(subsample)\n",
    "#eigvals = [LA.eigvalsh(np.cov(subsample[indices[idx,:],:].T)) for idx in range(subsample.shape[0])] #if subsample\n",
    "\n",
    "nbrs = NearestNeighbors(n_neighbors=n_neighbors, algorithm='kd_tree').fit(embedding)\n",
    "distances, indices = nbrs.kneighbors(embedding)\n",
    "eigvals = [LA.eigvalsh(np.cov(embedding[indices[idx,:],:].T)) for idx in range(embedding.shape[0])] #full data\n",
    "\n",
    "curvatures = [min(eigvals[idx])/sum(eigvals[idx]) for idx in range(len(eigvals))]\n",
    "\n",
    "# Add curvature to the dataframe\n",
    "df_embedding['curvature'] = curvatures #pd.qcut(curvatures,10, retbins=False, labels=False)\n",
    "df = pd.concat([df_morphology, df_embedding], axis=1)"
   ]
  },
  {
   "cell_type": "code",
   "execution_count": 77,
   "metadata": {},
   "outputs": [
    {
     "data": {
      "image/png": "[encoded data removed]",
      "text/plain": [
       "<Figure size 432x288 with 1 Axes>"
      ]
     },
     "metadata": {},
     "output_type": "display_data"
    }
   ],
   "source": [
    "# Find the minima in curvature histrogram\n",
    "q1 = np.quantile(curvatures,0.1)\n",
    "\n",
    "#hist, bin_edges = np.histogram(curvatures,bins=25)\n",
    "#maxima_idx = list(argrelmax(hist,mode='wrap')[0])\n",
    "#minima_idx = [int(0.5*(maxima_idx[i]+maxima_idx[i+1])) for i in range(2)]\n",
    "#minima = [0.5*(bin_edges[loc]+bin_edges[loc+1]) for loc in minima_idx]\n",
    "#print(minima)\n",
    "plt.hist(curvatures,bins=25)\n",
    "plt.axvline(q1,0,7500)\n",
    "plt.show()"
   ]
  },
  {
   "cell_type": "code",
   "execution_count": 86,
   "metadata": {},
   "outputs": [],
   "source": [
    "fig = px.scatter_3d(df.sample(n=50000), x=\"x\", y=\"y\", z=\"z\", color=\"curvature\")\n",
    "fig.update_traces(marker=dict(size=1,opacity=0.5),selector=dict(mode='markers'))\n",
    "fig.update_layout(title='Curvature',\n",
    "                            font=dict(\n",
    "                            family=\"Courier New, monospace\",\n",
    "                            size=18,\n",
    "                            color=\"#7f7f7f\"\n",
    "                                )\n",
    "                     )\n",
    "fig.write_html('id13.curvature.3Dumap.html', auto_open=True)\n",
    "\n",
    "df1 = df[df['curvature'] < q1] # define the low curvature sector\n",
    "\n",
    "fig = px.scatter_3d(df1, x=\"x\", y=\"y\", z=\"z\", color=\"curvature\")\n",
    "fig.update_traces(marker=dict(size=1,opacity=0.5),selector=dict(mode='markers'))\n",
    "fig.update_layout(title='Curvature values in the first quartile',\n",
    "                            font=dict(\n",
    "                            family=\"Courier New, monospace\",\n",
    "                            size=18,\n",
    "                            color=\"#7f7f7f\"\n",
    "                                )\n",
    "                     )\n",
    "fig.write_html('id13.curvature_q1.3Dumap.html', auto_open=True)\n",
    "\n"
   ]
  },
  {
   "cell_type": "markdown",
   "metadata": {},
   "source": [
    "Now we can try to cluster the points in the low curvature sector:"
   ]
  },
  {
   "cell_type": "code",
   "execution_count": 91,
   "metadata": {},
   "outputs": [
    {
     "name": "stderr",
     "output_type": "stream",
     "text": [
      "/home/garner1/miniconda3/lib/python3.7/site-packages/ipykernel_launcher.py:15: SettingWithCopyWarning:\n",
      "\n",
      "\n",
      "A value is trying to be set on a copy of a slice from a DataFrame.\n",
      "Try using .loc[row_indexer,col_indexer] = value instead\n",
      "\n",
      "See the caveats in the documentation: http://pandas.pydata.org/pandas-docs/stable/user_guide/indexing.html#returning-a-view-versus-a-copy\n",
      "\n",
      "/home/garner1/miniconda3/lib/python3.7/site-packages/ipykernel_launcher.py:16: SettingWithCopyWarning:\n",
      "\n",
      "\n",
      "A value is trying to be set on a copy of a slice from a DataFrame.\n",
      "Try using .loc[row_indexer,col_indexer] = value instead\n",
      "\n",
      "See the caveats in the documentation: http://pandas.pydata.org/pandas-docs/stable/user_guide/indexing.html#returning-a-view-versus-a-copy\n",
      "\n"
     ]
    },
    {
     "data": {
      "image/png": "[encoded data removed]",
      "text/plain": [
       "<Figure size 432x288 with 2 Axes>"
      ]
     },
     "metadata": {},
     "output_type": "display_data"
    }
   ],
   "source": [
    "'''\n",
    "UMAP representation of the morphology\n",
    "'''\n",
    "min_cluster_size = 1000 # parameter to be adjausted\n",
    "min_samples = 100       # parameter to be adjausted\n",
    "    \n",
    "clusterer = hdbscan.HDBSCAN(min_samples=min_samples, \n",
    "                                min_cluster_size=min_cluster_size, \n",
    "                                gen_min_span_tree=True)\n",
    "clusterer.fit(df1.loc[:,('x','y','z')]) \n",
    "\n",
    "clusterer.condensed_tree_.plot(select_clusters=True,\n",
    "                               selection_palette=sns.color_palette(\"Set2\",len(clusterer.labels_)))\n",
    "    \n",
    "df1['cluster'] = clusterer.labels_    # add cluster id to dataframe\n",
    "df1['cluster'] = df1['cluster'].apply(str)   # make cluster id a string\n",
    "df_filtered = df1[df1.cluster != str(-1)] # remove unassigned points\n",
    "    \n",
    "fig = px.scatter(df_filtered, x=\"cx\", y=\"cy\",color=\"cluster\",\n",
    "                     width=800, height=800,\n",
    "                     color_discrete_sequence=px.colors.qualitative.Set2)\n",
    "fig.update_traces(marker=dict(size=3,opacity=1))\n",
    "fig.write_html('spatial_decoration.html', auto_open=True)\n",
    "    \n",
    "fig = px.scatter_3d(df_filtered, x=\"x\", y=\"y\", z=\"z\", color=\"cluster\", hover_name=\"cluster\", \n",
    "                        color_discrete_sequence=px.colors.qualitative.Set2)\n",
    "fig.update_traces(marker=dict(size=3,opacity=1.0),selector=dict(mode='markers'))\n",
    "fig.write_html('low_curvature_clusters.html', auto_open=True)"
   ]
  },
  {
   "cell_type": "markdown",
   "metadata": {},
   "source": [
    "Thinking of the pipeline as a tool we should aim at simplifying the visualization and adjusting the parameters in order for the user to tune the output to his need. "
   ]
  },
  {
   "cell_type": "code",
   "execution_count": 113,
   "metadata": {},
   "outputs": [],
   "source": [
    "# partition curvatures into quantiles\n",
    "numb_quantiles =  10 # parameter to be adjausted\n",
    "df['curvature_quantile'] = pd.qcut(curvatures,numb_quantiles, retbins=False, labels=False)\n",
    "#df['curvature_quantile'] = df['curvature_quantile'].apply(str)   #make clustet id a string\n",
    "\n",
    "# There is now direct correlation between curvature and morphological features, \n",
    "# but curvature can still be used to segment the manifold\n",
    "\n",
    "#plt.scatter(df['area'], df['curvature'],s=1)\n",
    "#plt.show()\n",
    "\n",
    "min_cluster_size = 500 # parameter to be adjausted\n",
    "min_samples = 50       # parameter to be adjausted\n",
    "for q in range(numb_quantiles)[:]:\n",
    "    df_quantile = df[df['curvature_quantile']==q]\n",
    "    # Cluster the curvature's quantile of the point cloud\n",
    "\n",
    "    clusterer = hdbscan.HDBSCAN(min_samples=min_samples, \n",
    "                                min_cluster_size=min_cluster_size, \n",
    "                                gen_min_span_tree=True)\n",
    "    clusterer.fit(df_quantile.loc[:,('x','y','z')]) \n",
    "\n",
    "#    clusterer.condensed_tree_.plot(select_clusters=True,selection_palette=sns.color_palette(\"Set2\",len(clusterer.labels_)))\n",
    "    \n",
    "    df_quantile['cluster'] = clusterer.labels_    # add cluster id to dataframe\n",
    "    df_quantile['cluster'] = df_quantile['cluster'].apply(str)   # make cluster id a string\n",
    "    df_filtered = df_quantile[df_quantile.cluster != str(-1)] # remove unassigned points\n",
    "\n",
    "    \n",
    "    fig = px.scatter(df_filtered, x=\"cx\", y=\"cy\",color=\"cluster\",width=800, height=800)\n",
    "    fig.update_traces(marker=dict(size=5,opacity=1),selector=dict(mode='markers'))\n",
    "    \n",
    "#    fig = px.scatter_3d(df_filtered, x=\"x\", y=\"y\", z=\"z\", color=\"cluster\", hover_name=\"cluster\", \n",
    "#                        color_discrete_sequence=px.colors.qualitative.Set2)\n",
    "#    fig.update_traces(marker=dict(size=1,opacity=0.75),selector=dict(mode='markers'))\n",
    "\n",
    "    fig.write_html('test.html', auto_open=True)"
   ]
  },
  {
   "cell_type": "code",
   "execution_count": 33,
   "metadata": {},
   "outputs": [],
   "source": [
    "'''\n",
    "UMAP representation of the morphology\n",
    "'''\n",
    "df_embedding['curvature'] = pd.qcut(curvatures,10, retbins=False, labels=False)\n",
    "\n",
    "fig = px.scatter_3d(df_embedding[df_embedding['curvature']==9], \n",
    "                    x=\"x\", y=\"y\", z=\"z\", \n",
    "                    color=\"curvature\", \n",
    "                    hover_name=\"curvature\", \n",
    "                    color_discrete_sequence=px.colors.qualitative.Set2)\n",
    "\n",
    "fig.update_traces(marker=dict(size=1,opacity=0.5),selector=dict(mode='markers'))\n",
    "\n",
    "fig.write_html('test.html', auto_open=True)"
   ]
  },
  {
   "cell_type": "code",
   "execution_count": 225,
   "metadata": {},
   "outputs": [],
   "source": [
    "if len(minima) == 2:\n",
    "    df1 = df[df['curvature'] < minima[0]]\n",
    "    df2 = df[(minima[0] <= df['curvature']) & (df['curvature'] < minima[1])]\n",
    "    df3 = df[minima[1] <= df['curvature']]\n",
    "if len(minima) == 1:\n",
    "    df1 = df[df['curvature'] < minima[0]]\n",
    "    df2 = df[minima[0] <= df['curvature']]"
   ]
  },
  {
   "cell_type": "code",
   "execution_count": null,
   "metadata": {},
   "outputs": [],
   "source": []
  }
 ],
 "metadata": {
  "kernelspec": {
   "display_name": "Python 3",
   "language": "python",
   "name": "python3"
  },
  "language_info": {
   "codemirror_mode": {
    "name": "ipython",
    "version": 3
   },
   "file_extension": ".py",
   "mimetype": "text/x-python",
   "name": "python",
   "nbconvert_exporter": "python",
   "pygments_lexer": "ipython3",
   "version": "3.7.4"
  }
 },
 "nbformat": 4,
 "nbformat_minor": 2
}
