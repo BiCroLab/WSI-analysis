{
 "cells": [
  {
   "cell_type": "code",
   "execution_count": null,
   "metadata": {},
   "outputs": [],
   "source": [
    "import sys\n",
    "from glob import glob"
   ]
  },
  {
   "cell_type": "code",
   "execution_count": null,
   "metadata": {},
   "outputs": [],
   "source": [
    "files = glob('../data_intensity/pkl/id_*.measurements.covd.pkl.intensityANDmorphology.csv.gz')\n",
    "file = ('../data_intensity/pkl/id_13.measurements.covd.pkl.intensityANDmorphology.csv.gz')"
   ]
  },
  {
   "cell_type": "code",
   "execution_count": null,
   "metadata": {},
   "outputs": [],
   "source": [
    "import pandas as pd"
   ]
  },
  {
   "cell_type": "code",
   "execution_count": null,
   "metadata": {},
   "outputs": [],
   "source": [
    "import matplotlib.pyplot as plt\n",
    "import seaborn as sns\n",
    "\n",
    "%matplotlib inline\n",
    "\n",
    "sns.set(style=\"whitegrid\")"
   ]
  },
  {
   "cell_type": "code",
   "execution_count": null,
   "metadata": {},
   "outputs": [],
   "source": [
    "for f in files[:]:\n",
    "    outfile = f+'.summary_stat.absolute.png'\n",
    "    df = pd.read_csv(f)\n",
    "    df = df.rename(columns={\"cluster_intensity\": \"clusterID\"})\n",
    "    f, axes = plt.subplots(2, 3, figsize=(15, 7))\n",
    "    sns.boxplot(x='clusterID', y='area', data=df, orient=\"v\", ax=axes[0, 0])\n",
    "    sns.boxplot(x='clusterID', y='perimeter', data=df, orient=\"v\", ax=axes[0, 1])\n",
    "    sns.boxplot(x='clusterID', y='solidity', data=df, orient=\"v\", ax=axes[0, 2])\n",
    "    sns.boxplot(x='clusterID', y='eccentricity', data=df, orient=\"v\", ax=axes[1, 0])\n",
    "    sns.boxplot(x='clusterID', y='mean_intensity', data=df, orient=\"v\", ax=axes[1, 1])\n",
    "    axes[-1, -1].axis('off')\n",
    "    plt.tight_layout()\n",
    "    plt.savefig(str(outfile))\n",
    "    "
   ]
  },
  {
   "cell_type": "code",
   "execution_count": null,
   "metadata": {},
   "outputs": [],
   "source": [
    "for f in files[:]:\n",
    "    outfile = f+'.summary_stat.percentile.png'\n",
    "    df = pd.read_csv(f)\n",
    "    df = df.rename(columns={\"cluster_intensity\": \"clusterID\"})\n",
    "    for c in df.columns[7:12]:\n",
    "        df[\"q_\"+c] = pd.qcut(df[c],100,labels=False, duplicates='drop')\n",
    "\n",
    "    f, axes = plt.subplots(2, 3, figsize=(15, 7))\n",
    "    sns.boxplot(x='clusterID', y='q_area', data=df, orient=\"v\", ax=axes[0, 0])\n",
    "    sns.boxplot(x='clusterID', y='q_perimeter', data=df, orient=\"v\", ax=axes[0, 1])\n",
    "    sns.boxplot(x='clusterID', y='q_solidity', data=df, orient=\"v\", ax=axes[0, 2])\n",
    "    sns.boxplot(x='clusterID', y='q_eccentricity', data=df, orient=\"v\", ax=axes[1, 0])\n",
    "    sns.boxplot(x='clusterID', y='q_mean_intensity', data=df, orient=\"v\", ax=axes[1, 1])\n",
    "    axes[-1, -1].axis('off')\n",
    "    plt.tight_layout()\n",
    "    plt.savefig(str(outfile))\n",
    "    "
   ]
  },
  {
   "cell_type": "code",
   "execution_count": null,
   "metadata": {},
   "outputs": [],
   "source": [
    "outfile = file+'.summary_stat.absolute.png'\n",
    "df = pd.read_csv(file)"
   ]
  },
  {
   "cell_type": "code",
   "execution_count": null,
   "metadata": {},
   "outputs": [],
   "source": [
    "for c in ['area', 'perimeter', 'solidity',\n",
    "       'eccentricity', 'circularity', 'mean_intensity', 'std_intensity',\n",
    "       'cov_intensity']:\n",
    "    df[\"q_\"+c] = pd.qcut(df[c],100,labels=False, duplicates='drop')"
   ]
  },
  {
   "cell_type": "code",
   "execution_count": null,
   "metadata": {},
   "outputs": [],
   "source": [
    "f, axes = plt.subplots(2, 4, figsize=(15, 7))\n",
    "sns.boxplot(x='clusterID1', y='area', data=df, orient=\"v\", ax=axes[0, 0])\n",
    "sns.boxplot(x='clusterID1', y='perimeter', data=df, orient=\"v\", ax=axes[0, 1])\n",
    "sns.boxplot(x='clusterID1', y='solidity', data=df, orient=\"v\", ax=axes[0, 2])\n",
    "sns.boxplot(x='clusterID1', y='eccentricity', data=df, orient=\"v\", ax=axes[0, 3])\n",
    "sns.boxplot(x='clusterID1', y='circularity', data=df, orient=\"v\", ax=axes[1, 0])\n",
    "sns.boxplot(x='clusterID1', y='mean_intensity', data=df, orient=\"v\", ax=axes[1, 1])\n",
    "sns.boxplot(x='clusterID1', y='cov_intensity', data=df, orient=\"v\", ax=axes[1, 2])\n",
    "axes[-1, -1].axis('off')\n",
    "plt.tight_layout()\n",
    "plt.show()\n",
    "#plt.savefig(str(outfile))\n",
    "    "
   ]
  },
  {
   "cell_type": "code",
   "execution_count": null,
   "metadata": {
    "scrolled": false
   },
   "outputs": [],
   "source": [
    "def plot_boxplot_profiles(filename):\n",
    "    df = pd.read_csv(filename)\n",
    "    dfmelted = pd.DataFrame()\n",
    "    f, axes = plt.subplots(1, 4, figsize=(25, 10))\n",
    "    idx=0\n",
    "    for c in set(df[\"clusterID3\"]):\n",
    "        dfc = df[df[\"clusterID3\"] == c][[\"area\",\n",
    "                                         \"circularity\",\n",
    "                                         \"eccentricity\",\n",
    "                                         \"mean_intensity\",\n",
    "                                         \"cov_intensity\"]]\n",
    "        data = pd.melt(dfc)\n",
    "        dfmelted = dfmelted.append(data)\n",
    "        chart = sns.boxplot(x='variable', y='value', data=data, \n",
    "                    meanline=True,\n",
    "                    orient=\"v\", \n",
    "                    ax=axes[idx]).set_title('Cluster ID:'+str(c+1))\n",
    "        axes[idx].set_xticklabels(axes[idx].get_xticklabels(), rotation=45)\n",
    "        idx += 1\n",
    "    plt.savefig(filename+'.boxplot.profile.png')\n",
    "    plt.show()\n",
    "    return"
   ]
  },
  {
   "cell_type": "code",
   "execution_count": null,
   "metadata": {
    "scrolled": false
   },
   "outputs": [],
   "source": [
    "for f in files[:]:\n",
    "    plot_boxplot_profiles(f)"
   ]
  },
  {
   "cell_type": "code",
   "execution_count": null,
   "metadata": {
    "scrolled": true
   },
   "outputs": [],
   "source": [
    "for f in files[:]:\n",
    "    print(f)\n",
    "    df = pd.read_csv(f)\n",
    "    g = sns.pairplot(df[[\"area\",\"circularity\",\"eccentricity\",\"mean_intensity\",\"cov_intensity\"]].sample(n=10000),\n",
    "                markers='.')\n",
    "    g.savefig(f+'.scatter-pairplot.png')"
   ]
  },
  {
   "cell_type": "code",
   "execution_count": null,
   "metadata": {
    "scrolled": false
   },
   "outputs": [],
   "source": [
    "for f in files[:]:\n",
    "    print(f)\n",
    "    for c in set(df[\"clusterID3\"]):\n",
    "        dfc = df[df[\"clusterID3\"] == c][[\"area\",\n",
    "                                         \"circularity\",\n",
    "                                         \"eccentricity\",\n",
    "                                         \"mean_intensity\",\n",
    "                                         \"cov_intensity\"]]\n",
    "        g = sns.pairplot(dfc.sample(n=10000),markers='.')\n",
    "        g.fig.suptitle('Cluster ID: '+str(c+1), fontsize=16,y=1)\n",
    "        g.savefig(f+'.scatter-pairplot.'+'clusterID_'+str(c+1)+'.png')\n",
    "        plt.close()"
   ]
  },
  {
   "cell_type": "code",
   "execution_count": null,
   "metadata": {},
   "outputs": [],
   "source": []
  }
 ],
 "metadata": {
  "kernelspec": {
   "display_name": "Python 3",
   "language": "python",
   "name": "python3"
  },
  "language_info": {
   "codemirror_mode": {
    "name": "ipython",
    "version": 3
   },
   "file_extension": ".py",
   "mimetype": "text/x-python",
   "name": "python",
   "nbconvert_exporter": "python",
   "pygments_lexer": "ipython3",
   "version": "3.7.4"
  }
 },
 "nbformat": 4,
 "nbformat_minor": 2
}
