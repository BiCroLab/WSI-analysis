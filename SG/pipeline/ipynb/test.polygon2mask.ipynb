{
 "cells": [
  {
   "cell_type": "code",
   "execution_count": null,
   "metadata": {},
   "outputs": [],
   "source": [
    "import json\n",
    "import numpy as np\n",
    "from skimage.draw import polygon\n",
    "from skimage import io\n",
    "from matplotlib import pyplot as plt"
   ]
  },
  {
   "cell_type": "code",
   "execution_count": null,
   "metadata": {},
   "outputs": [],
   "source": [
    "import gzip\n",
    "import json\n",
    "#filename = '/home/garner1/tools/QuPath-0.2.0-Linux/QuPath-0.2.0/bin/test/polygons.json.gz'\n",
    "filename = '/home/garner1/tools/QuPath-0.2.0-Linux/QuPath-0.2.0/bin/test/export/GTEX-1128S-0726.poly.json.gz'\n",
    "with gzip.GzipFile(filename, 'r') as fin:\n",
    "    data = json.loads(fin.read().decode('utf-8'))"
   ]
  },
  {
   "cell_type": "code",
   "execution_count": null,
   "metadata": {},
   "outputs": [],
   "source": [
    "# Output: {'name': 'Bob', 'languages': ['English', 'Fench']}\n",
    "x_list = []\n",
    "y_list = []\n",
    "count = 0\n",
    "for entry in data:\n",
    "    #print(count); count += 1\n",
    "    poly = np.array(entry['geometry']['coordinates'][0]) # load coord of polygon\n",
    "    mean = poly.mean(axis=0) \n",
    "    poly -= mean # subtract the mean\n",
    "    mask = np.zeros(tuple(np.ceil(np.max(poly,axis=0) - np.min(poly,axis=0)).astype(int))).astype(int) # build an empty mask spanning the support of the polygon\n",
    "    mini = np.min(poly,axis=0)\n",
    "    poly -= mini # subtract the min to translate the mask \n",
    "    rr, cc = polygon(poly[:, 0], poly[:, 1], mask.shape) # get the nonzero mask locations\n",
    "    mask[rr, cc] = 1\n",
    "    rr = rr.astype(float);cc = cc.astype(float)\n",
    "    # rescale back to original coordinates\n",
    "    rr += mini[0]; cc += mini[1]\n",
    "    rr += mean[0]; cc += mean[1]\n",
    "    # update the list of nonzero entries\n",
    "    x_list.extend(list(rr)) \n",
    "    y_list.extend(list(cc))"
   ]
  },
  {
   "cell_type": "code",
   "execution_count": null,
   "metadata": {
    "scrolled": false
   },
   "outputs": [],
   "source": [
    "del data"
   ]
  },
  {
   "cell_type": "code",
   "execution_count": null,
   "metadata": {},
   "outputs": [],
   "source": [
    "xx = np.array(x_list).reshape((len(x_list),1))\n",
    "yy = np.array(y_list).reshape((len(y_list),1))\n",
    "arr = np.hstack((xx,yy))\n",
    "#print(arr)\n",
    "arr -= np.mean(arr,axis=0)\n",
    "#print(arr)\n",
    "#mask = np.zeros(tuple(np.ceil(np.max(arr,axis=0) - np.min(arr,axis=0)).astype(int))).astype(int) # build an empty mask spanning the support of the polygon\n",
    "mini = np.min(arr,axis=0)\n",
    "arr -= mini # subtract the min to translate the mask \n",
    "#print(arr)\n",
    "#mask[arr[:,0].astype(int), arr[:,1].astype(int)] = 1"
   ]
  },
  {
   "cell_type": "code",
   "execution_count": null,
   "metadata": {},
   "outputs": [],
   "source": [
    "from scipy.sparse import coo_matrix\n",
    "row = np.rint(arr[:,0]).astype(int)\n",
    "col = np.rint(arr[:,1]).astype(int)\n",
    "mtx = coo_matrix((np.ones(row.shape), (row, col)), dtype=bool)"
   ]
  },
  {
   "cell_type": "code",
   "execution_count": null,
   "metadata": {
    "scrolled": false
   },
   "outputs": [],
   "source": [
    "r0 = 0\n",
    "c0 = 0\n",
    "select_row = np.arange(r0,r0+np.max(mtx.nonzero(),axis=1)[0])\n",
    "select_col = np.arange(c0,c0+np.max(mtx.nonzero(),axis=1)[1])\n",
    "fov = mtx.tocsr()[select_row,:][:,select_col]\n",
    "\n",
    "plt.figure(figsize=(10,10))\n",
    "io.imshow(fov.todense(),cmap='gray')\n",
    "plt.show()"
   ]
  }
 ],
 "metadata": {
  "kernelspec": {
   "display_name": "Python 3",
   "language": "python",
   "name": "python3"
  },
  "language_info": {
   "codemirror_mode": {
    "name": "ipython",
    "version": 3
   },
   "file_extension": ".py",
   "mimetype": "text/x-python",
   "name": "python",
   "nbconvert_exporter": "python",
   "pygments_lexer": "ipython3",
   "version": "3.7.4"
  }
 },
 "nbformat": 4,
 "nbformat_minor": 2
}
