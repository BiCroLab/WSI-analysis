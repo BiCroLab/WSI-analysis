{
 "cells": [
  {
   "cell_type": "code",
   "execution_count": 1,
   "metadata": {},
   "outputs": [],
   "source": [
    "import numpy as np\n",
    "import pandas as pd\n",
    "import glob"
   ]
  },
  {
   "cell_type": "code",
   "execution_count": 47,
   "metadata": {},
   "outputs": [
    {
     "name": "stdout",
     "output_type": "stream",
     "text": [
      "0 (8, 13)\n",
      "1 (16, 13)\n",
      "2 (24, 13)\n",
      "3 (32, 13)\n",
      "4 (40, 13)\n",
      "5 (48, 13)\n",
      "6 (56, 13)\n",
      "7 (64, 13)\n",
      "8 (72, 13)\n",
      "9 (80, 13)\n",
      "10 (88, 13)\n",
      "11 (96, 13)\n",
      "12 (104, 13)\n",
      "13 (112, 13)\n",
      "14 (120, 13)\n",
      "15 (128, 13)\n",
      "16 (136, 13)\n",
      "17 (144, 13)\n",
      "18 (152, 13)\n",
      "19 (160, 13)\n",
      "20 (168, 13)\n",
      "21 (176, 13)\n",
      "22 (184, 13)\n",
      "23 (192, 13)\n",
      "24 (200, 13)\n",
      "25 (208, 13)\n",
      "26 (216, 13)\n",
      "27 (224, 13)\n",
      "28 (232, 13)\n",
      "29 (240, 13)\n",
      "30 (248, 13)\n",
      "31 (256, 13)\n",
      "32 (264, 13)\n",
      "33 (272, 13)\n",
      "34 (280, 13)\n",
      "35 (288, 13)\n",
      "36 (296, 13)\n",
      "37 (304, 13)\n",
      "38 (312, 13)\n",
      "39 (320, 13)\n",
      "40 (328, 13)\n",
      "41 (336, 13)\n",
      "42 (344, 13)\n",
      "43 (352, 13)\n",
      "44 (360, 13)\n",
      "45 (368, 13)\n",
      "46 (376, 13)\n",
      "47 (384, 13)\n",
      "48 (392, 13)\n",
      "49 (400, 13)\n",
      "50 (408, 13)\n",
      "51 (416, 13)\n",
      "52 (424, 13)\n",
      "53 (432, 13)\n",
      "54 (440, 13)\n",
      "55 (448, 13)\n",
      "56 (456, 13)\n",
      "57 (464, 13)\n",
      "58 (472, 13)\n",
      "59 (480, 13)\n",
      "60 (488, 13)\n",
      "61 (496, 13)\n",
      "62 (504, 13)\n",
      "63 (512, 13)\n",
      "64 (520, 13)\n",
      "65 (528, 13)\n",
      "66 (536, 13)\n"
     ]
    }
   ],
   "source": [
    "sample_idx = 0\n",
    "for filename in glob.glob('/home/garner1/pipelines/WSI-analysis/SG/pipeline/data/tcga.detection/*.gz'):\n",
    "    try:\n",
    "        if sample_idx == 0:\n",
    "            df = pd.read_csv(filename,sep='\\t')\n",
    "            features = df.columns[np.r_[0, 7:18]]\n",
    "            df_pool = df[features].describe().reset_index()\n",
    "            df_pool['Image'] = [df[df.columns[0]].iloc[0]]*df_pool.shape[0]\n",
    "        else:\n",
    "            df = pd.read_csv(filename,sep='\\t')\n",
    "            df_summary = df[features].describe().reset_index()\n",
    "            df_summary['Image'] = [df[df.columns[0]].iloc[0]]*df_summary.shape[0]\n",
    "            df_pool = pd.concat([df_pool, df_summary], ignore_index=True)\n",
    "        print(sample_idx,df_pool.shape)\n",
    "        sample_idx += 1\n",
    "    except:\n",
    "        pass"
   ]
  },
  {
   "cell_type": "code",
   "execution_count": 48,
   "metadata": {
    "scrolled": false
   },
   "outputs": [
    {
     "name": "stderr",
     "output_type": "stream",
     "text": [
      "/home/garner1/miniconda3/lib/python3.7/site-packages/seaborn/axisgrid.py:848: UserWarning: Tight layout not applied. The left and right margins cannot be made large enough to accommodate all axes decorations. \n",
      "  self.fig.tight_layout()\n"
     ]
    },
    {
     "data": {
      "text/plain": [
       "<seaborn.axisgrid.FacetGrid at 0x7f62e751dfd0>"
      ]
     },
     "execution_count": 48,
     "metadata": {},
     "output_type": "execute_result"
    },
    {
     "data": {
      "image/png": "[encoded data removed]",
      "text/plain": [
       "<Figure size 360x360 with 1 Axes>"
      ]
     },
     "metadata": {},
     "output_type": "display_data"
    }
   ],
   "source": [
    "import seaborn as sns\n",
    "sns.set(style=\"ticks\")\n",
    "data = df_pool[df_pool['index'].isin(['min','25%','50%','75%','max'])]\n",
    "g = sns.catplot(x=\"Image\", y=df_pool.columns[1], data=data, kind='box',whis=0)\n",
    "g.set(ylim=(10, 50))\n",
    "g.set(xticks=[])"
   ]
  },
  {
   "cell_type": "code",
   "execution_count": null,
   "metadata": {},
   "outputs": [],
   "source": []
  }
 ],
 "metadata": {
  "kernelspec": {
   "display_name": "Python 3",
   "language": "python",
   "name": "python3"
  },
  "language_info": {
   "codemirror_mode": {
    "name": "ipython",
    "version": 3
   },
   "file_extension": ".py",
   "mimetype": "text/x-python",
   "name": "python",
   "nbconvert_exporter": "python",
   "pygments_lexer": "ipython3",
   "version": "3.7.4"
  }
 },
 "nbformat": 4,
 "nbformat_minor": 2
}
