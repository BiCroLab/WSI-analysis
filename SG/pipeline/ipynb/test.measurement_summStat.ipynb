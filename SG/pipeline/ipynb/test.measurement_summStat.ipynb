{
 "cells": [
  {
   "cell_type": "code",
   "execution_count": null,
   "metadata": {},
   "outputs": [],
   "source": [
    "import numpy as np\n",
    "import pandas as pd\n",
    "import glob"
   ]
  },
  {
   "cell_type": "code",
   "execution_count": null,
   "metadata": {},
   "outputs": [],
   "source": [
    "sample_idx = 0\n",
    "for filename in glob.glob('/home/garner1/pipelines/WSI-analysis/SG/pipeline/data/tcga.detection/*.gz'):\n",
    "    try:\n",
    "        if sample_idx == 0:\n",
    "            df = pd.read_csv(filename,sep='\\t')\n",
    "            features = df.columns[np.r_[0, 7:18]]\n",
    "            df_pool = df[features].describe().reset_index()\n",
    "            df_pool['Image'] = [df[df.columns[0]].iloc[0]]*df_pool.shape[0]\n",
    "        else:\n",
    "            df = pd.read_csv(filename,sep='\\t')\n",
    "            df_summary = df[features].describe().reset_index()\n",
    "            df_summary['Image'] = [df[df.columns[0]].iloc[0]]*df_summary.shape[0]\n",
    "            df_pool = pd.concat([df_pool, df_summary], ignore_index=True)\n",
    "        print(sample_idx,df_pool.shape)\n",
    "        sample_idx += 1\n",
    "    except:\n",
    "        pass"
   ]
  },
  {
   "cell_type": "code",
   "execution_count": null,
   "metadata": {},
   "outputs": [],
   "source": [
    "import seaborn as sns\n",
    "sns.set(style=\"ticks\")\n",
    "df_pool = pd.read_pickle('../data/pooled_measurements_min-25-50-75-max.pkl')\n",
    "data = df_pool[df_pool['index'].isin(['min','25%','50%','75%','max'])]"
   ]
  },
  {
   "cell_type": "code",
   "execution_count": null,
   "metadata": {
    "scrolled": false
   },
   "outputs": [],
   "source": [
    "import matplotlib.pyplot as plt\n",
    "sns.set(font_scale=2)\n",
    "for feature_id in range(1,12):\n",
    "    g = sns.catplot(x=\"Image\", y=data.columns[feature_id], data=data, \n",
    "                    kind='box',\n",
    "                    whis=0,\n",
    "                    height=6, # make the plot 5 units high\n",
    "                    aspect=6)\n",
    "    \n",
    "    ymin = data[data['index']=='25%'][data.columns[feature_id]].min()\n",
    "    ymin -= ymin/20 \n",
    "    ymax = data[data['index']=='75%'][data.columns[feature_id]].max()\n",
    "    ymax += ymax/20 \n",
    "    \n",
    "    g.set(ylim=(ymin, ymax),xticks=[])\n",
    "    plt.savefig(data.columns[feature_id].replace(\" \", \"\").replace(\":\", \".\")+'.png')"
   ]
  },
  {
   "cell_type": "code",
   "execution_count": null,
   "metadata": {
    "scrolled": false
   },
   "outputs": [],
   "source": [
    "import matplotlib.pyplot as plt\n",
    "sns.set(font_scale=1)\n",
    "for feature_id in range(1,12):\n",
    "    hist = data.hist(column=data.columns[feature_id], by='index', figsize=(10,10),bins=10)\n",
    "    plt.suptitle(data.columns[feature_id])\n",
    "    plt.savefig(data.columns[feature_id].replace(\" \", \"\").replace(\":\", \".\")+'.histograms.png')"
   ]
  },
  {
   "cell_type": "code",
   "execution_count": null,
   "metadata": {},
   "outputs": [],
   "source": []
  }
 ],
 "metadata": {
  "kernelspec": {
   "display_name": "Python 3",
   "language": "python",
   "name": "python3"
  },
  "language_info": {
   "codemirror_mode": {
    "name": "ipython",
    "version": 3
   },
   "file_extension": ".py",
   "mimetype": "text/x-python",
   "name": "python",
   "nbconvert_exporter": "python",
   "pygments_lexer": "ipython3",
   "version": "3.7.4"
  }
 },
 "nbformat": 4,
 "nbformat_minor": 2
}
