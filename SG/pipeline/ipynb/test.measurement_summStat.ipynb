{
 "cells": [
  {
   "cell_type": "code",
   "execution_count": 1,
   "metadata": {},
   "outputs": [],
   "source": [
    "import numpy as np\n",
    "import pandas as pd\n",
    "import glob"
   ]
  },
  {
   "cell_type": "code",
   "execution_count": 5,
   "metadata": {},
   "outputs": [
    {
     "name": "stdout",
     "output_type": "stream",
     "text": [
      "0 (2059988, 12)\n",
      "1 (5227011, 12)\n",
      "2 (6192228, 12)\n"
     ]
    }
   ],
   "source": [
    "sample_idx = 0\n",
    "for filename in glob.glob('/home/garner1/pipelines/WSI-analysis/SG/pipeline/data/tcga.detection/*.gz')[:3]:\n",
    "    if sample_idx == 0:\n",
    "        df = pd.read_csv(filename,sep='\\t')\n",
    "        features = df.columns[np.r_[0, 7:18]]\n",
    "        df_pool = df[features]\n",
    "    else:\n",
    "        df = pd.read_csv(filename,sep='\\t')\n",
    "        df_summary = df[features]\n",
    "        df_pool = pd.concat([df_pool, df_summary], ignore_index=True)\n",
    "    print(sample_idx,df_pool.shape)\n",
    "    sample_idx += 1"
   ]
  },
  {
   "cell_type": "code",
   "execution_count": 6,
   "metadata": {},
   "outputs": [],
   "source": [
    "df_pool.to_pickle(\"./pooled_measurements.pkl\")"
   ]
  },
  {
   "cell_type": "code",
   "execution_count": 4,
   "metadata": {
    "scrolled": false
   },
   "outputs": [
    {
     "data": {
      "text/plain": [
       "<seaborn.axisgrid.FacetGrid at 0x7f1526d6c9d0>"
      ]
     },
     "execution_count": 4,
     "metadata": {},
     "output_type": "execute_result"
    },
    {
     "data": {
      "image/png": "[encoded data removed]",
      "text/plain": [
       "<Figure size 360x360 with 1 Axes>"
      ]
     },
     "metadata": {},
     "output_type": "display_data"
    }
   ],
   "source": [
    "import seaborn as sns\n",
    "sns.set(style=\"ticks\")\n",
    "g = sns.catplot(x=\"Image\", y=df_pool.columns[1], data=df_pool, kind='box')\n",
    "g.set(ylim=(0, 100))\n",
    "g.set(xticks=[])"
   ]
  }
 ],
 "metadata": {
  "kernelspec": {
   "display_name": "Python 3",
   "language": "python",
   "name": "python3"
  },
  "language_info": {
   "codemirror_mode": {
    "name": "ipython",
    "version": 3
   },
   "file_extension": ".py",
   "mimetype": "text/x-python",
   "name": "python",
   "nbconvert_exporter": "python",
   "pygments_lexer": "ipython3",
   "version": "3.7.4"
  }
 },
 "nbformat": 4,
 "nbformat_minor": 2
}
