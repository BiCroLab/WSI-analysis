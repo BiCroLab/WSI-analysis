{
 "cells": [
  {
   "cell_type": "code",
   "execution_count": 1,
   "metadata": {},
   "outputs": [],
   "source": [
    "from mpl_toolkits.mplot3d import Axes3D \n",
    "import matplotlib.pyplot as plt\n",
    "import plotly.graph_objects as go\n",
    "from plotly.graph_objs import *\n",
    "import plotly.express as px\n",
    "\n",
    "import seaborn as sns\n",
    "import os\n",
    "from glob import glob\n",
    "import string\n",
    "\n",
    "import numpy as np\n",
    "import pandas as pd\n",
    "from sklearn.neighbors import NearestNeighbors\n",
    "from numpy import linalg as LA\n",
    "from sklearn.metrics import pairwise_distances_argmin_min\n",
    "import hdbscan\n",
    "from scipy.cluster.hierarchy import fcluster\n",
    "from sklearn import preprocessing\n",
    "from sklearn.cluster import KMeans\n",
    "import umap\n",
    "\n",
    "import warnings\n",
    "warnings.filterwarnings(\"ignore\")"
   ]
  },
  {
   "cell_type": "code",
   "execution_count": 2,
   "metadata": {},
   "outputs": [],
   "source": [
    "# Plot WSI with colored labels\n",
    "def scattered_wsi(df,x,y,hue,size,opacity,auto_open,filename):\n",
    "    fig = px.scatter(df,\n",
    "                     x=x, y=y,color=hue,\n",
    "                     width=800, height=800,\n",
    "                     color_discrete_sequence=px.colors.qualitative.Set2)\n",
    "    fig.update_traces(marker=dict(size=size,opacity=opacity))\n",
    "    fig.update_layout(template='simple_white')\n",
    "    fig.update_layout(legend= {'itemsizing': 'constant'})\n",
    "    fig.write_html(filename+'.spatial_projection.html', auto_open=auto_open)\n",
    "    return \n"
   ]
  },
  {
   "cell_type": "code",
   "execution_count": 5,
   "metadata": {},
   "outputs": [],
   "source": [
    "df = pd.read_pickle('../data/id_52.measurements.smoothed.r10000.pkl')\n",
    "scattered_wsi(df,'cx','cy','area',1,1,True,'r10000')"
   ]
  },
  {
   "cell_type": "code",
   "execution_count": 7,
   "metadata": {},
   "outputs": [
    {
     "name": "stdout",
     "output_type": "stream",
     "text": [
      "../data_intensity/pkl/id_45.measurements.covd.pkl.intensityANDmorphology.csv.gz\n",
      "{0, 1, 2, 3}\n"
     ]
    }
   ],
   "source": [
    "# Plot the morphology profiles by clusterID3\n",
    "features2cluster = ['area',\n",
    "                    #'perimeter', \n",
    "                    #'solidity',\n",
    "                    'eccentricity', \n",
    "                    'circularity', \n",
    "                    'mean_intensity', \n",
    "                    'cov_intensity'\n",
    "                    ]\n",
    "for filename in glob('../data_intensity/pkl/id_*.measurements.covd.pkl.intensityANDmorphology.csv.gz')[:1]:\n",
    "    print(filename)\n",
    "    df = pd.read_csv(filename)\n",
    "    df['clusterID3'] = df['clusterID3'].add(1)\n",
    "    fig = plt.figure(figsize=(15,8))\n",
    "    fig.subplots_adjust(hspace=0.4, wspace=0.4)\n",
    "    #plot covd clusters\n",
    "    dfmelted = pd.DataFrame()\n",
    "    for c in set(df[\"clusterID1\"]):\n",
    "        dfc = df[df[\"clusterID1\"] == c][features2cluster]\n",
    "        data = pd.melt(dfc)\n",
    "        data['ID'] = 'id_'+str(c)\n",
    "        dfmelted = dfmelted.append(data)\n",
    "    ax = fig.add_subplot(1, 2, 1)\n",
    "    ax.set(ylim=(0, 1))\n",
    "    sns.lineplot(x=\"variable\", y=\"value\",hue='ID',\n",
    "                 #style='ID',\n",
    "                err_style = 'band',\n",
    "                data=dfmelted, \n",
    "                ci='sd',\n",
    "                #legend='full',\n",
    "                markers=False, \n",
    "                legend=False).set_title('Feature mean value profiles by CovD-only cluster ID')\n",
    "    #plot profile clusters\n",
    "    dfmelted = pd.DataFrame()\n",
    "    for c in set(df[\"clusterID3\"]):\n",
    "        dfc = df[df[\"clusterID3\"] == c][features2cluster]\n",
    "        data = pd.melt(dfc)\n",
    "        data['ID'] = 'id_'+str(c)\n",
    "        dfmelted = dfmelted.append(data)\n",
    "    ax = fig.add_subplot(1, 2, 2)\n",
    "    ax.set(ylim=(0, 1))\n",
    "    ax.text(0.5, 0.7, str(df['clusterID3'].value_counts().to_frame()),fontsize=12, ha='center')\n",
    "    sns.lineplot(x=\"variable\", y=\"value\",hue='ID',\n",
    "                 #style='ID',\n",
    "                err_style = 'band',\n",
    "                data=dfmelted, \n",
    "                ci='sd',\n",
    "                markers=False, \n",
    "                dashes=False).set_title('Feature mean value profiles by final cluster ID')\n",
    "    ax.legend(loc='upper right')\n",
    "    fig.savefig(filename+'.profiles.png') \n",
    "   "
   ]
  },
  {
   "cell_type": "code",
   "execution_count": 14,
   "metadata": {},
   "outputs": [
    {
     "name": "stdout",
     "output_type": "stream",
     "text": [
      "../data_intensity/pkl/id_52.measurements.covd.pkl.intensityANDmorphology.csv.gz\n"
     ]
    }
   ],
   "source": [
    "for filename in glob('../data_intensity/pkl/id_52.measurements.covd.pkl.intensityANDmorphology.csv.gz')[:1]:\n",
    "    print(filename)\n",
    "    df = pd.read_csv(filename)\n",
    "\n",
    "    df['clusterID3'] = df['clusterID3'].add(1)\n",
    "    # set coloring feature\n",
    "    df['ID'] = df.apply(lambda row: 'id_'+str(int(row.clusterID3)), axis=1)\n",
    "    clusters = list(set(df['clusterID3'])) \n",
    "    for c in clusters:\n",
    "        fdf = df['clusterID3'] == c\n",
    "        scattered_wsi(df[fdf],'cx','cy','area',2,1,True,filename+str(c))\n"
   ]
  },
  {
   "cell_type": "code",
   "execution_count": 9,
   "metadata": {},
   "outputs": [
    {
     "data": {
      "text/plain": [
       "Index(['fov_row', 'fov_col', 'cx', 'cy', 'area', 'perimeter', 'solidity',\n",
       "       'eccentricity', 'circularity', 'mean_intensity', 'std_intensity',\n",
       "       'cov_intensity', 'xi', 'yi', 'zi', 'curvature', 'clusterID1',\n",
       "       'clusterID2', 'clusterID3', 'ID'],\n",
       "      dtype='object')"
      ]
     },
     "execution_count": 9,
     "metadata": {},
     "output_type": "execute_result"
    }
   ],
   "source": [
    "df.columns"
   ]
  }
 ],
 "metadata": {
  "kernelspec": {
   "display_name": "Python 3",
   "language": "python",
   "name": "python3"
  },
  "language_info": {
   "codemirror_mode": {
    "name": "ipython",
    "version": 3
   },
   "file_extension": ".py",
   "mimetype": "text/x-python",
   "name": "python",
   "nbconvert_exporter": "python",
   "pygments_lexer": "ipython3",
   "version": "3.7.4"
  }
 },
 "nbformat": 4,
 "nbformat_minor": 2
}
