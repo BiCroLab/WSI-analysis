{
 "cells": [
  {
   "cell_type": "code",
   "execution_count": 4,
   "metadata": {},
   "outputs": [],
   "source": [
    "import pandas as pd\n",
    "import numpy as np\n",
    "import matplotlib.pyplot as plt\n",
    "import sys  \n",
    "import glob\n",
    "import os\n",
    "sys.path.insert(0, '../py')\n",
    "from graviti import *\n",
    "\n",
    "def plot_loglog(df,title):\n",
    "    values, bins = np.histogram(df['diversity'],bins=1000)\n",
    "    y = values\n",
    "    x = [0.5*(bins[i]+bins[i+1]) for i in range(len(bins)-1)]\n",
    "\n",
    "    plt.loglog(x, y,'r.')\n",
    "    plt.xlabel(\"edge heterogeneity\", fontsize=14)\n",
    "    plt.ylabel(\"counts\", fontsize=14)\n",
    "    plt.title(title)\n",
    "    plt.savefig(title+'.edgeH.loglog.png')\n",
    "    plt.close()\n",
    "    #plt.show()\n",
    "    return\n",
    "def plot_lognormal(df,title):\n",
    "    values, bins = np.histogram(np.log2(df['diversity']),bins=100) # take the hist of the log values\n",
    "    y = values\n",
    "    x = [0.5*(bins[i]+bins[i+1]) for i in range(len(bins)-1)]\n",
    "\n",
    "    plt.plot(x, y,'r.')\n",
    "    plt.xscale('linear')\n",
    "    plt.yscale('linear')\n",
    "    plt.xlabel(\"Log_2 node heterogeneity\", fontsize=14)\n",
    "    plt.ylabel(\"counts\", fontsize=14)\n",
    "    plt.title(title)\n",
    "    plt.savefig(title+'.nodeH.lognorm.png')\n",
    "    plt.close()\n",
    "    #plt.show()\n",
    "    return"
   ]
  },
  {
   "cell_type": "code",
   "execution_count": 2,
   "metadata": {},
   "outputs": [],
   "source": [
    "for file in glob.glob('/home/garner1/wsi-data/heterogeneity_data/*.edge_diversity.tcga.pkl'):\n",
    "    edges = pd.read_pickle(file)\n",
    "    base=os.path.basename(file)\n",
    "    for count in range(3):\n",
    "        base = os.path.splitext(base)[0]\n",
    "    plot_loglog(edges,base)\n",
    "    N = 200\n",
    "    contourPlot(edges[edges[\"diversity\"]<20],N,np.median,base)"
   ]
  },
  {
   "cell_type": "code",
   "execution_count": 5,
   "metadata": {},
   "outputs": [],
   "source": [
    "for file in glob.glob('/home/garner1/wsi-data/heterogeneity_data/*.node_diversity.tcga.pkl'):\n",
    "    base=os.path.basename(file)\n",
    "    for count in range(3):\n",
    "        base = os.path.splitext(base)[0]\n",
    "    nodes = pd.read_pickle(file)\n",
    "    plot_lognormal(nodes,base)"
   ]
  },
  {
   "cell_type": "code",
   "execution_count": null,
   "metadata": {},
   "outputs": [],
   "source": []
  }
 ],
 "metadata": {
  "kernelspec": {
   "display_name": "Python 3",
   "language": "python",
   "name": "python3"
  },
  "language_info": {
   "codemirror_mode": {
    "name": "ipython",
    "version": 3
   },
   "file_extension": ".py",
   "mimetype": "text/x-python",
   "name": "python",
   "nbconvert_exporter": "python",
   "pygments_lexer": "ipython3",
   "version": "3.7.4"
  }
 },
 "nbformat": 4,
 "nbformat_minor": 2
}
