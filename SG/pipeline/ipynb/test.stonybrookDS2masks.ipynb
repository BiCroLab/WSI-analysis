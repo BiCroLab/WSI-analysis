{
 "cells": [
  {
   "cell_type": "code",
   "execution_count": null,
   "metadata": {},
   "outputs": [],
   "source": [
    "import json\n",
    "import numpy as np\n",
    "from skimage.draw import polygon\n",
    "from skimage import io\n",
    "from matplotlib import pyplot as plt\n",
    "import glob\n",
    "import pandas as pd\n",
    "import os"
   ]
  },
  {
   "cell_type": "code",
   "execution_count": null,
   "metadata": {},
   "outputs": [],
   "source": [
    "sample = '/home/garner1/Downloads/TCGA-O1-A52J-01Z-00-DX1.26F6ECCA-D614-4950-98E6-4D76E82F71B4.svs/luad_polygon/TCGA-O1-A52J-01Z-00-DX1.26F6ECCA-D614-4950-98E6-4D76E82F71B4.svs'\n",
    "patchlist = glob.glob(sample+'/*.csv')"
   ]
  },
  {
   "cell_type": "code",
   "execution_count": null,
   "metadata": {},
   "outputs": [],
   "source": [
    "x_list = []\n",
    "y_list = []\n",
    "cells = 0\n",
    "for filename in patchlist[:]: # loop over patches\n",
    "    df = pd.read_csv(filename)\n",
    "    if ~df.empty:\n",
    "        cc0 = float(os.path.basename(filename).split(sep='_')[0])\n",
    "        rr0 = float(os.path.basename(filename).split(sep='_')[1] )\n",
    "\n",
    "        cells += df['Polygon'].shape[0] # update cell count\n",
    "\n",
    "        for cell in df['Polygon'].tolist()[:]: # loop over cells in patch\n",
    "            lista = list(np.fromstring(cell[1:-1], dtype=float, sep=':')) #list of vertices in polygon\n",
    "            cc = lista[0::2] # list of x coord of each polygon vertex\n",
    "            rr = lista[1::2] # list of y coord of each polygon verted\n",
    "            poly = np.asarray(list(zip(cc,rr)))\n",
    "            mean = poly.mean(axis=0) \n",
    "            poly -= mean \n",
    "            # create the nuclear mask\n",
    "            mask = np.zeros(tuple(np.ceil(np.max(poly,axis=0) - np.min(poly,axis=0)).astype(int))).astype(int) # build an empty mask spanning the support of the polygon\n",
    "            mini = np.min(poly,axis=0)\n",
    "            poly -= mini # subtract the min to translate the mask \n",
    "            cc, rr = polygon(poly[:, 0], poly[:, 1], mask.shape) # get the nonzero mask locations\n",
    "            mask[cc, rr] = 1 # nonzero pixel entries\n",
    "            rr = rr.astype(float);cc = cc.astype(float)\n",
    "            # rescale back to original coordinates\n",
    "            rr += mini[0]; cc += mini[1]\n",
    "            rr += mean[0]; cc += mean[1]\n",
    "            rr += rr0; cc += cc0\n",
    "            # !!!You need to calculate the morphometric features excluding peripheral cells!!!\n",
    "            \n",
    "            # update the list of nonzero pixel entries\n",
    "            # There is not need to build a very large mask\n",
    "            #x_list.extend( [int(n) for n in list(rr)] ) \n",
    "            #y_list.extend( [int(n) for n in list(cc)] )\n",
    "print('The number of cells is: '+str(cells))"
   ]
  },
  {
   "cell_type": "code",
   "execution_count": null,
   "metadata": {},
   "outputs": [],
   "source": [
    "xx = np.array(x_list).reshape((len(x_list),1))\n",
    "yy = np.array(y_list).reshape((len(y_list),1))\n",
    "del x_list,y_list\n",
    "arr = np.hstack((xx,yy))\n",
    "del xx, yy\n",
    "arr -= np.mean(arr,axis=0).astype(int)\n",
    "mini = np.min(arr,axis=0)\n",
    "arr -= mini.astype(int) # subtract the min to translate the mask "
   ]
  },
  {
   "cell_type": "code",
   "execution_count": null,
   "metadata": {},
   "outputs": [],
   "source": [
    "from scipy.sparse import coo_matrix\n",
    "row = np.rint(arr[:,0]).astype(int)\n",
    "col = np.rint(arr[:,1]).astype(int)\n",
    "mtx = coo_matrix((np.ones(row.shape), (row, col)), dtype=bool)"
   ]
  },
  {
   "cell_type": "code",
   "execution_count": null,
   "metadata": {},
   "outputs": [],
   "source": [
    "del arr, row, col"
   ]
  },
  {
   "cell_type": "code",
   "execution_count": null,
   "metadata": {
    "scrolled": false
   },
   "outputs": [],
   "source": [
    "for r0 in range(0,20000,4000):\n",
    "    r0 = r0;rwidth = 1*4000;\n",
    "    c0 = r0;cwidth = 1*4000;\n",
    "    select_row = np.arange(r0,r0+rwidth)\n",
    "    select_col = np.arange(c0,c0+cwidth)\n",
    "    fov = mtx.tocsr()[select_row,:][:,select_col]\n",
    "\n",
    "    plt.figure(figsize=(10,10))\n",
    "    io.imshow(fov.todense(),cmap='gray')\n",
    "    plt.show()"
   ]
  },
  {
   "cell_type": "code",
   "execution_count": null,
   "metadata": {},
   "outputs": [],
   "source": [
    "mtx.nonzero()"
   ]
  }
 ],
 "metadata": {
  "kernelspec": {
   "display_name": "Python 3",
   "language": "python",
   "name": "python3"
  },
  "language_info": {
   "codemirror_mode": {
    "name": "ipython",
    "version": 3
   },
   "file_extension": ".py",
   "mimetype": "text/x-python",
   "name": "python",
   "nbconvert_exporter": "python",
   "pygments_lexer": "ipython3",
   "version": "3.7.4"
  }
 },
 "nbformat": 4,
 "nbformat_minor": 2
}
