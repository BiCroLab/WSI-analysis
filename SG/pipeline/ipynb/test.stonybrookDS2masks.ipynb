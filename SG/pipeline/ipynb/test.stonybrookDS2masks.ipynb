{
 "cells": [
  {
   "cell_type": "code",
   "execution_count": 1,
   "metadata": {},
   "outputs": [],
   "source": [
    "import sys  \n",
    "sys.path.insert(0, '../py')\n",
    "from graviti import *\n",
    "\n",
    "import json\n",
    "import numpy as np\n",
    "from skimage.draw import polygon\n",
    "from skimage import io\n",
    "from matplotlib import pyplot as plt\n",
    "import glob\n",
    "import pandas as pd\n",
    "import os\n",
    "from scipy.sparse import coo_matrix\n",
    "from skimage.measure import label, regionprops#, regionprops_table\n",
    "import math"
   ]
  },
  {
   "cell_type": "code",
   "execution_count": 2,
   "metadata": {},
   "outputs": [],
   "source": [
    "sample = '/home/garner1/Downloads/TCGA-O1-A52J-01Z-00-DX1.26F6ECCA-D614-4950-98E6-4D76E82F71B4.svs/luad_polygon/TCGA-O1-A52J-01Z-00-DX1.26F6ECCA-D614-4950-98E6-4D76E82F71B4.svs'\n",
    "patchlist = glob.glob(sample+'/*.csv')"
   ]
  },
  {
   "cell_type": "code",
   "execution_count": null,
   "metadata": {
    "scrolled": false
   },
   "outputs": [],
   "source": [
    "x_list = []\n",
    "y_list = []\n",
    "features = ['centroid_x','centroid_y','area','eccentricity','orientation','perimeter','solidity']\n",
    "data = pd.DataFrame(columns = features) # create empty df to store morphometrics\n",
    "cells = 0\n",
    "counter = 0\n",
    "for filename in patchlist[:]: # loop over patches\n",
    "    df = pd.read_csv(filename)\n",
    "    if ~df.empty:\n",
    "        cc0 = float(os.path.basename(filename).split(sep='_')[0])\n",
    "        rr0 = float(os.path.basename(filename).split(sep='_')[1] )\n",
    "\n",
    "        cells += df['Polygon'].shape[0] # update cell count\n",
    "        counter += 1; print(counter)\n",
    "        \n",
    "        for cell in df['Polygon'].tolist()[:]: # loop over cells in patch\n",
    "            lista = list(np.fromstring(cell[1:-1], dtype=float, sep=':')) #list of vertices in polygon\n",
    "            cc = lista[0::2] # list of x coord of each polygon vertex\n",
    "            rr = lista[1::2] # list of y coord of each polygon verted\n",
    "            poly = np.asarray(list(zip(cc,rr)))\n",
    "            mean = poly.mean(axis=0) \n",
    "            poly -= mean \n",
    "            # create the nuclear mask\n",
    "            mask = np.zeros(tuple(np.ceil(np.max(poly,axis=0) - np.min(poly,axis=0)).astype(int))).astype(int) # build an empty mask spanning the support of the polygon\n",
    "            mini = np.min(poly,axis=0)\n",
    "            poly -= mini # subtract the min to translate the mask \n",
    "            cc, rr = polygon(poly[:, 0], poly[:, 1], mask.shape) # get the nonzero mask locations\n",
    "            mask[cc, rr] = 1 # nonzero pixel entries\n",
    "            # rescale back to original coordinates\n",
    "            rr = rr.astype(float);cc = cc.astype(float)\n",
    "            rr += mini[0]; cc += mini[1]\n",
    "            rr += mean[0]; cc += mean[1]\n",
    "            rr += rr0; cc += cc0\n",
    "            # !!!You need to calculate the morphometric features excluding peripheral cells!!!\n",
    "            \n",
    "            # update the list of nonzero pixel entries\n",
    "            # There is not need to build a very large mask\n",
    "            #x_list.extend( [int(n) for n in list(rr)] ) \n",
    "            #y_list.extend( [int(n) for n in list(cc)] )\n",
    "            \n",
    "            label_mask = label(mask)\n",
    "            regions = regionprops(label_mask, coordinates='rc')\n",
    "            \n",
    "            #fig, ax = plt.subplots(figsize=(5,5))\n",
    "            #ax.imshow(mask, cmap=plt.cm.gray)\n",
    "            #plt.show()\n",
    "            \n",
    "            dicts = {}\n",
    "            keys = features\n",
    "            for i in keys:\n",
    "                if i == 'centroid_x':\n",
    "                    dicts[i] = regions[0]['centroid'][0]\n",
    "                elif i == 'centroid_y':\n",
    "                    dicts[i] = regions[0]['centroid'][1]\n",
    "                else:\n",
    "                    dicts[i] = regions[0][i]\n",
    "            # update morphometrics data \n",
    "            new_df = pd.DataFrame(dicts, index=[0])\n",
    "            data = data.append(new_df, ignore_index=True)\n",
    "            "
   ]
  },
  {
   "cell_type": "code",
   "execution_count": null,
   "metadata": {},
   "outputs": [],
   "source": [
    "def process_patch_of_polygons(filename,features): # given the patch filename, generate morphometrics\n",
    "    data = pd.DataFrame(columns = features) # create empty df to store morphometrics\n",
    "    df = pd.read_csv(filename)\n",
    "    if ~df.empty:\n",
    "        cc0 = float(os.path.basename(filename).split(sep='_')[0])\n",
    "        rr0 = float(os.path.basename(filename).split(sep='_')[1] )\n",
    "\n",
    "        for cell in df['Polygon'].tolist()[:]: # loop over cells in patch\n",
    "            lista = list(np.fromstring(cell[1:-1], dtype=float, sep=':')) #list of vertices in polygon\n",
    "            cc = lista[0::2] # list of x coord of each polygon vertex\n",
    "            rr = lista[1::2] # list of y coord of each polygon verted\n",
    "            poly = np.asarray(list(zip(cc,rr)))\n",
    "            mean = poly.mean(axis=0) \n",
    "            poly -= mean \n",
    "            # create the nuclear mask\n",
    "            mask = np.zeros(tuple(np.ceil(np.max(poly,axis=0) - np.min(poly,axis=0)).astype(int))).astype(int) # build an empty mask spanning the support of the polygon\n",
    "            mini = np.min(poly,axis=0)\n",
    "            poly -= mini # subtract the min to translate the mask \n",
    "            cc, rr = polygon(poly[:, 0], poly[:, 1], mask.shape) # get the nonzero mask locations\n",
    "            mask[cc, rr] = 1 # nonzero pixel entries\n",
    "            \n",
    "            # rescale back to original coordinates\n",
    "            rr = rr.astype(float);cc = cc.astype(float)\n",
    "            rr += mini[0]; cc += mini[1]\n",
    "            rr += mean[0]; cc += mean[1]\n",
    "            rr += rr0; cc += cc0\n",
    "            \n",
    "            label_mask = label(mask)\n",
    "            regions = regionprops(label_mask, coordinates='rc')\n",
    "            \n",
    "            #fig, ax = plt.subplots(figsize=(5,5))\n",
    "            #ax.imshow(mask, cmap=plt.cm.gray)\n",
    "            #plt.show()\n",
    "            \n",
    "            dicts = {}\n",
    "            keys = features\n",
    "            for i in keys:\n",
    "                if i == 'centroid_x':\n",
    "                    dicts[i] = regions[0]['centroid'][0]\n",
    "                elif i == 'centroid_y':\n",
    "                    dicts[i] = regions[0]['centroid'][1]\n",
    "                else:\n",
    "                    dicts[i] = regions[0][i]\n",
    "            # update morphometrics data \n",
    "            new_df = pd.DataFrame(dicts, index=[0])\n",
    "            data = data.append(new_df, ignore_index=True)\n",
    "    data.to_pickle(filename+'.morphometrics.pkl')\n",
    "    return "
   ]
  },
  {
   "cell_type": "code",
   "execution_count": 3,
   "metadata": {},
   "outputs": [
    {
     "name": "stderr",
     "output_type": "stream",
     "text": [
      "  7%|▋         | 29/400 [01:47<20:02,  3.24s/it]"
     ]
    },
    {
     "ename": "KeyboardInterrupt",
     "evalue": "",
     "output_type": "error",
     "traceback": [
      "\u001b[0;31m---------------------------------------------------------------------------\u001b[0m",
      "\u001b[0;31mKeyboardInterrupt\u001b[0m                         Traceback (most recent call last)",
      "\u001b[0;32m<ipython-input-3-f4ab0d25de77>\u001b[0m in \u001b[0;36m<module>\u001b[0;34m\u001b[0m\n\u001b[1;32m      9\u001b[0m \u001b[0mnum_cores\u001b[0m \u001b[0;34m=\u001b[0m \u001b[0mmultiprocessing\u001b[0m\u001b[0;34m.\u001b[0m\u001b[0mcpu_count\u001b[0m\u001b[0;34m(\u001b[0m\u001b[0;34m)\u001b[0m \u001b[0;31m# numb of cores\u001b[0m\u001b[0;34m\u001b[0m\u001b[0;34m\u001b[0m\u001b[0m\n\u001b[1;32m     10\u001b[0m output = Parallel(n_jobs=num_cores)(\n\u001b[0;32m---> 11\u001b[0;31m     \u001b[0mdelayed\u001b[0m\u001b[0;34m(\u001b[0m\u001b[0mprocess_patch_of_polygons\u001b[0m\u001b[0;34m)\u001b[0m\u001b[0;34m(\u001b[0m\u001b[0mfilename\u001b[0m\u001b[0;34m,\u001b[0m\u001b[0mfeatures\u001b[0m\u001b[0;34m)\u001b[0m \u001b[0;32mfor\u001b[0m \u001b[0mfilename\u001b[0m \u001b[0;32min\u001b[0m \u001b[0mtqdm\u001b[0m\u001b[0;34m(\u001b[0m\u001b[0mpatchlist\u001b[0m\u001b[0;34m[\u001b[0m\u001b[0;34m:\u001b[0m\u001b[0;34m]\u001b[0m\u001b[0;34m)\u001b[0m \u001b[0;32mif\u001b[0m \u001b[0;34m~\u001b[0m\u001b[0mpd\u001b[0m\u001b[0;34m.\u001b[0m\u001b[0mread_csv\u001b[0m\u001b[0;34m(\u001b[0m\u001b[0mfilename\u001b[0m\u001b[0;34m)\u001b[0m\u001b[0;34m.\u001b[0m\u001b[0mempty\u001b[0m\u001b[0;34m\u001b[0m\u001b[0;34m\u001b[0m\u001b[0m\n\u001b[0m\u001b[1;32m     12\u001b[0m     )\n",
      "\u001b[0;32m~/miniconda3/lib/python3.7/site-packages/joblib/parallel.py\u001b[0m in \u001b[0;36m__call__\u001b[0;34m(self, iterable)\u001b[0m\n\u001b[1;32m   1014\u001b[0m \u001b[0;34m\u001b[0m\u001b[0m\n\u001b[1;32m   1015\u001b[0m             \u001b[0;32mwith\u001b[0m \u001b[0mself\u001b[0m\u001b[0;34m.\u001b[0m\u001b[0m_backend\u001b[0m\u001b[0;34m.\u001b[0m\u001b[0mretrieval_context\u001b[0m\u001b[0;34m(\u001b[0m\u001b[0;34m)\u001b[0m\u001b[0;34m:\u001b[0m\u001b[0;34m\u001b[0m\u001b[0;34m\u001b[0m\u001b[0m\n\u001b[0;32m-> 1016\u001b[0;31m                 \u001b[0mself\u001b[0m\u001b[0;34m.\u001b[0m\u001b[0mretrieve\u001b[0m\u001b[0;34m(\u001b[0m\u001b[0;34m)\u001b[0m\u001b[0;34m\u001b[0m\u001b[0;34m\u001b[0m\u001b[0m\n\u001b[0m\u001b[1;32m   1017\u001b[0m             \u001b[0;31m# Make sure that we get a last message telling us we are done\u001b[0m\u001b[0;34m\u001b[0m\u001b[0;34m\u001b[0m\u001b[0;34m\u001b[0m\u001b[0m\n\u001b[1;32m   1018\u001b[0m             \u001b[0melapsed_time\u001b[0m \u001b[0;34m=\u001b[0m \u001b[0mtime\u001b[0m\u001b[0;34m.\u001b[0m\u001b[0mtime\u001b[0m\u001b[0;34m(\u001b[0m\u001b[0;34m)\u001b[0m \u001b[0;34m-\u001b[0m \u001b[0mself\u001b[0m\u001b[0;34m.\u001b[0m\u001b[0m_start_time\u001b[0m\u001b[0;34m\u001b[0m\u001b[0;34m\u001b[0m\u001b[0m\n",
      "\u001b[0;32m~/miniconda3/lib/python3.7/site-packages/joblib/parallel.py\u001b[0m in \u001b[0;36mretrieve\u001b[0;34m(self)\u001b[0m\n\u001b[1;32m    906\u001b[0m             \u001b[0;32mtry\u001b[0m\u001b[0;34m:\u001b[0m\u001b[0;34m\u001b[0m\u001b[0;34m\u001b[0m\u001b[0m\n\u001b[1;32m    907\u001b[0m                 \u001b[0;32mif\u001b[0m \u001b[0mgetattr\u001b[0m\u001b[0;34m(\u001b[0m\u001b[0mself\u001b[0m\u001b[0;34m.\u001b[0m\u001b[0m_backend\u001b[0m\u001b[0;34m,\u001b[0m \u001b[0;34m'supports_timeout'\u001b[0m\u001b[0;34m,\u001b[0m \u001b[0;32mFalse\u001b[0m\u001b[0;34m)\u001b[0m\u001b[0;34m:\u001b[0m\u001b[0;34m\u001b[0m\u001b[0;34m\u001b[0m\u001b[0m\n\u001b[0;32m--> 908\u001b[0;31m                     \u001b[0mself\u001b[0m\u001b[0;34m.\u001b[0m\u001b[0m_output\u001b[0m\u001b[0;34m.\u001b[0m\u001b[0mextend\u001b[0m\u001b[0;34m(\u001b[0m\u001b[0mjob\u001b[0m\u001b[0;34m.\u001b[0m\u001b[0mget\u001b[0m\u001b[0;34m(\u001b[0m\u001b[0mtimeout\u001b[0m\u001b[0;34m=\u001b[0m\u001b[0mself\u001b[0m\u001b[0;34m.\u001b[0m\u001b[0mtimeout\u001b[0m\u001b[0;34m)\u001b[0m\u001b[0;34m)\u001b[0m\u001b[0;34m\u001b[0m\u001b[0;34m\u001b[0m\u001b[0m\n\u001b[0m\u001b[1;32m    909\u001b[0m                 \u001b[0;32melse\u001b[0m\u001b[0;34m:\u001b[0m\u001b[0;34m\u001b[0m\u001b[0;34m\u001b[0m\u001b[0m\n\u001b[1;32m    910\u001b[0m                     \u001b[0mself\u001b[0m\u001b[0;34m.\u001b[0m\u001b[0m_output\u001b[0m\u001b[0;34m.\u001b[0m\u001b[0mextend\u001b[0m\u001b[0;34m(\u001b[0m\u001b[0mjob\u001b[0m\u001b[0;34m.\u001b[0m\u001b[0mget\u001b[0m\u001b[0;34m(\u001b[0m\u001b[0;34m)\u001b[0m\u001b[0;34m)\u001b[0m\u001b[0;34m\u001b[0m\u001b[0;34m\u001b[0m\u001b[0m\n",
      "\u001b[0;32m~/miniconda3/lib/python3.7/site-packages/joblib/_parallel_backends.py\u001b[0m in \u001b[0;36mwrap_future_result\u001b[0;34m(future, timeout)\u001b[0m\n\u001b[1;32m    552\u001b[0m         AsyncResults.get from multiprocessing.\"\"\"\n\u001b[1;32m    553\u001b[0m         \u001b[0;32mtry\u001b[0m\u001b[0;34m:\u001b[0m\u001b[0;34m\u001b[0m\u001b[0;34m\u001b[0m\u001b[0m\n\u001b[0;32m--> 554\u001b[0;31m             \u001b[0;32mreturn\u001b[0m \u001b[0mfuture\u001b[0m\u001b[0;34m.\u001b[0m\u001b[0mresult\u001b[0m\u001b[0;34m(\u001b[0m\u001b[0mtimeout\u001b[0m\u001b[0;34m=\u001b[0m\u001b[0mtimeout\u001b[0m\u001b[0;34m)\u001b[0m\u001b[0;34m\u001b[0m\u001b[0;34m\u001b[0m\u001b[0m\n\u001b[0m\u001b[1;32m    555\u001b[0m         \u001b[0;32mexcept\u001b[0m \u001b[0mLokyTimeoutError\u001b[0m\u001b[0;34m:\u001b[0m\u001b[0;34m\u001b[0m\u001b[0;34m\u001b[0m\u001b[0m\n\u001b[1;32m    556\u001b[0m             \u001b[0;32mraise\u001b[0m \u001b[0mTimeoutError\u001b[0m\u001b[0;34m(\u001b[0m\u001b[0;34m)\u001b[0m\u001b[0;34m\u001b[0m\u001b[0;34m\u001b[0m\u001b[0m\n",
      "\u001b[0;32m~/miniconda3/lib/python3.7/concurrent/futures/_base.py\u001b[0m in \u001b[0;36mresult\u001b[0;34m(self, timeout)\u001b[0m\n\u001b[1;32m    428\u001b[0m                 \u001b[0;32mreturn\u001b[0m \u001b[0mself\u001b[0m\u001b[0;34m.\u001b[0m\u001b[0m__get_result\u001b[0m\u001b[0;34m(\u001b[0m\u001b[0;34m)\u001b[0m\u001b[0;34m\u001b[0m\u001b[0;34m\u001b[0m\u001b[0m\n\u001b[1;32m    429\u001b[0m \u001b[0;34m\u001b[0m\u001b[0m\n\u001b[0;32m--> 430\u001b[0;31m             \u001b[0mself\u001b[0m\u001b[0;34m.\u001b[0m\u001b[0m_condition\u001b[0m\u001b[0;34m.\u001b[0m\u001b[0mwait\u001b[0m\u001b[0;34m(\u001b[0m\u001b[0mtimeout\u001b[0m\u001b[0;34m)\u001b[0m\u001b[0;34m\u001b[0m\u001b[0;34m\u001b[0m\u001b[0m\n\u001b[0m\u001b[1;32m    431\u001b[0m \u001b[0;34m\u001b[0m\u001b[0m\n\u001b[1;32m    432\u001b[0m             \u001b[0;32mif\u001b[0m \u001b[0mself\u001b[0m\u001b[0;34m.\u001b[0m\u001b[0m_state\u001b[0m \u001b[0;32min\u001b[0m \u001b[0;34m[\u001b[0m\u001b[0mCANCELLED\u001b[0m\u001b[0;34m,\u001b[0m \u001b[0mCANCELLED_AND_NOTIFIED\u001b[0m\u001b[0;34m]\u001b[0m\u001b[0;34m:\u001b[0m\u001b[0;34m\u001b[0m\u001b[0;34m\u001b[0m\u001b[0m\n",
      "\u001b[0;32m~/miniconda3/lib/python3.7/threading.py\u001b[0m in \u001b[0;36mwait\u001b[0;34m(self, timeout)\u001b[0m\n\u001b[1;32m    294\u001b[0m         \u001b[0;32mtry\u001b[0m\u001b[0;34m:\u001b[0m    \u001b[0;31m# restore state no matter what (e.g., KeyboardInterrupt)\u001b[0m\u001b[0;34m\u001b[0m\u001b[0;34m\u001b[0m\u001b[0m\n\u001b[1;32m    295\u001b[0m             \u001b[0;32mif\u001b[0m \u001b[0mtimeout\u001b[0m \u001b[0;32mis\u001b[0m \u001b[0;32mNone\u001b[0m\u001b[0;34m:\u001b[0m\u001b[0;34m\u001b[0m\u001b[0;34m\u001b[0m\u001b[0m\n\u001b[0;32m--> 296\u001b[0;31m                 \u001b[0mwaiter\u001b[0m\u001b[0;34m.\u001b[0m\u001b[0macquire\u001b[0m\u001b[0;34m(\u001b[0m\u001b[0;34m)\u001b[0m\u001b[0;34m\u001b[0m\u001b[0;34m\u001b[0m\u001b[0m\n\u001b[0m\u001b[1;32m    297\u001b[0m                 \u001b[0mgotit\u001b[0m \u001b[0;34m=\u001b[0m \u001b[0;32mTrue\u001b[0m\u001b[0;34m\u001b[0m\u001b[0;34m\u001b[0m\u001b[0m\n\u001b[1;32m    298\u001b[0m             \u001b[0;32melse\u001b[0m\u001b[0;34m:\u001b[0m\u001b[0;34m\u001b[0m\u001b[0;34m\u001b[0m\u001b[0m\n",
      "\u001b[0;31mKeyboardInterrupt\u001b[0m: "
     ]
    }
   ],
   "source": [
    "import timeit\n",
    "import multiprocessing\n",
    "from joblib import Parallel, delayed\n",
    "from datetime import datetime\n",
    "from tqdm import tqdm\n",
    "\n",
    "features = ['centroid_x','centroid_y','area','eccentricity','orientation','perimeter','solidity']\n",
    "\n",
    "num_cores = multiprocessing.cpu_count() # numb of cores\n",
    "output = Parallel(n_jobs=num_cores)(\n",
    "    delayed(process_patch_of_polygons)(filename,features) for filename in tqdm(patchlist[:]) if ~pd.read_csv(filename).empty\n",
    "    )"
   ]
  },
  {
   "cell_type": "code",
   "execution_count": null,
   "metadata": {},
   "outputs": [],
   "source": [
    "print('The number of cells is: '+str(cells))\n",
    "print(data.shape)"
   ]
  },
  {
   "cell_type": "code",
   "execution_count": null,
   "metadata": {},
   "outputs": [],
   "source": [
    "xx = np.array(x_list).reshape((len(x_list),1))\n",
    "yy = np.array(y_list).reshape((len(y_list),1))\n",
    "del x_list,y_list\n",
    "arr = np.hstack((xx,yy))\n",
    "del xx, yy\n",
    "arr -= np.mean(arr,axis=0).astype(int)\n",
    "mini = np.min(arr,axis=0)\n",
    "arr -= mini.astype(int) # subtract the min to translate the mask "
   ]
  },
  {
   "cell_type": "code",
   "execution_count": null,
   "metadata": {},
   "outputs": [],
   "source": [
    "row = np.rint(arr[:,0]).astype(int)\n",
    "col = np.rint(arr[:,1]).astype(int)\n",
    "mtx = coo_matrix((np.ones(row.shape), (row, col)), dtype=bool)"
   ]
  },
  {
   "cell_type": "code",
   "execution_count": null,
   "metadata": {},
   "outputs": [],
   "source": [
    "del arr, row, col"
   ]
  },
  {
   "cell_type": "code",
   "execution_count": null,
   "metadata": {
    "scrolled": false
   },
   "outputs": [],
   "source": [
    "for r0 in range(0,20000,4000):\n",
    "    r0 = r0;rwidth = 1*4000;\n",
    "    c0 = r0;cwidth = 1*4000;\n",
    "    select_row = np.arange(r0,r0+rwidth)\n",
    "    select_col = np.arange(c0,c0+cwidth)\n",
    "    fov = mtx.tocsr()[select_row,:][:,select_col]\n",
    "\n",
    "    plt.figure(figsize=(10,10))\n",
    "    io.imshow(fov.todense(),cmap='gray')\n",
    "    plt.show()"
   ]
  },
  {
   "cell_type": "code",
   "execution_count": null,
   "metadata": {},
   "outputs": [],
   "source": [
    "mtx.nonzero()"
   ]
  }
 ],
 "metadata": {
  "kernelspec": {
   "display_name": "Python 3",
   "language": "python",
   "name": "python3"
  },
  "language_info": {
   "codemirror_mode": {
    "name": "ipython",
    "version": 3
   },
   "file_extension": ".py",
   "mimetype": "text/x-python",
   "name": "python",
   "nbconvert_exporter": "python",
   "pygments_lexer": "ipython3",
   "version": "3.7.4"
  }
 },
 "nbformat": 4,
 "nbformat_minor": 2
}
