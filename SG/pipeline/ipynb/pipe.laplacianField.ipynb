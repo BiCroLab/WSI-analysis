{
 "cells": [
  {
   "cell_type": "code",
   "execution_count": 4,
   "metadata": {},
   "outputs": [],
   "source": [
    "import sys  \n",
    "sys.path.insert(0, '/home/garner1/pipelines/WSI-analysis/SG/pipeline/py')\n",
    "from graviti import *\n",
    "\n",
    "from numpy.linalg import norm\n",
    "import numpy as np\n",
    "import os\n",
    "import os.path\n",
    "from os import path\n",
    "import sys\n",
    "import glob\n",
    "import h5py\n",
    "import seaborn as sns\n",
    "import matplotlib.pyplot as plt\n",
    "import matplotlib\n",
    "#matplotlib.use('Agg')\n",
    "import plotly.graph_objects as go\n",
    "from plotly.graph_objs import *\n",
    "import plotly.express as px\n",
    "import hdbscan\n",
    "import pandas as pd\n",
    "import umap\n",
    "import networkx as nx\n",
    "from scipy import sparse, linalg\n",
    "import pickle\n",
    "from sklearn.preprocessing import normalize, scale\n",
    "\n",
    "import multiprocessing\n",
    "from joblib import Parallel, delayed\n",
    "\n",
    "\n",
    "import warnings\n",
    "warnings.filterwarnings('ignore')"
   ]
  },
  {
   "cell_type": "code",
   "execution_count": 5,
   "metadata": {},
   "outputs": [],
   "source": [
    "# Plotly contour visualization\n",
    "import plotly.graph_objects as go\n",
    "import pandas as pd\n",
    "import numpy as np\n",
    "def plotlyContourPlot(fdf,filename):\n",
    "    # define the pivot tabel for the contour plot\n",
    "    table = pd.pivot_table(fdf, \n",
    "                           values='field', \n",
    "                           index=['x_bin'],\n",
    "                           columns=['y_bin'],\n",
    "                           aggfunc=np.sum, # take the mean of the entries in the bin\n",
    "                           fill_value=None)\n",
    "    \n",
    "    fig = go.Figure(data=[go.Surface(z=table.values,\n",
    "                                     x=table.columns.values, \n",
    "                                     y=table.index.values,\n",
    "                                     colorscale='Jet')])\n",
    "    fig.update_traces(contours_z=dict(show=True, usecolormap=True,\n",
    "                                  highlightcolor=\"limegreen\", project_z=True))\n",
    "    fig.update_layout(title='test', autosize=True,\n",
    "                      scene_camera_eye=dict(x=1.87, y=0.88, z=-0.64),\n",
    "                      width=1000, height=1000,\n",
    "                      margin=dict(l=65, r=50, b=65, t=90)\n",
    "                    )\n",
    "    fig.show()\n",
    "    return"
   ]
  },
  {
   "cell_type": "code",
   "execution_count": 6,
   "metadata": {},
   "outputs": [],
   "source": [
    "def covd_local(r,A,data,row_idx,col_idx):\n",
    "    mask = row_idx == r         # find nearest neigthbors\n",
    "    cluster = np.append(r,col_idx[mask]) # define the local cluster, its size depends on the local connectivity\n",
    "    C = np.cov(data[cluster,:],rowvar=False)\n",
    "    iu1 = np.triu_indices(C.shape[1])\n",
    "    vec = C[iu1]\n",
    "    return (r,vec)"
   ]
  },
  {
   "cell_type": "code",
   "execution_count": 7,
   "metadata": {},
   "outputs": [],
   "source": [
    "dirname = '../h5/id_52/' # the path to *features.npz files \n",
    "sample = '52' #sys.argv[2]  # the sample id\n",
    "size = 1000 # number of nuclei, use negative value for full set\n",
    "nn = 10 # set the number of nearest neighbor in the umap-graph. Will be used in CovD as well\n",
    "\n",
    "features = ['area',\n",
    "            'perimeter',\n",
    "            'solidity',\n",
    "            'eccentricity',\n",
    "            'circularity',\n",
    "            'mean_intensity',\n",
    "            'cov_intensity']"
   ]
  },
  {
   "cell_type": "code",
   "execution_count": null,
   "metadata": {},
   "outputs": [],
   "source": [
    "counter = 0\n",
    "for f in glob.glob(dirname+'/*features.npz'): # for every fov\n",
    "    counter += 1\n",
    "    if counter == 1:            # set up the data arrays\n",
    "        data = np.load(f,allow_pickle=True)\n",
    "        fov = data['fov']\n",
    "        xy = data['centroids']\n",
    "        morphology = data['morphology']\n",
    "    else:                       # update the data arrays\n",
    "        data = np.load(f,allow_pickle=True)\n",
    "        fov = np.vstack((fov,data['fov']))\n",
    "        xy = np.vstack((xy, data['centroids']))\n",
    "        morphology = np.vstack((morphology, data['morphology']))\n",
    "\n",
    "# Create dataframes with spatial and morphological measurements\n",
    "df_fov = pd.DataFrame(data=fov, columns=['fov_row','fov_col']) # field of view dataframe\n",
    "df_xy = pd.DataFrame(data=xy, columns=['cx','cy'])   # centroid dataframe\n",
    "df_morphology = pd.DataFrame(data=morphology, columns=['area','perimeter','solidity','eccentricity','circularity','mean_intensity','std_intensity'])\n",
    "\n",
    "# Concatenate spatial and morphological dataframes\n",
    "df = pd.concat([df_fov,df_xy, df_morphology],axis=1)"
   ]
  },
  {
   "cell_type": "code",
   "execution_count": null,
   "metadata": {
    "scrolled": true
   },
   "outputs": [],
   "source": [
    "# filter by percentiles in morphologies (hardcoded in function filtering) and introduce coeff. of var\n",
    "if size < 0:\n",
    "    fdf = filtering(df) # filter out extremes in morphology\n",
    "else:\n",
    "    fdf = filtering(df).sample(n=size) # filter out morphological outlyers and subsample nuclei\n",
    "\n",
    "pos = fdf[fdf.columns[2:4]].to_numpy() # Get the positions of centroids \n",
    "\n",
    "# Building the UMAP graph\n",
    "filename = '../py/ID'+str(sample)+'.size'+str(size)+'.nn'+str(nn)+'.graph.npz' # the adj sparse matrix\n",
    "if path.exists(filename):\n",
    "    print('The graph already exists')\n",
    "    A = sparse.load_npz(filename) \n",
    "else:\n",
    "    print('Creating the graph')\n",
    "    A = space2graph(pos,nn)\n",
    "    sparse.save_npz(filename, A)\n",
    "    \n",
    "filename = '../py/ID'+str(sample)+'.size'+str(size)+'.nn'+str(nn)+'.graph.pickle'    # the networkx obj\n",
    "if path.exists(filename):    \n",
    "    print('The network already exists')\n",
    "    G = nx.read_gpickle(filename)\n",
    "else:\n",
    "    print('Creating the network')\n",
    "    G = nx.from_scipy_sparse_matrix(A, edge_attribute='weight')\n",
    "    nx.write_gpickle(G, filename)\n",
    "\n",
    "data = scale(fdf[features].to_numpy(), with_mean=False) #get the morphological data and rescale the data by std \n",
    "    \n",
    "# Parallel generation of the local covd\n",
    "filename = '../py/ID'+str(sample)+'.size'+str(size)+'.nn'+str(nn)+'.descriptor.pickle'    # the descriptor\n",
    "if False:#path.exists(filename):    \n",
    "    print('The descriptor already exists')\n",
    "    descriptor = pickle.load( open( filename, \"rb\" ) )\n",
    "else:\n",
    "    print('Generating the descriptor')\n",
    "    num_cores = multiprocessing.cpu_count() # numb of cores\n",
    "    row_idx, col_idx = A.nonzero() # nonzero entries\n",
    "    processed_list = Parallel(n_jobs=num_cores)(delayed(covd_local)(r,A,data,row_idx,col_idx) \n",
    "                                                            for r in range(A.shape[0])\n",
    "                                                   )\n",
    "\n",
    "    # Construct the descriptor array\n",
    "    descriptor = np.zeros((len(processed_list),processed_list[0][1].shape[0]))\n",
    "    for r in range(len(processed_list)):\n",
    "        descriptor[r,:] = processed_list[r][1] # covd descriptors of the connected nodes\n",
    "    pickle.dump( descriptor, open( filename, \"wb\" ) )\n",
    "    \n",
    "# Construct the local Laplacian\n",
    "L = nx.laplacian_matrix(G, weight='weight') # get the Laplacian matrix\n",
    "delta_descriptor = L.dot(descriptor) # get the local differianted descriptor\n",
    "delta = norm(delta_descriptor,axis=1) # get the norm of the differential field"
   ]
  },
  {
   "cell_type": "code",
   "execution_count": null,
   "metadata": {
    "scrolled": false
   },
   "outputs": [],
   "source": [
    "N = 10 # number of linear bins for the contour visualization\n",
    "\n",
    "# Contour visualization\n",
    "fdf['field'] = delta # define the laplacian field\n",
    "fdf['x_bin'] = pd.cut(fdf['cx'], N, labels=False) # define the x bin label\n",
    "fdf['y_bin'] = pd.cut(fdf['cy'], N, labels=False) # define the y bin label\n",
    "\n",
    "# define the pivot tabel for the contour plot\n",
    "table = pd.pivot_table(fdf, \n",
    "                       values='field', \n",
    "                       index=['x_bin'],\n",
    "                       columns=['y_bin'],\n",
    "                       aggfunc=np.sum, # take the mean of the entries in the bin\n",
    "                       fill_value=None)\n",
    "\n",
    "X=table.columns.values\n",
    "Y=table.index.values\n",
    "Z=table.values\n",
    "Xi,Yi = np.meshgrid(X, Y)\n",
    "\n",
    "fig, ax = plt.subplots(figsize=(10,10))\n",
    "cs = ax.contourf(Yi, Xi, Z, \n",
    "                 alpha=1.0, \n",
    "                 levels=5,\n",
    "                 cmap=plt.cm.Set2);\n",
    "cbar = fig.colorbar(cs)\n",
    "plt.savefig('test_sum.png')"
   ]
  },
  {
   "cell_type": "code",
   "execution_count": null,
   "metadata": {
    "scrolled": false
   },
   "outputs": [],
   "source": [
    " plotlyContourPlot(fdf,filename)"
   ]
  },
  {
   "cell_type": "code",
   "execution_count": null,
   "metadata": {},
   "outputs": [],
   "source": [
    "fdf['field'].plot.hist(bins=N)\n",
    "plt.show()"
   ]
  },
  {
   "cell_type": "code",
   "execution_count": null,
   "metadata": {},
   "outputs": [],
   "source": [
    "count_nuclei = fdf.groupby(['x_bin', 'y_bin']).size().to_numpy()\n",
    "\n",
    "variability = fdf.groupby(['x_bin', 'y_bin'])['field'].mean().to_numpy()\n",
    "\n",
    "test_df = pd.DataFrame(list(zip(count_nuclei, variability)),\n",
    "                  columns=['count','variability'])"
   ]
  },
  {
   "cell_type": "code",
   "execution_count": null,
   "metadata": {},
   "outputs": [],
   "source": [
    "print(test_df.corr(method='pearson'))\n",
    "test_df.plot.scatter(x='count',y='variability')"
   ]
  },
  {
   "cell_type": "code",
   "execution_count": null,
   "metadata": {},
   "outputs": [],
   "source": [
    "fdf.groupby(['x_bin', 'y_bin']).size().plot.hist(bins=N//10)"
   ]
  },
  {
   "cell_type": "code",
   "execution_count": null,
   "metadata": {},
   "outputs": [],
   "source": [
    "fdf.groupby(['x_bin', 'y_bin'])['field'].mean().plot.hist(bins=N//10)"
   ]
  },
  {
   "cell_type": "code",
   "execution_count": null,
   "metadata": {},
   "outputs": [],
   "source": [
    "import plotly.express as px\n",
    "fig = px.scatter(fdf, \n",
    "                 x=\"x_bin\", \n",
    "                 y=\"y_bin\",\n",
    "                 color=\"field\",\n",
    "                 size=fdf['field'],\n",
    "                 opacity=0.5,\n",
    "                 color_continuous_scale=px.colors.sequential.Viridis)\n",
    "fig.update_layout(template='simple_white',\n",
    "                 height=800, width=800)\n",
    "\n",
    "fig.show()"
   ]
  },
  {
   "cell_type": "code",
   "execution_count": null,
   "metadata": {
    "scrolled": false
   },
   "outputs": [],
   "source": [
    "# Build figure\n",
    "fig = go.Figure()\n",
    "\n",
    "# Add scatter trace with medium sized markers\n",
    "fig.add_trace(\n",
    "    go.Scatter(\n",
    "        mode='markers',\n",
    "        x=fdf['x_bin'],\n",
    "        y=fdf['y_bin'],\n",
    "        marker=dict(\n",
    "            color=fdf['field'],\n",
    "            size=fdf['field'],\n",
    "            opacity=0.5,\n",
    "        ),\n",
    "        showlegend=False\n",
    "    )\n",
    ")\n",
    "fig.update_layout(template='simple_white',\n",
    "                 height=500, width=500)\n",
    "fig.show()"
   ]
  }
 ],
 "metadata": {
  "kernelspec": {
   "display_name": "Python 3",
   "language": "python",
   "name": "python3"
  },
  "language_info": {
   "codemirror_mode": {
    "name": "ipython",
    "version": 3
   },
   "file_extension": ".py",
   "mimetype": "text/x-python",
   "name": "python",
   "nbconvert_exporter": "python",
   "pygments_lexer": "ipython3",
   "version": "3.7.4"
  }
 },
 "nbformat": 4,
 "nbformat_minor": 2
}
