{
 "cells": [
  {
   "cell_type": "code",
   "execution_count": 1,
   "metadata": {},
   "outputs": [],
   "source": [
    "import sys  \n",
    "sys.path.insert(0, '../py')\n",
    "from graviti import *\n",
    "\n",
    "from numpy.linalg import norm\n",
    "import numpy as np\n",
    "import os\n",
    "import os.path\n",
    "from os import path\n",
    "import sys\n",
    "import glob\n",
    "import h5py\n",
    "import seaborn as sns\n",
    "import matplotlib.pyplot as plt\n",
    "import matplotlib\n",
    "#matplotlib.use('Agg')\n",
    "import plotly.graph_objects as go\n",
    "from plotly.graph_objs import *\n",
    "import plotly.express as px\n",
    "import hdbscan\n",
    "import pandas as pd\n",
    "import umap\n",
    "import networkx as nx\n",
    "from scipy import sparse, linalg\n",
    "import pickle\n",
    "from sklearn.preprocessing import normalize, scale\n",
    "from scipy.sparse import find\n",
    "from numpy.linalg import norm\n",
    "import timeit\n",
    "import multiprocessing\n",
    "from joblib import Parallel, delayed\n",
    "from datetime import datetime\n",
    "from tqdm import tqdm\n",
    "\n",
    "import warnings\n",
    "warnings.filterwarnings('ignore')"
   ]
  },
  {
   "cell_type": "code",
   "execution_count": 2,
   "metadata": {},
   "outputs": [],
   "source": [
    "dirname = '../h5/id_52/' # the path to *features.npz files \n",
    "#dirname = '../data/id_52/' # the path to *features.npz files \n",
    "sample = '52' #sys.argv[2]  # the sample id\n",
    "size = 100000 # number of nuclei, use negative value for full set\n",
    "nn = 10 # set the number of nearest neighbor in the umap-graph. Will be used in CovD as well\n",
    "\n",
    "features = ['area',\n",
    "            'perimeter',\n",
    "            'solidity',\n",
    "            'eccentricity',\n",
    "            'circularity',\n",
    "            'mean_intensity',\n",
    "            'cov_intensity']"
   ]
  },
  {
   "cell_type": "code",
   "execution_count": 3,
   "metadata": {},
   "outputs": [],
   "source": [
    "counter = 0\n",
    "for f in glob.glob(dirname+'/*features.npz'): # for every fov\n",
    "    counter += 1\n",
    "    if counter == 1:            # set up the data arrays\n",
    "        data = np.load(f,allow_pickle=True)\n",
    "        fov = data['fov']\n",
    "        xy = data['centroids']\n",
    "        morphology = data['morphology']\n",
    "    else:                       # update the data arrays\n",
    "        data = np.load(f,allow_pickle=True)\n",
    "        fov = np.vstack((fov,data['fov']))\n",
    "        xy = np.vstack((xy, data['centroids']))\n",
    "        morphology = np.vstack((morphology, data['morphology']))\n",
    "\n",
    "# Create dataframes with spatial and morphological measurements\n",
    "df_fov = pd.DataFrame(data=fov, columns=['fov_row','fov_col']) # field of view dataframe\n",
    "df_xy = pd.DataFrame(data=xy, columns=['cx','cy'])   # centroid dataframe\n",
    "df_morphology = pd.DataFrame(data=morphology, columns=['area','perimeter','solidity','eccentricity','circularity','mean_intensity','std_intensity'])\n",
    "\n",
    "# Concatenate spatial and morphological dataframes\n",
    "df = pd.concat([df_fov,df_xy, df_morphology],axis=1)"
   ]
  },
  {
   "cell_type": "code",
   "execution_count": 4,
   "metadata": {},
   "outputs": [
    {
     "name": "stdout",
     "output_type": "stream",
     "text": [
      "The graph already exists\n"
     ]
    },
    {
     "name": "stderr",
     "output_type": "stream",
     "text": [
      "\r",
      "  0%|          | 0/100000 [00:00<?, ?it/s]"
     ]
    },
    {
     "name": "stdout",
     "output_type": "stream",
     "text": [
      "Generating the descriptor\n"
     ]
    },
    {
     "name": "stderr",
     "output_type": "stream",
     "text": [
      "100%|██████████| 100000/100000 [03:34<00:00, 466.97it/s]\n",
      "  0%|          | 0/100000 [00:00<?, ?it/s]"
     ]
    },
    {
     "name": "stdout",
     "output_type": "stream",
     "text": [
      "Generating the diversity index\n"
     ]
    },
    {
     "name": "stderr",
     "output_type": "stream",
     "text": [
      "100%|██████████| 100000/100000 [01:10<00:00, 1426.21it/s]\n"
     ]
    }
   ],
   "source": [
    "# filter by percentiles in morphologies (hardcoded in function filtering) and introduce coeff. of var\n",
    "if size == 0:\n",
    "    fdf = filtering(df) # filter out extremes in morphology\n",
    "else:\n",
    "    fdf = filtering(df).sample(n=size) # filter out morphological outlyers and subsample nuclei\n",
    "\n",
    "pos = fdf[fdf.columns[2:4]].to_numpy() # Get the positions of centroids \n",
    "\n",
    "# Building the UMAP graph\n",
    "filename = '../py/ID'+str(sample)+'.size'+str(size)+'.nn'+str(nn)+'.graph.npz' # the adj sparse matrix\n",
    "if path.exists(filename):\n",
    "    print('The graph already exists')\n",
    "    A = sparse.load_npz(filename) \n",
    "else:\n",
    "    print('Creating the graph')\n",
    "    A = space2graph(pos,nn)\n",
    "    sparse.save_npz(filename, A)\n",
    "    \n",
    "# Parallel generation of the local covd\n",
    "data = scale(fdf[features].to_numpy(), with_mean=False) #get the morphological data and rescale the data by std \n",
    "\n",
    "# Get info about the graph\n",
    "row_idx, col_idx, values = find(A) #A.nonzero() # nonzero entries\n",
    "\n",
    "# Get numb of cores\n",
    "num_cores = multiprocessing.cpu_count() # numb of cores\n",
    "    \n",
    "print('Generating the descriptor')\n",
    "processed_list = Parallel(n_jobs=num_cores)(delayed(covd_parallel)(node,data,row_idx,col_idx) \n",
    "                                                            for node in tqdm(range(A.shape[0]))\n",
    "                                                   )\n",
    "\n",
    "# Construct the descriptor array\n",
    "descriptor = np.zeros((len(processed_list),processed_list[0][1].shape[0]))\n",
    "for r in range(len(processed_list)):\n",
    "    descriptor[r,:] = processed_list[r][1] # covd descriptors of the connected nodes\n",
    "print('Generating the diversity index')\n",
    "fdf['diversity'] = Parallel(n_jobs=num_cores)(delayed(covd_gradient_parallel)(node,\n",
    "                                                                          descriptor,\n",
    "                                                                          row_idx,col_idx,values) \n",
    "                               for node in tqdm(range(data.shape[0])))"
   ]
  },
  {
   "cell_type": "code",
   "execution_count": 5,
   "metadata": {
    "scrolled": false
   },
   "outputs": [
    {
     "data": {
      "image/png": "[encoded data removed]",
      "text/plain": [
       "<Figure size 720x720 with 2 Axes>"
      ]
     },
     "metadata": {
      "needs_background": "light"
     },
     "output_type": "display_data"
    }
   ],
   "source": [
    "N = 100 # number of linear bins for the contour visualization\n",
    "\n",
    "# Contour visualization\n",
    "fdf['x_bin'] = pd.cut(fdf['cx'], N, labels=False) # define the x bin label\n",
    "fdf['y_bin'] = pd.cut(fdf['cy'], N, labels=False) # define the y bin label\n",
    "\n",
    "# define the pivot tabel for the contour plot\n",
    "table = pd.pivot_table(fdf, \n",
    "                       values='diversity', \n",
    "                       index=['x_bin'],\n",
    "                       columns=['y_bin'],\n",
    "                       aggfunc=np.sum, # take the mean of the entries in the bin\n",
    "                       fill_value=None)\n",
    "\n",
    "X=table.columns.values\n",
    "Y=table.index.values\n",
    "Z=table.values\n",
    "Xi,Yi = np.meshgrid(X, Y)\n",
    "\n",
    "fig, ax = plt.subplots(figsize=(10,10))\n",
    "cs = ax.contourf(Yi, Xi, Z, \n",
    "                 alpha=1.0, \n",
    "                 levels=5,\n",
    "                 cmap=plt.cm.viridis);\n",
    "cbar = fig.colorbar(cs)\n",
    "plt.savefig('test_sum.png')"
   ]
  },
  {
   "cell_type": "code",
   "execution_count": null,
   "metadata": {
    "scrolled": false
   },
   "outputs": [],
   "source": [
    " plotlyContourPlot(fdf,filename)"
   ]
  },
  {
   "cell_type": "code",
   "execution_count": null,
   "metadata": {},
   "outputs": [],
   "source": [
    "fdf['field'].plot.hist(bins=N)\n",
    "plt.show()"
   ]
  },
  {
   "cell_type": "code",
   "execution_count": null,
   "metadata": {},
   "outputs": [],
   "source": [
    "count_nuclei = fdf.groupby(['x_bin', 'y_bin']).size().to_numpy()\n",
    "\n",
    "variability = fdf.groupby(['x_bin', 'y_bin'])['field'].sum().to_numpy()\n",
    "\n",
    "test_df = pd.DataFrame(list(zip(count_nuclei, variability)),\n",
    "                  columns=['count','variability'])"
   ]
  },
  {
   "cell_type": "code",
   "execution_count": null,
   "metadata": {},
   "outputs": [],
   "source": [
    "print(test_df.corr(method='pearson'))\n",
    "test_df.plot.scatter(x='count',y='variability')"
   ]
  },
  {
   "cell_type": "code",
   "execution_count": null,
   "metadata": {},
   "outputs": [],
   "source": [
    "fdf.groupby(['x_bin', 'y_bin']).size().plot.hist(bins=N//10)"
   ]
  },
  {
   "cell_type": "code",
   "execution_count": null,
   "metadata": {},
   "outputs": [],
   "source": [
    "fdf.groupby(['x_bin', 'y_bin'])['field'].mean().plot.hist(bins=N//10)"
   ]
  },
  {
   "cell_type": "code",
   "execution_count": null,
   "metadata": {},
   "outputs": [],
   "source": [
    "import plotly.express as px\n",
    "fig = px.scatter(fdf, \n",
    "                 x=\"x_bin\", \n",
    "                 y=\"y_bin\",\n",
    "                 color=\"field\",\n",
    "                 #size=1,\n",
    "                 opacity=0.5,\n",
    "                 color_continuous_scale=px.colors.sequential.Viridis)\n",
    "fig.update_layout(template='simple_white',\n",
    "                 height=800, width=800)\n",
    "\n",
    "fig.show()"
   ]
  },
  {
   "cell_type": "code",
   "execution_count": null,
   "metadata": {
    "scrolled": false
   },
   "outputs": [],
   "source": [
    "# Build figure\n",
    "fig = go.Figure()\n",
    "\n",
    "# Add scatter trace with medium sized markers\n",
    "fig.add_trace(\n",
    "    go.Scatter(\n",
    "        mode='markers',\n",
    "        x=fdf['x_bin'],\n",
    "        y=fdf['y_bin'],\n",
    "        marker=dict(\n",
    "            color=fdf['field'],\n",
    "            size=fdf['field'],\n",
    "            opacity=0.5,\n",
    "        ),\n",
    "        showlegend=False\n",
    "    )\n",
    ")\n",
    "fig.update_layout(template='simple_white',\n",
    "                 height=500, width=500)\n",
    "fig.show()"
   ]
  },
  {
   "cell_type": "code",
   "execution_count": null,
   "metadata": {},
   "outputs": [],
   "source": []
  }
 ],
 "metadata": {
  "kernelspec": {
   "display_name": "Python 3",
   "language": "python",
   "name": "python3"
  },
  "language_info": {
   "codemirror_mode": {
    "name": "ipython",
    "version": 3
   },
   "file_extension": ".py",
   "mimetype": "text/x-python",
   "name": "python",
   "nbconvert_exporter": "python",
   "pygments_lexer": "ipython3",
   "version": "3.7.4"
  }
 },
 "nbformat": 4,
 "nbformat_minor": 2
}
