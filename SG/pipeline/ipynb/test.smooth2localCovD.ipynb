{
 "cells": [
  {
   "cell_type": "code",
   "execution_count": 70,
   "metadata": {},
   "outputs": [],
   "source": [
    "import numpy as np\n",
    "import os\n",
    "import os.path\n",
    "from os import path\n",
    "import sys\n",
    "import glob\n",
    "import h5py\n",
    "import seaborn as sns\n",
    "import matplotlib.pyplot as plt\n",
    "import plotly.graph_objects as go\n",
    "from plotly.graph_objs import *\n",
    "import plotly.express as px\n",
    "import hdbscan\n",
    "import pandas as pd\n",
    "import umap\n",
    "from graviti import *\n",
    "import networkx as nx\n",
    "from scipy import sparse, linalg\n",
    "import warnings\n",
    "warnings.filterwarnings('ignore')"
   ]
  },
  {
   "cell_type": "code",
   "execution_count": 71,
   "metadata": {},
   "outputs": [],
   "source": [
    "def clustering(embedding,min_cluster_size,min_samples,plot_tree):\n",
    "    clusterer = hdbscan.HDBSCAN(min_samples=min_samples, \n",
    "                                min_cluster_size=min_cluster_size, \n",
    "                                gen_min_span_tree=True)\n",
    "    clusterer.fit(embedding) #cluster positions\n",
    "    if plot_tree:\n",
    "        clusterer.condensed_tree_.plot(select_clusters=True, \n",
    "                                   selection_palette=sns.color_palette(\"Set2\",len(clusterer.labels_)))\n",
    "    return clusterer"
   ]
  },
  {
   "cell_type": "code",
   "execution_count": 33,
   "metadata": {},
   "outputs": [],
   "source": [
    "def show_cluster(xyz):\n",
    "    x, y, z = xyz[:,0], xyz[:,1], xyz[:,2]\n",
    "    fig = go.Figure(data=[go.Scatter3d(\n",
    "        x=x,\n",
    "        y=y,\n",
    "        z=z,\n",
    "        mode='markers',\n",
    "        marker=dict(\n",
    "            size=1,\n",
    "            opacity=0.75\n",
    "        )\n",
    "    )])\n",
    "    # tight layout\n",
    "    fig.update_layout(margin=dict(l=0, r=0, b=0, t=0))\n",
    "    fig.write_html('test.html', auto_open=True)\n",
    "\n",
    "def scattered_wsi(df,x,y,hue,size,opacity,auto_open,filename):\n",
    "    fig = px.scatter(df,\n",
    "                     x=x, y=y,color=hue,\n",
    "                     width=800, height=800,\n",
    "                     color_discrete_sequence=px.colors.qualitative.Set2)\n",
    "    fig.update_traces(marker=dict(size=size,opacity=opacity))\n",
    "    fig.update_layout(template='simple_white')\n",
    "    fig.update_layout(legend= {'itemsizing': 'constant'})\n",
    "    fig.write_html(filename+'.spatial_projection.FOV.html', auto_open=auto_open)\n",
    "    return "
   ]
  },
  {
   "cell_type": "code",
   "execution_count": 44,
   "metadata": {},
   "outputs": [],
   "source": [
    "def mm(A,times): # multiply A times-times\n",
    "    if times > 0:\n",
    "        M = A.dot(A)\n",
    "    for t in range(1,times):\n",
    "        newM = A.dot(M)\n",
    "        M = newM\n",
    "    return M"
   ]
  },
  {
   "cell_type": "code",
   "execution_count": 155,
   "metadata": {},
   "outputs": [],
   "source": [
    "def smoothed_covd(A,data,r): # given graph and morphological data returns a descriptor averaged in a radius r\n",
    "    M = mm(A,r)\n",
    "    row_idx, col_idx = M.nonzero()\n",
    "    dim = int(0.5*data.shape[1]*(data.shape[1]-1)+data.shape[1])\n",
    "    descriptor = np.zeros((data.shape[0],dim))\n",
    "    for row_ID in range(A.shape[0]):\n",
    "        mask = row_idx == row_ID # the non-zero elements idx at row rowID\n",
    "        a = M[row_ID,col_idx[mask]] # the non-zero elements entries at row rowID, representing the weight of the node j morphology wrt node i\n",
    "        morphology = data[col_idx[mask],:] # get the morphologies of the nodes path-connected to row_ID\n",
    "        #morphology = np.vstack((data[row_ID,:],morphology)) # add the row_ID node\n",
    "        #a = np.hstack(([1],a.data)) # add the weight of the local node !!!it has to be the max of the weights!!!\n",
    "        C = np.cov(morphology,rowvar=False,aweights=a.data) # the covd for row_ID weighted with paths\n",
    "        iu1 = np.triu_indices(C.shape[1]) # the indices of the upper triangular part\n",
    "        covd2vec = C[iu1]\n",
    "        descriptor[row_ID,:] = covd2vec\n",
    "    return descriptor"
   ]
  },
  {
   "cell_type": "code",
   "execution_count": null,
   "metadata": {},
   "outputs": [],
   "source": [
    "#dirname = '/home/garner1/Work/pipelines/WSI-analysis/SG/pipeline/data/id_52'  #sys.argv[1] # the directory where features.npz files are located\n",
    "dirname = '../h5/id_52/'\n",
    "sample = '52' #sys.argv[2]  # the sample id\n",
    "\n",
    "counter = 0\n",
    "for f in glob.glob(dirname+'/*features.npz'): # for every fov\n",
    "    counter += 1\n",
    "    if counter == 1:            # set up the data arrays\n",
    "        data = np.load(f,allow_pickle=True)\n",
    "        fov = data['fov']\n",
    "        xy = data['centroids']\n",
    "        morphology = data['morphology']\n",
    "    else:                       # update the data arrays\n",
    "        data = np.load(f,allow_pickle=True)\n",
    "        fov = np.vstack((fov,data['fov']))\n",
    "        xy = np.vstack((xy, data['centroids']))\n",
    "        morphology = np.vstack((morphology, data['morphology']))\n",
    "\n",
    "# Create dataframes\n",
    "df_fov = pd.DataFrame(data=fov, columns=['fov_row','fov_col'])\n",
    "df_xy = pd.DataFrame(data=xy, columns=['cx','cy'])\n",
    "df_morphology = pd.DataFrame(data=morphology, columns=['area','perimeter','solidity','eccentricity','circularity','mean_intensity','std_intensity'])\n",
    "\n",
    "# Concatenate all dataframes\n",
    "df = pd.concat([df_fov,df_xy, df_morphology],axis=1)"
   ]
  },
  {
   "cell_type": "code",
   "execution_count": 107,
   "metadata": {},
   "outputs": [],
   "source": [
    "# filter by percentiles in morphologies (hardcoded in function filtering)\n",
    "fdf = filtering(df).sample(n=10000)"
   ]
  },
  {
   "cell_type": "code",
   "execution_count": 198,
   "metadata": {},
   "outputs": [
    {
     "name": "stdout",
     "output_type": "stream",
     "text": [
      "Building the UMAP graph\n",
      "Creating the graph\n",
      "Creating the network\n"
     ]
    }
   ],
   "source": [
    "# Get the positions of centroids \n",
    "pos = fdf[fdf.columns[2:4]].to_numpy()\n",
    "nn = 200 # number of nearest neighbor in umap\n",
    "print('Building the UMAP graph')\n",
    "filename = '../py/'+str(sample)+'.graph.npz' # the adj sparse matrix\n",
    "if False:#path.exists(filename):\n",
    "    print('The graph already exists')\n",
    "    A = sparse.load_npz(filename) \n",
    "else:\n",
    "    print('Creating the graph')\n",
    "    A = space2graph(pos,nn)\n",
    "    sparse.save_npz(filename, A)\n",
    "    \n",
    "filename = '../py/'+str(sample)+'.graph.pickle'    # the networkx obj\n",
    "if False:#path.exists(filename):    \n",
    "    print('The network already exists')\n",
    "    G = nx.read_gpickle(filename)\n",
    "else:\n",
    "    print('Creating the network')\n",
    "    G = nx.from_scipy_sparse_matrix(A, edge_attribute='weight')\n",
    "    nx.write_gpickle(G, filename)"
   ]
  },
  {
   "cell_type": "code",
   "execution_count": 199,
   "metadata": {},
   "outputs": [],
   "source": [
    "features = ['area',\n",
    "            #'perimeter',\n",
    "            #'solidity',\n",
    "            'eccentricity','circularity',\n",
    "            'mean_intensity',\n",
    "            #'std_intensity',\n",
    "            'cov_intensity']\n",
    "data = fdf[features].to_numpy()"
   ]
  },
  {
   "cell_type": "code",
   "execution_count": 200,
   "metadata": {},
   "outputs": [],
   "source": [
    "radius = nn \n",
    "data_smooth = smoothing(A,data,radius) # to smooth morphology"
   ]
  },
  {
   "cell_type": "code",
   "execution_count": 201,
   "metadata": {
    "scrolled": true
   },
   "outputs": [],
   "source": [
    "radius = 1\n",
    "descriptor = smoothed_covd(A,data_smooth,radius) # to smooth descriptors"
   ]
  },
  {
   "cell_type": "markdown",
   "metadata": {},
   "source": [
    "Once the descriptor is generated, we can represent it with UMAP.\n",
    "\n",
    "Use nn, radius in smoothing and radius in smoothed_covd to tune the low dimensional representation"
   ]
  },
  {
   "cell_type": "code",
   "execution_count": 202,
   "metadata": {},
   "outputs": [],
   "source": [
    "embedding = umap.UMAP(min_dist=0.0,\n",
    "                      n_components=3,\n",
    "                      random_state=42).fit_transform(descriptor)"
   ]
  },
  {
   "cell_type": "code",
   "execution_count": 207,
   "metadata": {},
   "outputs": [
    {
     "data": {
      "image/png": "[encoded data removed]",
      "text/plain": [
       "<Figure size 432x288 with 2 Axes>"
      ]
     },
     "metadata": {
      "needs_background": "light"
     },
     "output_type": "display_data"
    }
   ],
   "source": [
    "# Density based clustering of the embedding\n",
    "min_cluster_size = 100 #parameters\n",
    "min_samples = 100       #parameters\n",
    "clusterer = clustering(embedding,min_cluster_size,min_samples,True)"
   ]
  },
  {
   "cell_type": "code",
   "execution_count": 208,
   "metadata": {},
   "outputs": [],
   "source": [
    "df_projection = pd.DataFrame({'x': fdf['cx'],\n",
    "                              'y': fdf['cy'],\n",
    "                              'cluster': clusterer.labels_},\n",
    "                             columns=['x','y','cluster'])\n",
    "df_projection['color'] = df_projection['cluster'].apply(str)\n",
    "filters = df_projection['cluster'] > -1\n",
    "scattered_wsi(df_projection[filters],'x','y','color',5,1,True,'test')"
   ]
  },
  {
   "cell_type": "code",
   "execution_count": 190,
   "metadata": {},
   "outputs": [],
   "source": [
    "df_cloud = pd.DataFrame({'x': embedding[:,0],\n",
    "                         'y': embedding[:,1],\n",
    "                         'z': embedding[:,2],\n",
    "                         'cluster': clusterer.labels_},\n",
    "                         columns=['x','y','z','cluster'])\n",
    "df_cloud['color'] = df_cloud['cluster'].apply(str)\n",
    "filters = df_cloud['cluster'] > -2\n",
    "fig = px.scatter_3d(df_cloud[filters], x=\"x\", y=\"y\", z=\"z\", color=\"color\", hover_name=\"color\")\n",
    "fig.update_traces(marker=dict(size=5,opacity=0.5),selector=dict(mode='markers'))\n",
    "fig.write_html('test.html', auto_open=True)"
   ]
  },
  {
   "cell_type": "code",
   "execution_count": null,
   "metadata": {},
   "outputs": [],
   "source": []
  }
 ],
 "metadata": {
  "kernelspec": {
   "display_name": "Python 3",
   "language": "python",
   "name": "python3"
  },
  "language_info": {
   "codemirror_mode": {
    "name": "ipython",
    "version": 3
   },
   "file_extension": ".py",
   "mimetype": "text/x-python",
   "name": "python",
   "nbconvert_exporter": "python",
   "pygments_lexer": "ipython3",
   "version": "3.7.4"
  }
 },
 "nbformat": 4,
 "nbformat_minor": 2
}
