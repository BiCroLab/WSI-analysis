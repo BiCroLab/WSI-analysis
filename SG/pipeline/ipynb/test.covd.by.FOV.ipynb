{
 "cells": [
  {
   "cell_type": "code",
   "execution_count": 1,
   "metadata": {},
   "outputs": [],
   "source": [
    "import sys\n",
    "from glob import glob\n",
    "import numpy as np\n",
    "import pandas as pd\n",
    "import umap\n",
    "import hdbscan\n",
    "import matplotlib.pyplot as plt\n",
    "import seaborn as sns\n",
    "import plotly.graph_objects as go\n",
    "import matplotlib.pyplot as plt\n",
    "from plotly.graph_objs import *\n",
    "import plotly.express as px\n",
    "\n",
    "import warnings\n",
    "warnings.filterwarnings(\"ignore\")"
   ]
  },
  {
   "cell_type": "code",
   "execution_count": 2,
   "metadata": {},
   "outputs": [],
   "source": [
    "def show_cluster(xyz):\n",
    "    x, y, z = xyz[:,0], xyz[:,1], xyz[:,2]\n",
    "    fig = go.Figure(data=[go.Scatter3d(\n",
    "        x=x,\n",
    "        y=y,\n",
    "        z=z,\n",
    "        mode='markers',\n",
    "        marker=dict(\n",
    "            size=3,\n",
    "            opacity=0.75\n",
    "        )\n",
    "    )])\n",
    "    # tight layout\n",
    "    fig.update_layout(margin=dict(l=0, r=0, b=0, t=0))\n",
    "    fig.write_html('test.html', auto_open=True)\n",
    "\n",
    "def scattered_wsi(df,x,y,hue,size,opacity,auto_open,filename):\n",
    "    fig = px.scatter(df,\n",
    "                     x=x, y=y,color=hue,\n",
    "                     width=800, height=800,\n",
    "                     color_discrete_sequence=px.colors.qualitative.Set2)\n",
    "    fig.update_traces(marker=dict(size=size,opacity=opacity))\n",
    "    fig.update_layout(template='simple_white')\n",
    "    fig.update_layout(legend= {'itemsizing': 'constant'})\n",
    "    fig.write_html(filename+'.spatial_projection.FOV.html', auto_open=auto_open)\n",
    "    return \n",
    "\n",
    "def patch2covd(df):\n",
    "    fov_covd = [] # initialize a covd list\n",
    "    fov_numb = len(set(df['patch'])) # tot number of FOVs\n",
    "    for p in list(set(df['patch'])): # for each patch\n",
    "        fdf = df['patch'] == p # consider only nuclei in patch\n",
    "        arr = df[fdf][['area', # define the array of morphological features\n",
    "                       'perimeter', \n",
    "                       'solidity',\n",
    "                       'eccentricity', \n",
    "                       'circularity', \n",
    "                       'mean_intensity',\n",
    "                       'cov_intensity']].to_numpy()\n",
    "        covd = np.cov(arr,rowvar=False) # determine the covariance descriptor of the patch\n",
    "        if covd.shape == (7,7): # discard problematic patches\n",
    "            idx = np.triu_indices(covd.shape[1])\n",
    "            covd2vec = covd[idx] # vectorize to the upper triangular part of the covd\n",
    "            fov_covd.append([p,covd2vec])      # integrate the list of covd patches\n",
    "    data = np.asarray([el[1] for el in fov_covd]) # format as array\n",
    "    return data, fov_covd\n",
    "\n",
    "def clustering(embedding,min_cluster_size,min_samples,plot_tree):\n",
    "    clusterer = hdbscan.HDBSCAN(min_samples=min_samples, \n",
    "                                min_cluster_size=min_cluster_size, \n",
    "                                gen_min_span_tree=True)\n",
    "    clusterer.fit(embedding) #cluster positions\n",
    "    if plot_tree:\n",
    "        clusterer.condensed_tree_.plot(select_clusters=True, \n",
    "                                   selection_palette=sns.color_palette(\"Set2\",len(clusterer.labels_)))\n",
    "    return clusterer"
   ]
  },
  {
   "cell_type": "code",
   "execution_count": 3,
   "metadata": {},
   "outputs": [],
   "source": [
    "num_quantiles = 50\n",
    "files = glob('../data_intensity/pkl/id_*.measurements.covd.pkl.intensityANDmorphology.csv.gz')\n",
    "file = ('../data_intensity/pkl/id_13.measurements.covd.pkl.intensityANDmorphology.csv.gz')"
   ]
  },
  {
   "cell_type": "code",
   "execution_count": 84,
   "metadata": {},
   "outputs": [
    {
     "name": "stdout",
     "output_type": "stream",
     "text": [
      "../data_intensity/pkl/id_13.measurements.covd.pkl.intensityANDmorphology.csv.gz\n",
      "../data_intensity/pkl/id_17.measurements.covd.pkl.intensityANDmorphology.csv.gz\n",
      "../data_intensity/pkl/id_39.measurements.covd.pkl.intensityANDmorphology.csv.gz\n",
      "../data_intensity/pkl/id_40.measurements.covd.pkl.intensityANDmorphology.csv.gz\n",
      "../data_intensity/pkl/id_41.measurements.covd.pkl.intensityANDmorphology.csv.gz\n",
      "../data_intensity/pkl/id_45.measurements.covd.pkl.intensityANDmorphology.csv.gz\n",
      "../data_intensity/pkl/id_46.measurements.covd.pkl.intensityANDmorphology.csv.gz\n",
      "../data_intensity/pkl/id_51.measurements.covd.pkl.intensityANDmorphology.csv.gz\n",
      "../data_intensity/pkl/id_52.measurements.covd.pkl.intensityANDmorphology.csv.gz\n",
      "../data_intensity/pkl/id_54.measurements.covd.pkl.intensityANDmorphology.csv.gz\n",
      "../data_intensity/pkl/id_56.measurements.covd.pkl.intensityANDmorphology.csv.gz\n",
      "../data_intensity/pkl/id_57.measurements.covd.pkl.intensityANDmorphology.csv.gz\n"
     ]
    }
   ],
   "source": [
    "for file in sorted(files):\n",
    "    print(file)\n",
    "    df = pd.read_csv(file) # load the dataframe\n",
    "    df['fov_col'] = pd.qcut(df['cx'], num_quantiles, labels=False) # rename by quantile\n",
    "    df['fov_row'] = pd.qcut(df['cy'], num_quantiles, labels=False) # rename by quantile\n",
    "    df['patch'] = df['fov_row'].apply(str)+'_'+df['fov_col'].apply(str) # define a patch ID    \n",
    "\n",
    "    # Get the covd representation of each patch\n",
    "    data, fov_covd = patch2covd(df)\n",
    "\n",
    "    # Find the umap embedding of the covds\n",
    "    embedding = umap.UMAP(min_dist=0.0, \n",
    "                              n_components=3,\n",
    "                              random_state=42).fit_transform(data)\n",
    "\n",
    "    # Density based clustering of the embedding\n",
    "    min_cluster_size = 100 #parameters\n",
    "    min_samples = 50       #parameters\n",
    "    clusterer = clustering(embedding,min_cluster_size,min_samples,False)\n",
    "\n",
    "    # Spatial projection\n",
    "    df_left = df.groupby(['patch']).mean()[['cx','cy']] # df with centroid of each patch\n",
    "    df_left.reset_index(inplace=True)\n",
    "    df_right = pd.DataFrame({'patch': [el[0] for el in fov_covd], # df with cluster id of each patch\n",
    "                             'cluster': clusterer.labels_},\n",
    "                             columns=['patch', 'cluster'])\n",
    "    df_patched = df_left.merge(df_right, left_on='patch', right_on='patch') # df with centroid and cluster ID per patch\n",
    "    df_patched['hue'] = df_patched['cluster'].apply(str) # to color\n",
    "    filters = df_patched['cluster'] > -1 # only assigned patches\n",
    "    scattered_wsi(df_patched[filters],'cx','cy','hue',size=8,opacity=1,auto_open=True,filename=file)"
   ]
  },
  {
   "cell_type": "code",
   "execution_count": 284,
   "metadata": {},
   "outputs": [],
   "source": [
    "df_cloud = pd.DataFrame({'x': embedding[:,0],\n",
    "                         'y': embedding[:,1],\n",
    "                         'z': embedding[:,2],\n",
    "                         'cluster': clusterer.labels_},\n",
    "                         columns=['x','y','z','cluster'])\n",
    "df_cloud['color'] = df_cloud['cluster'].apply(str)\n",
    "filters = df_cloud['cluster'] > -1\n",
    "fig = px.scatter_3d(df_cloud[filters], x=\"x\", y=\"y\", z=\"z\", color=\"color\", hover_name=\"color\")\n",
    "fig.update_traces(marker=dict(size=4,opacity=0.9),selector=dict(mode='markers'))\n",
    "fig.write_html('test.html', auto_open=True)"
   ]
  },
  {
   "cell_type": "code",
   "execution_count": 285,
   "metadata": {},
   "outputs": [],
   "source": [
    "show_cluster(embedding)"
   ]
  }
 ],
 "metadata": {
  "kernelspec": {
   "display_name": "Python 3",
   "language": "python",
   "name": "python3"
  },
  "language_info": {
   "codemirror_mode": {
    "name": "ipython",
    "version": 3
   },
   "file_extension": ".py",
   "mimetype": "text/x-python",
   "name": "python",
   "nbconvert_exporter": "python",
   "pygments_lexer": "ipython3",
   "version": "3.7.4"
  }
 },
 "nbformat": 4,
 "nbformat_minor": 2
}
