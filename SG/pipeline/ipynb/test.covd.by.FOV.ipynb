{
 "cells": [
  {
   "cell_type": "code",
   "execution_count": 278,
   "metadata": {},
   "outputs": [],
   "source": [
    "import sys\n",
    "from glob import glob\n",
    "import numpy as np\n",
    "import pandas as pd\n",
    "import umap\n",
    "import hdbscan\n",
    "import matplotlib.pyplot as plt\n",
    "import seaborn as sns\n",
    "import plotly.graph_objects as go\n",
    "import matplotlib.pyplot as plt\n",
    "from plotly.graph_objs import *\n",
    "import plotly.express as px\n",
    "\n",
    "import warnings\n",
    "warnings.filterwarnings(\"ignore\")\n"
   ]
  },
  {
   "cell_type": "code",
   "execution_count": 279,
   "metadata": {},
   "outputs": [],
   "source": [
    "def show_cluster(xyz):\n",
    "    x, y, z = xyz[:,0], xyz[:,1], xyz[:,2]\n",
    "    fig = go.Figure(data=[go.Scatter3d(\n",
    "        x=x,\n",
    "        y=y,\n",
    "        z=z,\n",
    "        mode='markers',\n",
    "        marker=dict(\n",
    "            size=3,\n",
    "            opacity=0.75\n",
    "        )\n",
    "    )])\n",
    "    # tight layout\n",
    "    fig.update_layout(margin=dict(l=0, r=0, b=0, t=0))\n",
    "    fig.write_html('test.html', auto_open=True)\n",
    "    # Plot WSI with colored labels\n",
    "def scattered_wsi(df,x,y,hue,size,opacity,auto_open,filename):\n",
    "    fig = px.scatter(df,\n",
    "                     x=x, y=y,color=hue,\n",
    "                     width=800, height=800,\n",
    "                     color_discrete_sequence=px.colors.qualitative.Set2)\n",
    "    fig.update_traces(marker=dict(size=size,opacity=opacity))\n",
    "    fig.update_layout(template='simple_white')\n",
    "    fig.update_layout(legend= {'itemsizing': 'constant'})\n",
    "    fig.write_html(filename+'.spatial_projection.html', auto_open=auto_open)\n",
    "    return \n"
   ]
  },
  {
   "cell_type": "code",
   "execution_count": 280,
   "metadata": {},
   "outputs": [],
   "source": [
    "files = glob('../data_intensity/pkl/id_*.measurements.covd.pkl.intensityANDmorphology.csv.gz')\n",
    "file = ('../data_intensity/pkl/id_52.measurements.covd.pkl.intensityANDmorphology.csv.gz')\n",
    "\n",
    "df = pd.read_csv(file)\n",
    "\n",
    "df['fov_col'] = pd.qcut(df['cx'], 30, labels=False)\n",
    "df['fov_row'] = pd.qcut(df['cy'], 30, labels=False)\n",
    "\n",
    "df['patch'] = df['fov_row'].apply(str)+'_'+df['fov_col'].apply(str)\n",
    "fov_covd = []\n",
    "fov_numb = len(set(df['patch']))\n",
    "for p in list(set(df['patch'])):\n",
    "    fdf = df['patch'] == p\n",
    "    arr = df[fdf][['area', 'perimeter', 'solidity','eccentricity', 'circularity', 'mean_intensity','cov_intensity']].to_numpy()\n",
    "    covd = np.cov(arr,rowvar=False)\n",
    "    if covd.shape == (7,7):\n",
    "        idx = np.triu_indices(covd.shape[1])\n",
    "        covd2vec = covd[idx]\n",
    "        fov_covd.append([p,covd2vec])  "
   ]
  },
  {
   "cell_type": "code",
   "execution_count": 281,
   "metadata": {},
   "outputs": [],
   "source": [
    "data = np.asarray([el[1] for el in fov_covd])\n",
    "\n",
    "embedding = umap.UMAP(min_dist=0.0,\n",
    "                      n_components=3,\n",
    "                      random_state=42).fit_transform(data)"
   ]
  },
  {
   "cell_type": "code",
   "execution_count": 282,
   "metadata": {},
   "outputs": [
    {
     "data": {
      "text/plain": [
       "<matplotlib.axes._subplots.AxesSubplot at 0x7f4fe3fb84d0>"
      ]
     },
     "execution_count": 282,
     "metadata": {},
     "output_type": "execute_result"
    },
    {
     "data": {
      "image/png": "[encoded data removed]",
      "text/plain": [
       "<Figure size 432x288 with 2 Axes>"
      ]
     },
     "metadata": {
      "needs_background": "light"
     },
     "output_type": "display_data"
    }
   ],
   "source": [
    "min_cluster_size = 50 #parameters\n",
    "min_samples = 25       #parameters\n",
    "\n",
    "clusterer = hdbscan.HDBSCAN(min_samples=min_samples, min_cluster_size=min_cluster_size, gen_min_span_tree=True)\n",
    "clusterer.fit(embedding) #cluster positions\n",
    "clusterer.condensed_tree_.plot(select_clusters=True, \n",
    "                               selection_palette=sns.color_palette(\"Set2\",len(clusterer.labels_)))"
   ]
  },
  {
   "cell_type": "code",
   "execution_count": 283,
   "metadata": {},
   "outputs": [],
   "source": [
    "df_left = df.groupby(['patch']).mean()[['cx','cy']]\n",
    "df_left.reset_index(inplace=True)\n",
    "\n",
    "df_right = pd.DataFrame({'patch': [el[0] for el in fov_covd],\n",
    "                         'cluster': clusterer.labels_},\n",
    "                         columns=['patch', 'cluster'])\n",
    "\n",
    "df_patched = df_left.merge(df_right, left_on='patch', right_on='patch')\n",
    "\n",
    "df_patched['hue'] = df_patched['cluster'].apply(str)\n",
    "filters = df_patched['cluster'] > -1\n",
    "scattered_wsi(df_patched[filters],'cx','cy','hue',size=10,opacity=1,auto_open=True,filename='test')"
   ]
  },
  {
   "cell_type": "code",
   "execution_count": 284,
   "metadata": {},
   "outputs": [],
   "source": [
    "df_cloud = pd.DataFrame({'x': embedding[:,0],\n",
    "                         'y': embedding[:,1],\n",
    "                         'z': embedding[:,2],\n",
    "                         'cluster': clusterer.labels_},\n",
    "                         columns=['x','y','z','cluster'])\n",
    "df_cloud['color'] = df_cloud['cluster'].apply(str)\n",
    "filters = df_cloud['cluster'] > -1\n",
    "fig = px.scatter_3d(df_cloud[filters], x=\"x\", y=\"y\", z=\"z\", color=\"color\", hover_name=\"color\")\n",
    "fig.update_traces(marker=dict(size=4,opacity=0.9),selector=dict(mode='markers'))\n",
    "fig.write_html('test.html', auto_open=True)"
   ]
  },
  {
   "cell_type": "code",
   "execution_count": 285,
   "metadata": {},
   "outputs": [],
   "source": [
    "show_cluster(embedding)"
   ]
  }
 ],
 "metadata": {
  "kernelspec": {
   "display_name": "Python 3",
   "language": "python",
   "name": "python3"
  },
  "language_info": {
   "codemirror_mode": {
    "name": "ipython",
    "version": 3
   },
   "file_extension": ".py",
   "mimetype": "text/x-python",
   "name": "python",
   "nbconvert_exporter": "python",
   "pygments_lexer": "ipython3",
   "version": "3.7.4"
  }
 },
 "nbformat": 4,
 "nbformat_minor": 2
}
