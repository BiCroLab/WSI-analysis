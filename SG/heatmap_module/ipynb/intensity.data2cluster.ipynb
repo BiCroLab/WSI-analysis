{
 "cells": [
  {
   "cell_type": "code",
   "execution_count": 1,
   "metadata": {},
   "outputs": [],
   "source": [
    "'''\n",
    "Load the necessary libraries\n",
    "'''\n",
    "\n",
    "from mpl_toolkits.mplot3d import Axes3D \n",
    "import matplotlib.pyplot as plt\n",
    "import plotly.graph_objects as go\n",
    "from plotly.graph_objs import *\n",
    "import plotly.express as px\n",
    "import seaborn as sns\n",
    "%matplotlib inline\n",
    "sns.set_context('poster')\n",
    "sns.set_style('white')\n",
    "sns.set_color_codes()\n",
    "plot_kwds = {'alpha' : 0.5, 's' : 80, 'linewidths':0}\n",
    "\n",
    "import hdbscan\n",
    "\n",
    "import os\n",
    "import glob\n",
    "\n",
    "from sklearn.neighbors import NearestNeighbors\n",
    "from numpy import linalg as LA\n",
    "import numpy as np\n",
    "import pandas as pd"
   ]
  },
  {
   "cell_type": "markdown",
   "metadata": {},
   "source": [
    "Problematic dataset: 38"
   ]
  },
  {
   "cell_type": "code",
   "execution_count": 42,
   "metadata": {},
   "outputs": [],
   "source": [
    "filename = \"../pkl/id_13.fov_centroids_embedding_morphology.covd.pkl\"\n",
    "df = pd.read_pickle(filename)\n",
    "#df = df.sample(n=100000)\n",
    "embedding = df[['x','y','z']].to_numpy()"
   ]
  },
  {
   "cell_type": "code",
   "execution_count": 3,
   "metadata": {},
   "outputs": [],
   "source": [
    "'''Visualize the cloud'''\n",
    "fig = px.scatter_3d(df, x=\"x\", y=\"y\", z=\"z\")\n",
    "fig.update_traces(marker=dict(size=1,opacity=0.5),selector=dict(mode='markers'))\n",
    "fig.write_html('nuclei-covd-embedding.html', auto_open=True)"
   ]
  },
  {
   "cell_type": "code",
   "execution_count": 43,
   "metadata": {},
   "outputs": [],
   "source": [
    "'''\n",
    "Calculate the local curvature of the point cloud embedding\n",
    "'''\n",
    "# Find the neighborood\n",
    "n_neighbors = 100 # parameter to be adjausted\n",
    "\n",
    "nbrs = NearestNeighbors(n_neighbors=n_neighbors, algorithm='kd_tree').fit(embedding)\n",
    "distances, indices = nbrs.kneighbors(embedding)\n",
    "eigvals = [LA.eigvalsh(np.cov(embedding[indices[idx,:],:].T)) for idx in range(embedding.shape[0])] #full data\n",
    "\n",
    "curvatures = [min(eigvals[idx])/sum(eigvals[idx]) for idx in range(len(eigvals))]\n",
    "\n",
    "# Add curvature to the dataframe\n",
    "df['curvature'] = curvatures "
   ]
  },
  {
   "cell_type": "code",
   "execution_count": 44,
   "metadata": {
    "scrolled": true
   },
   "outputs": [
    {
     "data": {
      "image/png": "[encoded data removed]",
      "text/plain": [
       "<Figure size 432x288 with 1 Axes>"
      ]
     },
     "metadata": {
      "needs_background": "light"
     },
     "output_type": "display_data"
    }
   ],
   "source": [
    "# Find the minima in curvature histrogram\n",
    "q1 = np.quantile(curvatures,0.05)\n",
    "\n",
    "plt.hist(curvatures,bins=25)\n",
    "plt.axvline(q1,0,7500)\n",
    "plt.show()"
   ]
  },
  {
   "cell_type": "markdown",
   "metadata": {},
   "source": [
    "The mean intensity seems the quantity with the highest discriminative power."
   ]
  },
  {
   "cell_type": "code",
   "execution_count": 11,
   "metadata": {},
   "outputs": [],
   "source": [
    "for feature in df.columns[7:11]:\n",
    "    df['color'] = pd.qcut(df[feature], 10, labels=False)\n",
    "    fig = px.scatter_3d(df, x=\"x\", y=\"y\", z=\"z\", color=\"color\")\n",
    "    fig.update_traces(marker=dict(size=1,opacity=0.5),selector=dict(mode='markers'))\n",
    "    fig.update_layout(title=feature,\n",
    "                      font=dict(family=\"Courier New, monospace\",\n",
    "                                size=18,\n",
    "                                color=\"#7f7f7f\")\n",
    "                         )\n",
    "    fig.write_html('test.'+feature+'.3Dumap.html', auto_open=True)"
   ]
  },
  {
   "cell_type": "code",
   "execution_count": 45,
   "metadata": {},
   "outputs": [],
   "source": [
    "df['color'] = pd.qcut(df['curvature'], 10, labels=False)\n",
    "df1 = df[df['curvature'] <= q1] # define the low curvature sector"
   ]
  },
  {
   "cell_type": "code",
   "execution_count": 46,
   "metadata": {},
   "outputs": [],
   "source": [
    "fig = px.scatter_3d(df1, x=\"x\", y=\"y\", z=\"z\", color=\"color\")\n",
    "fig.update_traces(marker=dict(size=1,opacity=0.5),selector=dict(mode='markers'))\n",
    "fig.update_layout(title='Curvature values in the first quartile',\n",
    "                            font=dict(\n",
    "                            family=\"Courier New, monospace\",\n",
    "                            size=18,\n",
    "                            color=\"#7f7f7f\"\n",
    "                                )\n",
    "                     )\n",
    "fig.write_html('test.curvature_q1.3Dumap.html', auto_open=True)"
   ]
  },
  {
   "cell_type": "code",
   "execution_count": 47,
   "metadata": {},
   "outputs": [
    {
     "data": {
      "text/plain": [
       "<matplotlib.axes._subplots.AxesSubplot at 0x7f39fea82550>"
      ]
     },
     "execution_count": 47,
     "metadata": {},
     "output_type": "execute_result"
    },
    {
     "data": {
      "image/png": "[encoded data removed]",
      "text/plain": [
       "<Figure size 432x288 with 2 Axes>"
      ]
     },
     "metadata": {
      "needs_background": "light"
     },
     "output_type": "display_data"
    }
   ],
   "source": [
    "min_cluster_size = 1000 # parameter to be adjausted\n",
    "min_samples = 100       # parameter to be adjausted\n",
    "    \n",
    "clusterer = hdbscan.HDBSCAN(min_samples=min_samples,min_cluster_size=min_cluster_size,gen_min_span_tree=True)\n",
    "clusterer.fit(df1.loc[:,('x','y','z')]) \n",
    "\n",
    "clusterer.condensed_tree_.plot(select_clusters=True,\n",
    "                               selection_palette=sns.color_palette(\"Set2\",len(clusterer.labels_)))\n"
   ]
  },
  {
   "cell_type": "code",
   "execution_count": 48,
   "metadata": {},
   "outputs": [
    {
     "name": "stderr",
     "output_type": "stream",
     "text": [
      "/home/garner1/miniconda3/lib/python3.7/site-packages/ipykernel_launcher.py:1: SettingWithCopyWarning:\n",
      "\n",
      "\n",
      "A value is trying to be set on a copy of a slice from a DataFrame.\n",
      "Try using .loc[row_indexer,col_indexer] = value instead\n",
      "\n",
      "See the caveats in the documentation: http://pandas.pydata.org/pandas-docs/stable/user_guide/indexing.html#returning-a-view-versus-a-copy\n",
      "\n",
      "/home/garner1/miniconda3/lib/python3.7/site-packages/ipykernel_launcher.py:2: SettingWithCopyWarning:\n",
      "\n",
      "\n",
      "A value is trying to be set on a copy of a slice from a DataFrame.\n",
      "Try using .loc[row_indexer,col_indexer] = value instead\n",
      "\n",
      "See the caveats in the documentation: http://pandas.pydata.org/pandas-docs/stable/user_guide/indexing.html#returning-a-view-versus-a-copy\n",
      "\n"
     ]
    }
   ],
   "source": [
    "df1['cluster'] = clusterer.labels_    # add cluster id to dataframe\n",
    "df1['cluster'] = df1['cluster'].apply(str)   # make cluster id a string\n",
    "df_filtered = df1[df1.cluster != str(-1)] # remove unassigned points"
   ]
  },
  {
   "cell_type": "code",
   "execution_count": 13,
   "metadata": {},
   "outputs": [
    {
     "name": "stderr",
     "output_type": "stream",
     "text": [
      "/home/garner1/miniconda3/lib/python3.7/site-packages/ipykernel_launcher.py:1: SettingWithCopyWarning:\n",
      "\n",
      "\n",
      "A value is trying to be set on a copy of a slice from a DataFrame.\n",
      "Try using .loc[row_indexer,col_indexer] = value instead\n",
      "\n",
      "See the caveats in the documentation: http://pandas.pydata.org/pandas-docs/stable/user_guide/indexing.html#returning-a-view-versus-a-copy\n",
      "\n"
     ]
    },
    {
     "data": {
      "text/html": [
       "<div>\n",
       "<style scoped>\n",
       "    .dataframe tbody tr th:only-of-type {\n",
       "        vertical-align: middle;\n",
       "    }\n",
       "\n",
       "    .dataframe tbody tr th {\n",
       "        vertical-align: top;\n",
       "    }\n",
       "\n",
       "    .dataframe thead th {\n",
       "        text-align: right;\n",
       "    }\n",
       "</style>\n",
       "<table border=\"1\" class=\"dataframe\">\n",
       "  <thead>\n",
       "    <tr style=\"text-align: right;\">\n",
       "      <th></th>\n",
       "      <th>fov_row</th>\n",
       "      <th>fov_col</th>\n",
       "      <th>cx</th>\n",
       "      <th>cy</th>\n",
       "      <th>x</th>\n",
       "      <th>y</th>\n",
       "      <th>z</th>\n",
       "      <th>area</th>\n",
       "      <th>perimeter</th>\n",
       "      <th>solidity</th>\n",
       "      <th>eccentricity</th>\n",
       "      <th>mean_intensity</th>\n",
       "      <th>curvature</th>\n",
       "      <th>color</th>\n",
       "      <th>cluster</th>\n",
       "    </tr>\n",
       "  </thead>\n",
       "  <tbody>\n",
       "    <tr>\n",
       "      <th>69180</th>\n",
       "      <td>43</td>\n",
       "      <td>19</td>\n",
       "      <td>9768.392954</td>\n",
       "      <td>22024.065041</td>\n",
       "      <td>4.183144</td>\n",
       "      <td>-6.215256</td>\n",
       "      <td>-3.623327</td>\n",
       "      <td>369.0</td>\n",
       "      <td>89.734019</td>\n",
       "      <td>0.832957</td>\n",
       "      <td>0.660798</td>\n",
       "      <td>20.867209</td>\n",
       "      <td>0.046224</td>\n",
       "      <td>0</td>\n",
       "      <td>1</td>\n",
       "    </tr>\n",
       "    <tr>\n",
       "      <th>263006</th>\n",
       "      <td>10</td>\n",
       "      <td>12</td>\n",
       "      <td>6572.714286</td>\n",
       "      <td>5307.904762</td>\n",
       "      <td>-7.083728</td>\n",
       "      <td>-5.274972</td>\n",
       "      <td>4.357306</td>\n",
       "      <td>21.0</td>\n",
       "      <td>18.863961</td>\n",
       "      <td>0.750000</td>\n",
       "      <td>0.943973</td>\n",
       "      <td>5.523810</td>\n",
       "      <td>0.027410</td>\n",
       "      <td>0</td>\n",
       "      <td>0</td>\n",
       "    </tr>\n",
       "    <tr>\n",
       "      <th>387224</th>\n",
       "      <td>5</td>\n",
       "      <td>30</td>\n",
       "      <td>15443.136364</td>\n",
       "      <td>2932.000000</td>\n",
       "      <td>-6.343435</td>\n",
       "      <td>-5.956690</td>\n",
       "      <td>6.910412</td>\n",
       "      <td>22.0</td>\n",
       "      <td>14.485281</td>\n",
       "      <td>1.000000</td>\n",
       "      <td>0.449119</td>\n",
       "      <td>5.090909</td>\n",
       "      <td>0.006846</td>\n",
       "      <td>0</td>\n",
       "      <td>0</td>\n",
       "    </tr>\n",
       "    <tr>\n",
       "      <th>388163</th>\n",
       "      <td>15</td>\n",
       "      <td>2</td>\n",
       "      <td>1509.691257</td>\n",
       "      <td>7915.147541</td>\n",
       "      <td>-4.339777</td>\n",
       "      <td>-1.472534</td>\n",
       "      <td>-5.385321</td>\n",
       "      <td>366.0</td>\n",
       "      <td>96.911688</td>\n",
       "      <td>0.800875</td>\n",
       "      <td>0.625654</td>\n",
       "      <td>5.437158</td>\n",
       "      <td>0.037699</td>\n",
       "      <td>0</td>\n",
       "      <td>0</td>\n",
       "    </tr>\n",
       "    <tr>\n",
       "      <th>143521</th>\n",
       "      <td>41</td>\n",
       "      <td>4</td>\n",
       "      <td>2397.957143</td>\n",
       "      <td>21416.457143</td>\n",
       "      <td>3.940596</td>\n",
       "      <td>-6.578357</td>\n",
       "      <td>-8.536629</td>\n",
       "      <td>350.0</td>\n",
       "      <td>97.083261</td>\n",
       "      <td>0.799087</td>\n",
       "      <td>0.822819</td>\n",
       "      <td>23.080000</td>\n",
       "      <td>0.044669</td>\n",
       "      <td>0</td>\n",
       "      <td>1</td>\n",
       "    </tr>\n",
       "    <tr>\n",
       "      <th>...</th>\n",
       "      <td>...</td>\n",
       "      <td>...</td>\n",
       "      <td>...</td>\n",
       "      <td>...</td>\n",
       "      <td>...</td>\n",
       "      <td>...</td>\n",
       "      <td>...</td>\n",
       "      <td>...</td>\n",
       "      <td>...</td>\n",
       "      <td>...</td>\n",
       "      <td>...</td>\n",
       "      <td>...</td>\n",
       "      <td>...</td>\n",
       "      <td>...</td>\n",
       "      <td>...</td>\n",
       "    </tr>\n",
       "    <tr>\n",
       "      <th>27817</th>\n",
       "      <td>6</td>\n",
       "      <td>27</td>\n",
       "      <td>14034.818182</td>\n",
       "      <td>3320.772727</td>\n",
       "      <td>-6.352909</td>\n",
       "      <td>-5.941810</td>\n",
       "      <td>6.770332</td>\n",
       "      <td>44.0</td>\n",
       "      <td>22.071068</td>\n",
       "      <td>0.880000</td>\n",
       "      <td>0.377260</td>\n",
       "      <td>4.500000</td>\n",
       "      <td>0.016194</td>\n",
       "      <td>0</td>\n",
       "      <td>0</td>\n",
       "    </tr>\n",
       "    <tr>\n",
       "      <th>134550</th>\n",
       "      <td>11</td>\n",
       "      <td>28</td>\n",
       "      <td>14775.641509</td>\n",
       "      <td>6135.547170</td>\n",
       "      <td>-5.660924</td>\n",
       "      <td>-6.223254</td>\n",
       "      <td>7.847642</td>\n",
       "      <td>53.0</td>\n",
       "      <td>23.899495</td>\n",
       "      <td>0.981481</td>\n",
       "      <td>0.430562</td>\n",
       "      <td>4.113208</td>\n",
       "      <td>0.005690</td>\n",
       "      <td>0</td>\n",
       "      <td>0</td>\n",
       "    </tr>\n",
       "    <tr>\n",
       "      <th>417188</th>\n",
       "      <td>4</td>\n",
       "      <td>21</td>\n",
       "      <td>10896.220000</td>\n",
       "      <td>2528.000000</td>\n",
       "      <td>-7.029769</td>\n",
       "      <td>-5.296557</td>\n",
       "      <td>4.175116</td>\n",
       "      <td>50.0</td>\n",
       "      <td>24.142136</td>\n",
       "      <td>0.961538</td>\n",
       "      <td>0.267885</td>\n",
       "      <td>6.040000</td>\n",
       "      <td>0.049914</td>\n",
       "      <td>0</td>\n",
       "      <td>0</td>\n",
       "    </tr>\n",
       "    <tr>\n",
       "      <th>100861</th>\n",
       "      <td>24</td>\n",
       "      <td>10</td>\n",
       "      <td>5437.177273</td>\n",
       "      <td>12551.268182</td>\n",
       "      <td>-3.359642</td>\n",
       "      <td>-0.406319</td>\n",
       "      <td>-6.189332</td>\n",
       "      <td>220.0</td>\n",
       "      <td>80.497475</td>\n",
       "      <td>0.721311</td>\n",
       "      <td>0.853243</td>\n",
       "      <td>6.800000</td>\n",
       "      <td>0.036913</td>\n",
       "      <td>0</td>\n",
       "      <td>0</td>\n",
       "    </tr>\n",
       "    <tr>\n",
       "      <th>289482</th>\n",
       "      <td>30</td>\n",
       "      <td>17</td>\n",
       "      <td>8744.222689</td>\n",
       "      <td>15758.768908</td>\n",
       "      <td>5.194403</td>\n",
       "      <td>-6.426929</td>\n",
       "      <td>-4.658303</td>\n",
       "      <td>714.0</td>\n",
       "      <td>145.160426</td>\n",
       "      <td>0.838028</td>\n",
       "      <td>0.843407</td>\n",
       "      <td>13.609244</td>\n",
       "      <td>0.047670</td>\n",
       "      <td>0</td>\n",
       "      <td>1</td>\n",
       "    </tr>\n",
       "  </tbody>\n",
       "</table>\n",
       "<p>5000 rows × 15 columns</p>\n",
       "</div>"
      ],
      "text/plain": [
       "        fov_row  fov_col            cx            cy         x         y  \\\n",
       "69180        43       19   9768.392954  22024.065041  4.183144 -6.215256   \n",
       "263006       10       12   6572.714286   5307.904762 -7.083728 -5.274972   \n",
       "387224        5       30  15443.136364   2932.000000 -6.343435 -5.956690   \n",
       "388163       15        2   1509.691257   7915.147541 -4.339777 -1.472534   \n",
       "143521       41        4   2397.957143  21416.457143  3.940596 -6.578357   \n",
       "...         ...      ...           ...           ...       ...       ...   \n",
       "27817         6       27  14034.818182   3320.772727 -6.352909 -5.941810   \n",
       "134550       11       28  14775.641509   6135.547170 -5.660924 -6.223254   \n",
       "417188        4       21  10896.220000   2528.000000 -7.029769 -5.296557   \n",
       "100861       24       10   5437.177273  12551.268182 -3.359642 -0.406319   \n",
       "289482       30       17   8744.222689  15758.768908  5.194403 -6.426929   \n",
       "\n",
       "               z   area   perimeter  solidity  eccentricity  mean_intensity  \\\n",
       "69180  -3.623327  369.0   89.734019  0.832957      0.660798       20.867209   \n",
       "263006  4.357306   21.0   18.863961  0.750000      0.943973        5.523810   \n",
       "387224  6.910412   22.0   14.485281  1.000000      0.449119        5.090909   \n",
       "388163 -5.385321  366.0   96.911688  0.800875      0.625654        5.437158   \n",
       "143521 -8.536629  350.0   97.083261  0.799087      0.822819       23.080000   \n",
       "...          ...    ...         ...       ...           ...             ...   \n",
       "27817   6.770332   44.0   22.071068  0.880000      0.377260        4.500000   \n",
       "134550  7.847642   53.0   23.899495  0.981481      0.430562        4.113208   \n",
       "417188  4.175116   50.0   24.142136  0.961538      0.267885        6.040000   \n",
       "100861 -6.189332  220.0   80.497475  0.721311      0.853243        6.800000   \n",
       "289482 -4.658303  714.0  145.160426  0.838028      0.843407       13.609244   \n",
       "\n",
       "        curvature  color  cluster  \n",
       "69180    0.046224      0        1  \n",
       "263006   0.027410      0        0  \n",
       "387224   0.006846      0        0  \n",
       "388163   0.037699      0        0  \n",
       "143521   0.044669      0        1  \n",
       "...           ...    ...      ...  \n",
       "27817    0.016194      0        0  \n",
       "134550   0.005690      0        0  \n",
       "417188   0.049914      0        0  \n",
       "100861   0.036913      0        0  \n",
       "289482   0.047670      0        1  \n",
       "\n",
       "[5000 rows x 15 columns]"
      ]
     },
     "execution_count": 13,
     "metadata": {},
     "output_type": "execute_result"
    }
   ],
   "source": [
    "    \n",
    "fig = px.scatter(df_filtered, x=\"cx\", y=\"cy\",color=\"cluster\",\n",
    "                     width=800, height=800,\n",
    "                     color_discrete_sequence=px.colors.qualitative.Set2)\n",
    "fig.update_traces(marker=dict(size=5,opacity=1.0))\n",
    "fig.write_html('spatial_decoration.html', auto_open=True)\n",
    "    \n",
    "fig = px.scatter_3d(df_filtered, x=\"x\", y=\"y\", z=\"z\", color=\"cluster\", hover_name=\"cluster\", \n",
    "                        color_discrete_sequence=px.colors.qualitative.Set2)\n",
    "fig.update_traces(marker=dict(size=3,opacity=0.75),selector=dict(mode='markers'))\n",
    "fig.write_html('low_curvature_clusters.html', auto_open=True)"
   ]
  },
  {
   "cell_type": "markdown",
   "metadata": {},
   "source": [
    "Thinking of the pipeline as a tool we should aim at simplifying the visualization and adjusting the parameters in order for the user to tune the output to his need. "
   ]
  },
  {
   "cell_type": "code",
   "execution_count": 49,
   "metadata": {},
   "outputs": [],
   "source": [
    "'''For all point cloud, find the closest cluster \n",
    "in order to label all the point and not only the low-curvature sector'''\n",
    "from sklearn.metrics import pairwise_distances_argmin_min\n",
    "idx, dist = pairwise_distances_argmin_min(df[['x','y','z']].to_numpy(),df_filtered[['x','y','z']].to_numpy())"
   ]
  },
  {
   "cell_type": "code",
   "execution_count": 55,
   "metadata": {},
   "outputs": [],
   "source": [
    "df['cluster'] = [int(df_filtered.cluster.iloc[idx[row]])+1 for row in range(df.shape[0])] #add 1 to avoid confusion with background"
   ]
  },
  {
   "cell_type": "code",
   "execution_count": 56,
   "metadata": {},
   "outputs": [],
   "source": [
    "df.to_csv(filename+'.csv',index=False)"
   ]
  },
  {
   "cell_type": "code",
   "execution_count": 57,
   "metadata": {},
   "outputs": [
    {
     "name": "stdout",
     "output_type": "stream",
     "text": [
      "(504854,) (504854, 15)\n"
     ]
    }
   ],
   "source": [
    "print(idx.shape,df.shape)"
   ]
  }
 ],
 "metadata": {
  "kernelspec": {
   "display_name": "Python 3",
   "language": "python",
   "name": "python3"
  },
  "language_info": {
   "codemirror_mode": {
    "name": "ipython",
    "version": 3
   },
   "file_extension": ".py",
   "mimetype": "text/x-python",
   "name": "python",
   "nbconvert_exporter": "python",
   "pygments_lexer": "ipython3",
   "version": "3.7.4"
  }
 },
 "nbformat": 4,
 "nbformat_minor": 2
}
