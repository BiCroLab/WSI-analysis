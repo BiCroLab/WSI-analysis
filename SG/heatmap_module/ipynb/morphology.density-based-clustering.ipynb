{
 "cells": [
  {
   "cell_type": "code",
   "execution_count": 1,
   "metadata": {},
   "outputs": [],
   "source": [
    "import numpy as np\n",
    "import matplotlib.pyplot as plt\n",
    "import seaborn as sns\n",
    "import sklearn.datasets as data\n",
    "%matplotlib inline\n",
    "sns.set_context('poster')\n",
    "sns.set_style('white')\n",
    "sns.set_color_codes()\n",
    "plot_kwds = {'alpha' : 0.5, 's' : 80, 'linewidths':0}"
   ]
  },
  {
   "cell_type": "code",
   "execution_count": 2,
   "metadata": {},
   "outputs": [],
   "source": [
    "import hdbscan"
   ]
  },
  {
   "cell_type": "code",
   "execution_count": 3,
   "metadata": {},
   "outputs": [],
   "source": [
    "filename = '/home/garner1/wsi-data/npy/clusterable_embedding.merge.primary.ilastik.npy'\n",
    "test_data = np.load(filename)\n",
    "\n",
    "idx = np.random.randint(test_data.shape[0], size=100000)\n",
    "XX = test_data[:,:3]"
   ]
  },
  {
   "cell_type": "code",
   "execution_count": 4,
   "metadata": {},
   "outputs": [
    {
     "data": {
      "text/plain": [
       "(596532, 3)"
      ]
     },
     "execution_count": 4,
     "metadata": {},
     "output_type": "execute_result"
    }
   ],
   "source": [
    "XX.shape"
   ]
  },
  {
   "cell_type": "code",
   "execution_count": 5,
   "metadata": {},
   "outputs": [
    {
     "data": {
      "text/plain": [
       "HDBSCAN(algorithm='best', allow_single_cluster=False, alpha=1.0,\n",
       "        approx_min_span_tree=True, cluster_selection_epsilon=0.0,\n",
       "        cluster_selection_method='eom', core_dist_n_jobs=4,\n",
       "        gen_min_span_tree=True, leaf_size=40,\n",
       "        match_reference_implementation=False, memory=Memory(location=None),\n",
       "        metric='euclidean', min_cluster_size=5000, min_samples=300, p=None,\n",
       "        prediction_data=False)"
      ]
     },
     "execution_count": 5,
     "metadata": {},
     "output_type": "execute_result"
    }
   ],
   "source": [
    "clusterer = hdbscan.HDBSCAN(min_samples=300, min_cluster_size=5000, gen_min_span_tree=True)\n",
    "clusterer.fit(XX)"
   ]
  },
  {
   "cell_type": "code",
   "execution_count": 6,
   "metadata": {},
   "outputs": [
    {
     "data": {
      "text/plain": [
       "<matplotlib.axes._subplots.AxesSubplot at 0x7ff7875c47d0>"
      ]
     },
     "execution_count": 6,
     "metadata": {},
     "output_type": "execute_result"
    },
    {
     "data": {
      "image/png": "[encoded data removed]",
      "text/plain": [
       "<Figure size 432x288 with 2 Axes>"
      ]
     },
     "metadata": {
      "needs_background": "light"
     },
     "output_type": "display_data"
    }
   ],
   "source": [
    "clusterer.condensed_tree_.plot(select_clusters=True, selection_palette=sns.color_palette(\"Set2\",len(clusterer.labels_)))"
   ]
  },
  {
   "cell_type": "code",
   "execution_count": 7,
   "metadata": {},
   "outputs": [],
   "source": [
    "from plotly.graph_objs import *\n",
    "import pandas as pd\n",
    "import plotly.express as px\n",
    "import plotly.graph_objects as go\n",
    "\n",
    "df = pd.DataFrame(data=test_data,columns=['x','y','z','labels'])#.iloc[idx]\n",
    "\n",
    "df['labels'] = df['labels'].astype(int).apply(str)\n",
    "\n",
    "df['cluster'] = clusterer.labels_\n",
    "df['cluster'] = df['cluster'].apply(str)\n",
    "\n",
    "#df['alpha'] = clusterer.probabilities_\n",
    "#df['alpha'] = df['alpha'].apply(str)\n",
    "\n",
    "df_filtered = df[df.cluster != str(-1)]\n",
    "\n",
    "fig = px.scatter_3d(df_filtered, x=\"x\", y=\"y\", z=\"z\", color=\"cluster\", hover_name=\"labels\", \n",
    "                        color_discrete_sequence=px.colors.qualitative.Set2)\n",
    "fig.update_traces(marker=dict(size=1,opacity=0.75),selector=dict(mode='markers'))\n",
    "fig.update_layout(margin=dict(l=0, r=0, b=0, t=0),\n",
    "                      legend=go.layout.Legend(\n",
    "                          x=0,\n",
    "                          y=1,\n",
    "                          traceorder='normal',\n",
    "                          font=dict(family='sans-serif',size=20,color='black'),\n",
    "                          itemsizing='constant' #to show larget legend markers\n",
    "                      ))\n",
    "\n",
    "fig.write_html('adeno.primary.html', auto_open=True)"
   ]
  },
  {
   "cell_type": "code",
   "execution_count": 67,
   "metadata": {},
   "outputs": [
    {
     "name": "stdout",
     "output_type": "stream",
     "text": [
      "14\n"
     ]
    }
   ],
   "source": [
    "'''\n",
    "Evaluate the distribution of sample over the clusters\n",
    "'''\n",
    "sample_profiles = []\n",
    "for sample in set(df['labels']):\n",
    "    #the first value is for the unassigned points\n",
    "    sample_profiles.append(df[df.labels == sample]['cluster'].value_counts(normalize=False).sort_index().tolist())\n",
    "print(len(sample_profiles))"
   ]
  },
  {
   "cell_type": "code",
   "execution_count": 68,
   "metadata": {},
   "outputs": [],
   "source": [
    "profile_df = pd.DataFrame.from_records(sample_profiles).transpose()\n",
    "labeled_profile_df = profile_df.drop([0]) # remove unlabeled points"
   ]
  },
  {
   "cell_type": "code",
   "execution_count": 69,
   "metadata": {},
   "outputs": [
    {
     "data": {
      "text/plain": [
       "(15, 14)"
      ]
     },
     "execution_count": 69,
     "metadata": {},
     "output_type": "execute_result"
    }
   ],
   "source": [
    "labeled_profile_df.shape"
   ]
  },
  {
   "cell_type": "code",
   "execution_count": 70,
   "metadata": {},
   "outputs": [],
   "source": [
    "labeled_profile_df.columns = list(set(df['labels']))"
   ]
  },
  {
   "cell_type": "code",
   "execution_count": 71,
   "metadata": {},
   "outputs": [
    {
     "data": {
      "text/html": [
       "<div>\n",
       "<style scoped>\n",
       "    .dataframe tbody tr th:only-of-type {\n",
       "        vertical-align: middle;\n",
       "    }\n",
       "\n",
       "    .dataframe tbody tr th {\n",
       "        vertical-align: top;\n",
       "    }\n",
       "\n",
       "    .dataframe thead th {\n",
       "        text-align: right;\n",
       "    }\n",
       "</style>\n",
       "<table border=\"1\" class=\"dataframe\">\n",
       "  <thead>\n",
       "    <tr style=\"text-align: right;\">\n",
       "      <th></th>\n",
       "      <th>41</th>\n",
       "      <th>52</th>\n",
       "      <th>13</th>\n",
       "      <th>54</th>\n",
       "      <th>40</th>\n",
       "      <th>45</th>\n",
       "      <th>56</th>\n",
       "      <th>57</th>\n",
       "      <th>17</th>\n",
       "      <th>53</th>\n",
       "      <th>51</th>\n",
       "      <th>39</th>\n",
       "      <th>38</th>\n",
       "      <th>46</th>\n",
       "    </tr>\n",
       "  </thead>\n",
       "  <tbody>\n",
       "    <tr>\n",
       "      <th>1</th>\n",
       "      <td>584.0</td>\n",
       "      <td>281.0</td>\n",
       "      <td>844.0</td>\n",
       "      <td>685.0</td>\n",
       "      <td>478.0</td>\n",
       "      <td>418.0</td>\n",
       "      <td>307.0</td>\n",
       "      <td>880.0</td>\n",
       "      <td>309.0</td>\n",
       "      <td>93.0</td>\n",
       "      <td>440.0</td>\n",
       "      <td>76.0</td>\n",
       "      <td>271.0</td>\n",
       "      <td>663.0</td>\n",
       "    </tr>\n",
       "    <tr>\n",
       "      <th>2</th>\n",
       "      <td>1489.0</td>\n",
       "      <td>251.0</td>\n",
       "      <td>1661.0</td>\n",
       "      <td>654.0</td>\n",
       "      <td>730.0</td>\n",
       "      <td>515.0</td>\n",
       "      <td>549.0</td>\n",
       "      <td>976.0</td>\n",
       "      <td>303.0</td>\n",
       "      <td>218.0</td>\n",
       "      <td>439.0</td>\n",
       "      <td>23.0</td>\n",
       "      <td>125.0</td>\n",
       "      <td>1345.0</td>\n",
       "    </tr>\n",
       "    <tr>\n",
       "      <th>3</th>\n",
       "      <td>2761.0</td>\n",
       "      <td>256.0</td>\n",
       "      <td>803.0</td>\n",
       "      <td>285.0</td>\n",
       "      <td>1910.0</td>\n",
       "      <td>572.0</td>\n",
       "      <td>103.0</td>\n",
       "      <td>348.0</td>\n",
       "      <td>26.0</td>\n",
       "      <td>309.0</td>\n",
       "      <td>1.0</td>\n",
       "      <td>35.0</td>\n",
       "      <td>15.0</td>\n",
       "      <td>119.0</td>\n",
       "    </tr>\n",
       "    <tr>\n",
       "      <th>4</th>\n",
       "      <td>1.0</td>\n",
       "      <td>19624.0</td>\n",
       "      <td>140.0</td>\n",
       "      <td>2.0</td>\n",
       "      <td>5.0</td>\n",
       "      <td>364.0</td>\n",
       "      <td>1.0</td>\n",
       "      <td>3.0</td>\n",
       "      <td>7869.0</td>\n",
       "      <td>57.0</td>\n",
       "      <td>93.0</td>\n",
       "      <td>17209.0</td>\n",
       "      <td>48.0</td>\n",
       "      <td>6.0</td>\n",
       "    </tr>\n",
       "    <tr>\n",
       "      <th>5</th>\n",
       "      <td>261.0</td>\n",
       "      <td>26.0</td>\n",
       "      <td>11689.0</td>\n",
       "      <td>193.0</td>\n",
       "      <td>85.0</td>\n",
       "      <td>6.0</td>\n",
       "      <td>32.0</td>\n",
       "      <td>2.0</td>\n",
       "      <td>165.0</td>\n",
       "      <td>91.0</td>\n",
       "      <td>36.0</td>\n",
       "      <td>90.0</td>\n",
       "      <td>6842.0</td>\n",
       "      <td>94.0</td>\n",
       "    </tr>\n",
       "    <tr>\n",
       "      <th>6</th>\n",
       "      <td>54.0</td>\n",
       "      <td>109.0</td>\n",
       "      <td>1115.0</td>\n",
       "      <td>108.0</td>\n",
       "      <td>6649.0</td>\n",
       "      <td>247.0</td>\n",
       "      <td>2.0</td>\n",
       "      <td>1.0</td>\n",
       "      <td>121.0</td>\n",
       "      <td>187.0</td>\n",
       "      <td>119.0</td>\n",
       "      <td>34.0</td>\n",
       "      <td>383.0</td>\n",
       "      <td>1207.0</td>\n",
       "    </tr>\n",
       "    <tr>\n",
       "      <th>7</th>\n",
       "      <td>239.0</td>\n",
       "      <td>11.0</td>\n",
       "      <td>518.0</td>\n",
       "      <td>36.0</td>\n",
       "      <td>1357.0</td>\n",
       "      <td>147.0</td>\n",
       "      <td>78.0</td>\n",
       "      <td>152.0</td>\n",
       "      <td>12401.0</td>\n",
       "      <td>15719.0</td>\n",
       "      <td>14694.0</td>\n",
       "      <td>103.0</td>\n",
       "      <td>86.0</td>\n",
       "      <td>7675.0</td>\n",
       "    </tr>\n",
       "    <tr>\n",
       "      <th>8</th>\n",
       "      <td>961.0</td>\n",
       "      <td>248.0</td>\n",
       "      <td>1254.0</td>\n",
       "      <td>482.0</td>\n",
       "      <td>508.0</td>\n",
       "      <td>1086.0</td>\n",
       "      <td>481.0</td>\n",
       "      <td>1691.0</td>\n",
       "      <td>351.0</td>\n",
       "      <td>85.0</td>\n",
       "      <td>36.0</td>\n",
       "      <td>33.0</td>\n",
       "      <td>317.0</td>\n",
       "      <td>660.0</td>\n",
       "    </tr>\n",
       "    <tr>\n",
       "      <th>9</th>\n",
       "      <td>304.0</td>\n",
       "      <td>NaN</td>\n",
       "      <td>1028.0</td>\n",
       "      <td>1046.0</td>\n",
       "      <td>335.0</td>\n",
       "      <td>78.0</td>\n",
       "      <td>300.0</td>\n",
       "      <td>2147.0</td>\n",
       "      <td>71.0</td>\n",
       "      <td>292.0</td>\n",
       "      <td>1582.0</td>\n",
       "      <td>2.0</td>\n",
       "      <td>1.0</td>\n",
       "      <td>937.0</td>\n",
       "    </tr>\n",
       "    <tr>\n",
       "      <th>10</th>\n",
       "      <td>8.0</td>\n",
       "      <td>NaN</td>\n",
       "      <td>14.0</td>\n",
       "      <td>15.0</td>\n",
       "      <td>677.0</td>\n",
       "      <td>233.0</td>\n",
       "      <td>817.0</td>\n",
       "      <td>13726.0</td>\n",
       "      <td>1.0</td>\n",
       "      <td>1.0</td>\n",
       "      <td>18.0</td>\n",
       "      <td>29.0</td>\n",
       "      <td>660.0</td>\n",
       "      <td>14.0</td>\n",
       "    </tr>\n",
       "    <tr>\n",
       "      <th>11</th>\n",
       "      <td>145.0</td>\n",
       "      <td>NaN</td>\n",
       "      <td>871.0</td>\n",
       "      <td>15992.0</td>\n",
       "      <td>6.0</td>\n",
       "      <td>8634.0</td>\n",
       "      <td>216.0</td>\n",
       "      <td>606.0</td>\n",
       "      <td>139.0</td>\n",
       "      <td>1555.0</td>\n",
       "      <td>9.0</td>\n",
       "      <td>12.0</td>\n",
       "      <td>199.0</td>\n",
       "      <td>198.0</td>\n",
       "    </tr>\n",
       "    <tr>\n",
       "      <th>12</th>\n",
       "      <td>48.0</td>\n",
       "      <td>NaN</td>\n",
       "      <td>2.0</td>\n",
       "      <td>8725.0</td>\n",
       "      <td>85.0</td>\n",
       "      <td>NaN</td>\n",
       "      <td>76.0</td>\n",
       "      <td>7.0</td>\n",
       "      <td>679.0</td>\n",
       "      <td>28.0</td>\n",
       "      <td>127.0</td>\n",
       "      <td>NaN</td>\n",
       "      <td>112.0</td>\n",
       "      <td>175.0</td>\n",
       "    </tr>\n",
       "    <tr>\n",
       "      <th>13</th>\n",
       "      <td>NaN</td>\n",
       "      <td>NaN</td>\n",
       "      <td>360.0</td>\n",
       "      <td>3.0</td>\n",
       "      <td>8.0</td>\n",
       "      <td>NaN</td>\n",
       "      <td>13426.0</td>\n",
       "      <td>26.0</td>\n",
       "      <td>558.0</td>\n",
       "      <td>148.0</td>\n",
       "      <td>292.0</td>\n",
       "      <td>NaN</td>\n",
       "      <td>NaN</td>\n",
       "      <td>447.0</td>\n",
       "    </tr>\n",
       "    <tr>\n",
       "      <th>14</th>\n",
       "      <td>NaN</td>\n",
       "      <td>NaN</td>\n",
       "      <td>3.0</td>\n",
       "      <td>756.0</td>\n",
       "      <td>351.0</td>\n",
       "      <td>NaN</td>\n",
       "      <td>451.0</td>\n",
       "      <td>436.0</td>\n",
       "      <td>8.0</td>\n",
       "      <td>56.0</td>\n",
       "      <td>138.0</td>\n",
       "      <td>NaN</td>\n",
       "      <td>NaN</td>\n",
       "      <td>NaN</td>\n",
       "    </tr>\n",
       "    <tr>\n",
       "      <th>15</th>\n",
       "      <td>NaN</td>\n",
       "      <td>NaN</td>\n",
       "      <td>282.0</td>\n",
       "      <td>NaN</td>\n",
       "      <td>NaN</td>\n",
       "      <td>NaN</td>\n",
       "      <td>NaN</td>\n",
       "      <td>116.0</td>\n",
       "      <td>59.0</td>\n",
       "      <td>NaN</td>\n",
       "      <td>NaN</td>\n",
       "      <td>NaN</td>\n",
       "      <td>NaN</td>\n",
       "      <td>NaN</td>\n",
       "    </tr>\n",
       "  </tbody>\n",
       "</table>\n",
       "</div>"
      ],
      "text/plain": [
       "        41       52       13       54      40      45       56       57  \\\n",
       "1    584.0    281.0    844.0    685.0   478.0   418.0    307.0    880.0   \n",
       "2   1489.0    251.0   1661.0    654.0   730.0   515.0    549.0    976.0   \n",
       "3   2761.0    256.0    803.0    285.0  1910.0   572.0    103.0    348.0   \n",
       "4      1.0  19624.0    140.0      2.0     5.0   364.0      1.0      3.0   \n",
       "5    261.0     26.0  11689.0    193.0    85.0     6.0     32.0      2.0   \n",
       "6     54.0    109.0   1115.0    108.0  6649.0   247.0      2.0      1.0   \n",
       "7    239.0     11.0    518.0     36.0  1357.0   147.0     78.0    152.0   \n",
       "8    961.0    248.0   1254.0    482.0   508.0  1086.0    481.0   1691.0   \n",
       "9    304.0      NaN   1028.0   1046.0   335.0    78.0    300.0   2147.0   \n",
       "10     8.0      NaN     14.0     15.0   677.0   233.0    817.0  13726.0   \n",
       "11   145.0      NaN    871.0  15992.0     6.0  8634.0    216.0    606.0   \n",
       "12    48.0      NaN      2.0   8725.0    85.0     NaN     76.0      7.0   \n",
       "13     NaN      NaN    360.0      3.0     8.0     NaN  13426.0     26.0   \n",
       "14     NaN      NaN      3.0    756.0   351.0     NaN    451.0    436.0   \n",
       "15     NaN      NaN    282.0      NaN     NaN     NaN      NaN    116.0   \n",
       "\n",
       "         17       53       51       39      38      46  \n",
       "1     309.0     93.0    440.0     76.0   271.0   663.0  \n",
       "2     303.0    218.0    439.0     23.0   125.0  1345.0  \n",
       "3      26.0    309.0      1.0     35.0    15.0   119.0  \n",
       "4    7869.0     57.0     93.0  17209.0    48.0     6.0  \n",
       "5     165.0     91.0     36.0     90.0  6842.0    94.0  \n",
       "6     121.0    187.0    119.0     34.0   383.0  1207.0  \n",
       "7   12401.0  15719.0  14694.0    103.0    86.0  7675.0  \n",
       "8     351.0     85.0     36.0     33.0   317.0   660.0  \n",
       "9      71.0    292.0   1582.0      2.0     1.0   937.0  \n",
       "10      1.0      1.0     18.0     29.0   660.0    14.0  \n",
       "11    139.0   1555.0      9.0     12.0   199.0   198.0  \n",
       "12    679.0     28.0    127.0      NaN   112.0   175.0  \n",
       "13    558.0    148.0    292.0      NaN     NaN   447.0  \n",
       "14      8.0     56.0    138.0      NaN     NaN     NaN  \n",
       "15     59.0      NaN      NaN      NaN     NaN     NaN  "
      ]
     },
     "execution_count": 71,
     "metadata": {},
     "output_type": "execute_result"
    }
   ],
   "source": [
    "labeled_profile_df"
   ]
  },
  {
   "cell_type": "code",
   "execution_count": 74,
   "metadata": {},
   "outputs": [
    {
     "data": {
      "text/plain": [
       "array([[<matplotlib.axes._subplots.AxesSubplot object at 0x7ff7786d32d0>,\n",
       "        <matplotlib.axes._subplots.AxesSubplot object at 0x7ff7768e8c10>,\n",
       "        <matplotlib.axes._subplots.AxesSubplot object at 0x7ff7768c5050>],\n",
       "       [<matplotlib.axes._subplots.AxesSubplot object at 0x7ff7768474d0>,\n",
       "        <matplotlib.axes._subplots.AxesSubplot object at 0x7ff7767fe950>,\n",
       "        <matplotlib.axes._subplots.AxesSubplot object at 0x7ff776834dd0>],\n",
       "       [<matplotlib.axes._subplots.AxesSubplot object at 0x7ff7767f5ed0>,\n",
       "        <matplotlib.axes._subplots.AxesSubplot object at 0x7ff7767ae710>,\n",
       "        <matplotlib.axes._subplots.AxesSubplot object at 0x7ff7767b9290>],\n",
       "       [<matplotlib.axes._subplots.AxesSubplot object at 0x7ff776770890>,\n",
       "        <matplotlib.axes._subplots.AxesSubplot object at 0x7ff7766dd4d0>,\n",
       "        <matplotlib.axes._subplots.AxesSubplot object at 0x7ff776695950>],\n",
       "       [<matplotlib.axes._subplots.AxesSubplot object at 0x7ff776648dd0>,\n",
       "        <matplotlib.axes._subplots.AxesSubplot object at 0x7ff77660cdd0>,\n",
       "        <matplotlib.axes._subplots.AxesSubplot object at 0x7ff7765c5710>]],\n",
       "      dtype=object)"
      ]
     },
     "execution_count": 74,
     "metadata": {},
     "output_type": "execute_result"
    },
    {
     "data": {
      "image/png": "[encoded data removed]",
      "text/plain": [
       "<Figure size 1440x1440 with 15 Axes>"
      ]
     },
     "metadata": {
      "needs_background": "light"
     },
     "output_type": "display_data"
    }
   ],
   "source": [
    "#for sample in set(df['labels']):\n",
    "labeled_profile_df.plot(figsize=(20,20), subplots=True,kind='bar', width=1.0, legend=False, \n",
    "                             layout=(5, 3), sharex=True, sharey=True)\n",
    "#plt.tight_layout()"
   ]
  },
  {
   "cell_type": "code",
   "execution_count": 75,
   "metadata": {},
   "outputs": [
    {
     "data": {
      "text/plain": [
       "<matplotlib.axes._subplots.AxesSubplot at 0x7ff7760e7990>"
      ]
     },
     "execution_count": 75,
     "metadata": {},
     "output_type": "execute_result"
    },
    {
     "data": {
      "image/png": "[encoded data removed]",
      "text/plain": [
       "<Figure size 720x720 with 1 Axes>"
      ]
     },
     "metadata": {
      "needs_background": "light"
     },
     "output_type": "display_data"
    }
   ],
   "source": [
    "#plt.figure(figsize=(20,20));\n",
    "labeled_profile_df.plot.bar(stacked=True,figsize=(10,10))"
   ]
  },
  {
   "cell_type": "code",
   "execution_count": null,
   "metadata": {},
   "outputs": [],
   "source": []
  }
 ],
 "metadata": {
  "kernelspec": {
   "display_name": "Python 3",
   "language": "python",
   "name": "python3"
  },
  "language_info": {
   "codemirror_mode": {
    "name": "ipython",
    "version": 3
   },
   "file_extension": ".py",
   "mimetype": "text/x-python",
   "name": "python",
   "nbconvert_exporter": "python",
   "pygments_lexer": "ipython3",
   "version": "3.7.4"
  }
 },
 "nbformat": 4,
 "nbformat_minor": 2
}
