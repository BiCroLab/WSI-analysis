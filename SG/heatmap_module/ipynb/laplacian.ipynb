{
 "cells": [
  {
   "cell_type": "code",
   "execution_count": null,
   "metadata": {},
   "outputs": [],
   "source": [
    "#!/usr/bin/env python\n",
    "# coding: utf-8\n",
    "\n",
    "import numpy as np\n",
    "import sys\n",
    "import umap\n",
    "import warnings\n",
    "from scipy import sparse\n",
    "import networkx as nx\n",
    "warnings.filterwarnings('ignore')\n",
    "import seaborn as sns;sns.set()\n",
    "import matplotlib.pyplot as plt\n",
    "import pandas as pd"
   ]
  },
  {
   "cell_type": "code",
   "execution_count": null,
   "metadata": {},
   "outputs": [],
   "source": [
    "#REGENERATE THE MATRICES BECAUSE MAYBE THEY DO NOT MATCH\n",
    "W = sparse.load_npz('/media/garner1/hdd2/HE/segmentation/MN4__33230-2.svs.Detections.txt.nn5_graph.npz') \n",
    "ccfilename = '/media/garner1/hdd2/HE/segmentation/MN4__33230-2.svs.Detections.txt.cc.walkhistory.npy'\n",
    "areafilename = '/media/garner1/hdd2/HE/segmentation/MN4__33230-2.svs.Detections.txt.area.walkhistory.npy'\n",
    "txtfilename = '/media/garner1/hdd2/HE/segmentation/MN4__33230-2.svs.Detections.txt'\n",
    "step = int(100) # which col in history"
   ]
  },
  {
   "cell_type": "code",
   "execution_count": null,
   "metadata": {},
   "outputs": [],
   "source": [
    "cc = np.load(ccfilename,allow_pickle=True)\n",
    "area = np.load(areafilename,allow_pickle=True)\n",
    "mean_cc = np.mean(cc[:,:step],axis=1)\n",
    "mean_area = np.mean(area[:,:step],axis=1)"
   ]
  },
  {
   "cell_type": "code",
   "execution_count": null,
   "metadata": {},
   "outputs": [],
   "source": [
    "####################################\n",
    "# create empty list for node colors\n",
    "G = nx.Graph()\n",
    "pos = np.loadtxt(txtfilename, delimiter=\"\\t\",skiprows=True,usecols=(5,6))\n",
    "G.add_nodes_from(range(W.shape[0]))\n",
    "L = nx.laplacian_matrix(nx.from_scipy_sparse_matrix(W,edge_attribute='weight'))"
   ]
  },
  {
   "cell_type": "code",
   "execution_count": null,
   "metadata": {},
   "outputs": [],
   "source": [
    "laplace_cc = L.dot(mean_cc) # the node values of the Laplacian\n",
    "laplace_area = L.dot(mean_area)\n",
    "attribute = laplace_cc"
   ]
  },
  {
   "cell_type": "code",
   "execution_count": null,
   "metadata": {},
   "outputs": [],
   "source": [
    "# node_color = np.interp(meanAttribute, (meanAttribute.min(), meanAttribute.max()), (0, +10))\n",
    "node_color_area = pd.qcut(mean_area, 10, labels=False)\n",
    "node_color_cc = pd.qcut(mean_cc, 10, labels=False)"
   ]
  },
  {
   "cell_type": "code",
   "execution_count": null,
   "metadata": {},
   "outputs": [],
   "source": [
    "sns.set(style='white', rc={'figure.figsize':(5,10)})\n",
    "sns.distplot(abs(attribute))\n",
    "print(np.mean(abs(attribute)))"
   ]
  },
  {
   "cell_type": "code",
   "execution_count": null,
   "metadata": {},
   "outputs": [],
   "source": [
    "threshold = 0.5*np.mean(abs(attribute))\n",
    "print(threshold)\n",
    "print(np.argwhere(abs(attribute)<threshold).shape)"
   ]
  },
  {
   "cell_type": "code",
   "execution_count": null,
   "metadata": {},
   "outputs": [],
   "source": [
    "####################################\n",
    "# create empty list for node colors\n",
    "\n",
    "border = np.argwhere(abs(attribute-np.zeros(attribute.shape))<threshold).squeeze()\n",
    "G2 = G.subgraph(border)\n",
    "core = np.argwhere(abs(attribute-np.zeros(attribute.shape))>=threshold).squeeze()\n",
    "G3 = G.subgraph(core)"
   ]
  },
  {
   "cell_type": "code",
   "execution_count": null,
   "metadata": {},
   "outputs": [],
   "source": [
    "# draw graph with node attribute color\n",
    "sns.set(style='white', rc={'figure.figsize':(50,50)})\n",
    "nx.draw_networkx_nodes(G2, pos, alpha=0.5,node_color=node_color_cc[border], node_size=1,cmap='viridis')\n",
    "# nx.draw_networkx_nodes(G2,pos=pos,node_color='r',alpha=1.0,node_size=1)"
   ]
  },
  {
   "cell_type": "code",
   "execution_count": null,
   "metadata": {},
   "outputs": [],
   "source": [
    "####################################\n",
    "# create empty list for node colors\n",
    "\n",
    "# draw graph with node attribute color\n",
    "sns.set(style='white', rc={'figure.figsize':(50,50)})\n",
    "nx.draw_networkx_nodes(G3, pos, alpha=0.5,node_color=node_color_cc[core], node_size=1,cmap='viridis')\n",
    "# nx.draw_networkx_nodes(G2,pos=pos,node_color='r',alpha=1.0,node_size=1)"
   ]
  },
  {
   "cell_type": "code",
   "execution_count": null,
   "metadata": {},
   "outputs": [],
   "source": [
    "####################################\n",
    "# draw graph with node attribute color\n",
    "sns.set(style='white', rc={'figure.figsize':(50,50)})\n",
    "nx.draw_networkx_nodes(G, pos, alpha=0.5,node_color=node_color_area, node_size=1,cmap='viridis')\n",
    "# nx.draw_networkx_nodes(G2,pos=pos,node_color='r',alpha=1.0,node_size=1)"
   ]
  },
  {
   "cell_type": "code",
   "execution_count": null,
   "metadata": {},
   "outputs": [],
   "source": [
    "####################################\n",
    "# draw graph with node attribute color\n",
    "sns.set(style='white', rc={'figure.figsize':(50,50)})\n",
    "nx.draw_networkx_nodes(G, pos, alpha=0.5,node_color=node_color_cc, node_size=1,cmap='viridis')\n",
    "# nx.draw_networkx_nodes(G2,pos=pos,node_color='r',alpha=1.0,node_size=1)"
   ]
  }
 ],
 "metadata": {
  "kernelspec": {
   "display_name": "Python 3",
   "language": "python",
   "name": "python3"
  },
  "language_info": {
   "codemirror_mode": {
    "name": "ipython",
    "version": 3
   },
   "file_extension": ".py",
   "mimetype": "text/x-python",
   "name": "python",
   "nbconvert_exporter": "python",
   "pygments_lexer": "ipython3",
   "version": "3.7.3"
  }
 },
 "nbformat": 4,
 "nbformat_minor": 4
}
