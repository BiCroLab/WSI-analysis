{
 "cells": [
  {
   "cell_type": "code",
   "execution_count": 11,
   "metadata": {},
   "outputs": [],
   "source": [
    "import numpy as np\n",
    "from mpl_toolkits.mplot3d import Axes3D \n",
    "import matplotlib.pyplot as plt\n",
    "import glob\n",
    "import plotly.graph_objects as go\n",
    "import numpy as np\n",
    "\n",
    "from plotly.graph_objs import *\n",
    "import pandas as pd\n",
    "import plotly.express as px"
   ]
  },
  {
   "cell_type": "code",
   "execution_count": 77,
   "metadata": {},
   "outputs": [],
   "source": [
    "'''\n",
    "UMAP representation of the morphology\n",
    "'''\n",
    "import plotly.graph_objects as go\n",
    "from plotly.graph_objs import *\n",
    "import pandas as pd\n",
    "import plotly.express as px\n",
    "import os\n",
    "\n",
    "from sklearn.neighbors import NearestNeighbors\n",
    "from numpy import linalg as LA\n",
    "\n",
    "usecols = (1,2,3, 4, 5, 6, 7, 8)\n",
    "\n",
    "embedding_filename = '/home/garner1/wsi-data/npy/id'+str(39)+'_clusterable_embedding.morphology.npy'\n",
    "embedding = np.load(embedding_filename, allow_pickle=True)\n",
    "\n",
    "sample_size = 100000\n",
    "subidx = np.random.randint(embedding.shape[0], size=sample_size)\n",
    "\n",
    "sub_embedding = embedding[subidx,:]\n",
    "df_embedding = pd.DataFrame(data=sub_embedding, columns=['x','y','z'])\n"
   ]
  },
  {
   "cell_type": "code",
   "execution_count": 83,
   "metadata": {},
   "outputs": [],
   "source": [
    "nbrs = NearestNeighbors(n_neighbors=500, algorithm='kd_tree').fit(sub_embedding)\n",
    "distances, indices = nbrs.kneighbors(sub_embedding)"
   ]
  },
  {
   "cell_type": "code",
   "execution_count": 84,
   "metadata": {},
   "outputs": [],
   "source": [
    "eigvals = [LA.eigvalsh(np.cov(sub_embedding[indices[idx,:],:].T)) for idx in range(sub_embedding.shape[0])]"
   ]
  },
  {
   "cell_type": "code",
   "execution_count": 85,
   "metadata": {},
   "outputs": [],
   "source": [
    "curvatures = [min(eigvals[idx])/sum(eigvals[idx]) for idx in range(len(eigvals))]"
   ]
  },
  {
   "cell_type": "code",
   "execution_count": 86,
   "metadata": {},
   "outputs": [
    {
     "data": {
      "image/png": "[encoded data removed]",
      "text/plain": [
       "<Figure size 432x288 with 1 Axes>"
      ]
     },
     "metadata": {
      "needs_background": "light"
     },
     "output_type": "display_data"
    }
   ],
   "source": [
    "import seaborn as sns\n",
    "sns.distplot(curvatures)\n",
    "plt.show()"
   ]
  },
  {
   "cell_type": "code",
   "execution_count": 87,
   "metadata": {},
   "outputs": [],
   "source": [
    "'''\n",
    "UMAP representation of the morphology\n",
    "'''\n",
    "df_embedding['curvature'] = curvatures\n",
    "\n",
    "fig = px.scatter_3d(df_embedding, \n",
    "                    x=\"x\", y=\"y\", z=\"z\", \n",
    "                    color=\"curvature\", \n",
    "                    hover_name=\"curvature\", \n",
    "                    color_discrete_sequence=px.colors.qualitative.Set2)\n",
    "\n",
    "fig.update_traces(marker=dict(size=1,opacity=0.5),selector=dict(mode='markers'))\n",
    "\n",
    "fig.write_html('test.html', auto_open=True)"
   ]
  },
  {
   "cell_type": "code",
   "execution_count": 46,
   "metadata": {},
   "outputs": [],
   "source": [
    "'''\n",
    "UMAP representation of the morphology\n",
    "'''\n",
    "df_embedding['curvature'] = curvatures\n",
    "\n",
    "df = df_embedding[df_embedding['curvature']>=0.3]\n",
    "#df = df[df['curvature']<=0.2]\n",
    "\n",
    "fig = px.scatter_3d(df, \n",
    "                    x=\"x\", y=\"y\", z=\"z\", \n",
    "                    hover_name=\"curvature\", \n",
    "                    )\n",
    "\n",
    "fig.update_traces(marker=dict(size=1,opacity=0.5),selector=dict(mode='markers'))\n",
    "\n",
    "fig.write_html('test.html', auto_open=True)"
   ]
  },
  {
   "cell_type": "code",
   "execution_count": null,
   "metadata": {},
   "outputs": [],
   "source": []
  }
 ],
 "metadata": {
  "kernelspec": {
   "display_name": "Python 3",
   "language": "python",
   "name": "python3"
  },
  "language_info": {
   "codemirror_mode": {
    "name": "ipython",
    "version": 3
   },
   "file_extension": ".py",
   "mimetype": "text/x-python",
   "name": "python",
   "nbconvert_exporter": "python",
   "pygments_lexer": "ipython3",
   "version": "3.7.4"
  }
 },
 "nbformat": 4,
 "nbformat_minor": 2
}
