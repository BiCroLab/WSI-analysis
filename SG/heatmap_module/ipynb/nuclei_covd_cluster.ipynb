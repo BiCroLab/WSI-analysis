{
 "cells": [
  {
   "cell_type": "code",
   "execution_count": 1,
   "metadata": {},
   "outputs": [],
   "source": [
    "'''\n",
    "Load the necessary libraries\n",
    "'''\n",
    "\n",
    "from mpl_toolkits.mplot3d import Axes3D \n",
    "import matplotlib.pyplot as plt\n",
    "import plotly.graph_objects as go\n",
    "from plotly.graph_objs import *\n",
    "import plotly.express as px\n",
    "import seaborn as sns\n",
    "%matplotlib inline\n",
    "sns.set_context('poster')\n",
    "sns.set_style('white')\n",
    "sns.set_color_codes()\n",
    "plot_kwds = {'alpha' : 0.5, 's' : 80, 'linewidths':0}\n",
    "\n",
    "import hdbscan\n",
    "\n",
    "import os\n",
    "import glob\n",
    "\n",
    "from sklearn.neighbors import NearestNeighbors\n",
    "from numpy import linalg as LA\n",
    "import numpy as np\n",
    "import pandas as pd"
   ]
  },
  {
   "cell_type": "code",
   "execution_count": 12,
   "metadata": {},
   "outputs": [],
   "source": [
    "df = pd.read_pickle(\"./centroids_embedding_nuclei_covd.pkl\")\n",
    "df = df.sample(n=50000)\n",
    "embedding = df[['x','y','z']].to_numpy()\n",
    "fig = px.scatter_3d(df, x=\"x\", y=\"y\", z=\"z\")\n",
    "fig.update_traces(marker=dict(size=1,opacity=0.5),selector=dict(mode='markers'))\n",
    "fig.write_html('nuclei-covd-embedding.html', auto_open=True)\n"
   ]
  },
  {
   "cell_type": "code",
   "execution_count": 13,
   "metadata": {},
   "outputs": [],
   "source": [
    "'''\n",
    "Calculate the local curvature of the point cloud embedding\n",
    "'''\n",
    "# Find the neighborood\n",
    "n_neighbors = 100 # parameter to be adjausted\n",
    "\n",
    "# For each point's neighborood determine the curvature using the covariance of the neighborood\n",
    "\n",
    "#nbrs = NearestNeighbors(n_neighbors=n_neighbors, algorithm='kd_tree').fit(subsample)\n",
    "#distances, indices = nbrs.kneighbors(subsample)\n",
    "#eigvals = [LA.eigvalsh(np.cov(subsample[indices[idx,:],:].T)) for idx in range(subsample.shape[0])] #if subsample\n",
    "\n",
    "nbrs = NearestNeighbors(n_neighbors=n_neighbors, algorithm='kd_tree').fit(embedding)\n",
    "distances, indices = nbrs.kneighbors(embedding)\n",
    "eigvals = [LA.eigvalsh(np.cov(embedding[indices[idx,:],:].T)) for idx in range(embedding.shape[0])] #full data\n",
    "\n",
    "curvatures = [min(eigvals[idx])/sum(eigvals[idx]) for idx in range(len(eigvals))]\n",
    "\n",
    "# Add curvature to the dataframe\n",
    "df['curvature'] = curvatures "
   ]
  },
  {
   "cell_type": "code",
   "execution_count": 14,
   "metadata": {
    "scrolled": true
   },
   "outputs": [
    {
     "data": {
      "image/png": "[encoded data removed]",
      "text/plain": [
       "<Figure size 432x288 with 1 Axes>"
      ]
     },
     "metadata": {
      "needs_background": "light"
     },
     "output_type": "display_data"
    }
   ],
   "source": [
    "# Find the minima in curvature histrogram\n",
    "q1 = np.quantile(curvatures,0.1)\n",
    "\n",
    "plt.hist(curvatures,bins=25)\n",
    "plt.axvline(q1,0,7500)\n",
    "plt.show()"
   ]
  },
  {
   "cell_type": "markdown",
   "metadata": {},
   "source": [
    "The mean intensity seems the quantity with the highest discriminative power."
   ]
  },
  {
   "cell_type": "code",
   "execution_count": 21,
   "metadata": {},
   "outputs": [],
   "source": [
    "df['color'] = pd.qcut(df['mean_intensity'], 10, labels=False)\n",
    "fig = px.scatter_3d(df, x=\"x\", y=\"y\", z=\"z\", color=\"color\")\n",
    "fig.update_traces(marker=dict(size=1,opacity=0.5),selector=dict(mode='markers'))\n",
    "fig.update_layout(title='Curvature',\n",
    "                            font=dict(\n",
    "                            family=\"Courier New, monospace\",\n",
    "                            size=18,\n",
    "                            color=\"#7f7f7f\"\n",
    "                                )\n",
    "                     )\n",
    "fig.write_html('test.curvature.3Dumap.html', auto_open=True)"
   ]
  },
  {
   "cell_type": "code",
   "execution_count": 18,
   "metadata": {},
   "outputs": [],
   "source": [
    "df1 = df[df['color'] > 8] # define the low curvature sector\n",
    "\n",
    "fig = px.scatter_3d(df1, x=\"x\", y=\"y\", z=\"z\", color=\"color\")\n",
    "fig.update_traces(marker=dict(size=1,opacity=0.5),selector=dict(mode='markers'))\n",
    "fig.update_layout(title='Curvature values in the first quartile',\n",
    "                            font=dict(\n",
    "                            family=\"Courier New, monospace\",\n",
    "                            size=18,\n",
    "                            color=\"#7f7f7f\"\n",
    "                                )\n",
    "                     )\n",
    "fig.write_html('test.curvature_q1.3Dumap.html', auto_open=True)"
   ]
  },
  {
   "cell_type": "code",
   "execution_count": 91,
   "metadata": {},
   "outputs": [
    {
     "name": "stderr",
     "output_type": "stream",
     "text": [
      "/home/garner1/miniconda3/lib/python3.7/site-packages/ipykernel_launcher.py:15: SettingWithCopyWarning:\n",
      "\n",
      "\n",
      "A value is trying to be set on a copy of a slice from a DataFrame.\n",
      "Try using .loc[row_indexer,col_indexer] = value instead\n",
      "\n",
      "See the caveats in the documentation: http://pandas.pydata.org/pandas-docs/stable/user_guide/indexing.html#returning-a-view-versus-a-copy\n",
      "\n",
      "/home/garner1/miniconda3/lib/python3.7/site-packages/ipykernel_launcher.py:16: SettingWithCopyWarning:\n",
      "\n",
      "\n",
      "A value is trying to be set on a copy of a slice from a DataFrame.\n",
      "Try using .loc[row_indexer,col_indexer] = value instead\n",
      "\n",
      "See the caveats in the documentation: http://pandas.pydata.org/pandas-docs/stable/user_guide/indexing.html#returning-a-view-versus-a-copy\n",
      "\n"
     ]
    },
    {
     "data": {
      "image/png": "[encoded data removed]",
      "text/plain": [
       "<Figure size 432x288 with 2 Axes>"
      ]
     },
     "metadata": {},
     "output_type": "display_data"
    }
   ],
   "source": [
    "min_cluster_size = 100 # parameter to be adjausted\n",
    "min_samples = 50       # parameter to be adjausted\n",
    "    \n",
    "clusterer = hdbscan.HDBSCAN(min_samples=min_samples, \n",
    "                                min_cluster_size=min_cluster_size, \n",
    "                                gen_min_span_tree=True)\n",
    "clusterer.fit(df1.loc[:,('x','y','z')]) \n",
    "\n",
    "clusterer.condensed_tree_.plot(select_clusters=True,\n",
    "                               selection_palette=sns.color_palette(\"Set2\",len(clusterer.labels_)))\n",
    "    \n",
    "df1['cluster'] = clusterer.labels_    # add cluster id to dataframe\n",
    "df1['cluster'] = df1['cluster'].apply(str)   # make cluster id a string\n",
    "df_filtered = df1[df1.cluster != str(-1)] # remove unassigned points\n",
    "    \n",
    "fig = px.scatter(df_filtered, x=\"cx\", y=\"cy\",color=\"cluster\",\n",
    "                     width=800, height=800,\n",
    "                     color_discrete_sequence=px.colors.qualitative.Set2)\n",
    "fig.update_traces(marker=dict(size=3,opacity=1))\n",
    "fig.write_html('spatial_decoration.html', auto_open=True)\n",
    "    \n",
    "fig = px.scatter_3d(df_filtered, x=\"x\", y=\"y\", z=\"z\", color=\"cluster\", hover_name=\"cluster\", \n",
    "                        color_discrete_sequence=px.colors.qualitative.Set2)\n",
    "fig.update_traces(marker=dict(size=3,opacity=1.0),selector=dict(mode='markers'))\n",
    "fig.write_html('low_curvature_clusters.html', auto_open=True)"
   ]
  },
  {
   "cell_type": "markdown",
   "metadata": {},
   "source": [
    "Thinking of the pipeline as a tool we should aim at simplifying the visualization and adjusting the parameters in order for the user to tune the output to his need. "
   ]
  },
  {
   "cell_type": "code",
   "execution_count": 113,
   "metadata": {},
   "outputs": [],
   "source": [
    "# partition curvatures into quantiles\n",
    "numb_quantiles =  10 # parameter to be adjausted\n",
    "df['curvature_quantile'] = pd.qcut(curvatures,numb_quantiles, retbins=False, labels=False)\n",
    "#df['curvature_quantile'] = df['curvature_quantile'].apply(str)   #make clustet id a string\n",
    "\n",
    "# There is now direct correlation between curvature and morphological features, \n",
    "# but curvature can still be used to segment the manifold\n",
    "\n",
    "#plt.scatter(df['area'], df['curvature'],s=1)\n",
    "#plt.show()\n",
    "\n",
    "min_cluster_size = 500 # parameter to be adjausted\n",
    "min_samples = 50       # parameter to be adjausted\n",
    "for q in range(numb_quantiles)[:]:\n",
    "    df_quantile = df[df['curvature_quantile']==q]\n",
    "    # Cluster the curvature's quantile of the point cloud\n",
    "\n",
    "    clusterer = hdbscan.HDBSCAN(min_samples=min_samples, \n",
    "                                min_cluster_size=min_cluster_size, \n",
    "                                gen_min_span_tree=True)\n",
    "    clusterer.fit(df_quantile.loc[:,('x','y','z')]) \n",
    "\n",
    "#    clusterer.condensed_tree_.plot(select_clusters=True,selection_palette=sns.color_palette(\"Set2\",len(clusterer.labels_)))\n",
    "    \n",
    "    df_quantile['cluster'] = clusterer.labels_    # add cluster id to dataframe\n",
    "    df_quantile['cluster'] = df_quantile['cluster'].apply(str)   # make cluster id a string\n",
    "    df_filtered = df_quantile[df_quantile.cluster != str(-1)] # remove unassigned points\n",
    "\n",
    "    \n",
    "    fig = px.scatter(df_filtered, x=\"cx\", y=\"cy\",color=\"cluster\",width=800, height=800)\n",
    "    fig.update_traces(marker=dict(size=5,opacity=1),selector=dict(mode='markers'))\n",
    "    \n",
    "#    fig = px.scatter_3d(df_filtered, x=\"x\", y=\"y\", z=\"z\", color=\"cluster\", hover_name=\"cluster\", \n",
    "#                        color_discrete_sequence=px.colors.qualitative.Set2)\n",
    "#    fig.update_traces(marker=dict(size=1,opacity=0.75),selector=dict(mode='markers'))\n",
    "\n",
    "    fig.write_html('test.html', auto_open=True)"
   ]
  },
  {
   "cell_type": "code",
   "execution_count": 33,
   "metadata": {},
   "outputs": [],
   "source": [
    "'''\n",
    "UMAP representation of the morphology\n",
    "'''\n",
    "df_embedding['curvature'] = pd.qcut(curvatures,10, retbins=False, labels=False)\n",
    "\n",
    "fig = px.scatter_3d(df_embedding[df_embedding['curvature']==9], \n",
    "                    x=\"x\", y=\"y\", z=\"z\", \n",
    "                    color=\"curvature\", \n",
    "                    hover_name=\"curvature\", \n",
    "                    color_discrete_sequence=px.colors.qualitative.Set2)\n",
    "\n",
    "fig.update_traces(marker=dict(size=1,opacity=0.5),selector=dict(mode='markers'))\n",
    "\n",
    "fig.write_html('test.html', auto_open=True)"
   ]
  },
  {
   "cell_type": "code",
   "execution_count": 225,
   "metadata": {},
   "outputs": [],
   "source": [
    "if len(minima) == 2:\n",
    "    df1 = df[df['curvature'] < minima[0]]\n",
    "    df2 = df[(minima[0] <= df['curvature']) & (df['curvature'] < minima[1])]\n",
    "    df3 = df[minima[1] <= df['curvature']]\n",
    "if len(minima) == 1:\n",
    "    df1 = df[df['curvature'] < minima[0]]\n",
    "    df2 = df[minima[0] <= df['curvature']]"
   ]
  },
  {
   "cell_type": "code",
   "execution_count": null,
   "metadata": {},
   "outputs": [],
   "source": []
  }
 ],
 "metadata": {
  "kernelspec": {
   "display_name": "Python 3",
   "language": "python",
   "name": "python3"
  },
  "language_info": {
   "codemirror_mode": {
    "name": "ipython",
    "version": 3
   },
   "file_extension": ".py",
   "mimetype": "text/x-python",
   "name": "python",
   "nbconvert_exporter": "python",
   "pygments_lexer": "ipython3",
   "version": "3.7.4"
  }
 },
 "nbformat": 4,
 "nbformat_minor": 2
}
