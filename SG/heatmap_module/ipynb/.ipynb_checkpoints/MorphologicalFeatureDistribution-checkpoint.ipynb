{
 "cells": [
  {
   "cell_type": "code",
   "execution_count": null,
   "metadata": {},
   "outputs": [],
   "source": [
    "import networkx as nx\n",
    "import numpy as np\n",
    "import pandas as pd\n",
    "import seaborn as sns\n",
    "from scipy import sparse\n",
    "sns.set()\n",
    "import glob, os\n",
    "import matplotlib.pyplot as plt"
   ]
  },
  {
   "cell_type": "code",
   "execution_count": null,
   "metadata": {},
   "outputs": [],
   "source": [
    "pattern=\"57\""
   ]
  },
  {
   "cell_type": "code",
   "execution_count": null,
   "metadata": {},
   "outputs": [],
   "source": [
    "col=7 #area\n",
    "\n",
    "os.chdir(\"/home/garner1/dataset/dapi\")\n",
    "fig = plt.figure(figsize=(10,8))\n",
    "for file in glob.glob(pattern+\"__*.txt\"):\n",
    "    print(file)\n",
    "    data = np.loadtxt(file,delimiter='\\t',skiprows=1,usecols=col)\n",
    "    data = data/np.mean(data)\n",
    "    sns.distplot(data,hist=False,label=file)\n",
    "os.chdir(\"/home/garner1/dataset/he\")\n",
    "for file in glob.glob(\"MN\"+pattern+\"__*.txt\"):\n",
    "    print(file)\n",
    "    data = np.loadtxt(file,delimiter='\\t',skiprows=1,usecols=col)\n",
    "    data = data/np.mean(data)\n",
    "    sns.distplot(data,hist=False,label=file)\n",
    "os.chdir(\"/home/garner1/dataset/\")\n",
    "plt.legend(loc='upper right')\n",
    "plt.savefig(pattern+\".area.png\")"
   ]
  },
  {
   "cell_type": "code",
   "execution_count": null,
   "metadata": {},
   "outputs": [],
   "source": [
    "col=8 #perimeter\n",
    "\n",
    "os.chdir(\"/home/garner1/dataset/dapi\")\n",
    "fig = plt.figure(figsize=(10,8))\n",
    "for file in glob.glob(pattern+\"__*.txt\"):\n",
    "    print(file)\n",
    "    data = np.loadtxt(file,delimiter='\\t',skiprows=1,usecols=col)\n",
    "    data = data/np.mean(data)\n",
    "    sns.distplot(data,hist=False,label=file)\n",
    "os.chdir(\"/home/garner1/dataset/he\")\n",
    "for file in glob.glob(\"MN\"+pattern+\"__*.txt\"):\n",
    "    print(file)\n",
    "    data = np.loadtxt(file,delimiter='\\t',skiprows=1,usecols=col)\n",
    "    data = data/np.mean(data)\n",
    "    sns.distplot(data,hist=False,label=file)\n",
    "os.chdir(\"/home/garner1/dataset/\")\n",
    "plt.legend(loc='upper right')\n",
    "plt.savefig(pattern+\".perimeter.png\")"
   ]
  },
  {
   "cell_type": "code",
   "execution_count": null,
   "metadata": {},
   "outputs": [],
   "source": [
    "col=9 #eccentricity\n",
    "\n",
    "os.chdir(\"/home/garner1/dataset/dapi\")\n",
    "fig = plt.figure(figsize=(10,8))\n",
    "for file in glob.glob(pattern+\"__*.txt\"):\n",
    "    print(file)\n",
    "    data = np.loadtxt(file,delimiter='\\t',skiprows=1,usecols=col)\n",
    "    data = data/np.mean(data)\n",
    "    sns.distplot(data,hist=False,label=file)\n",
    "os.chdir(\"/home/garner1/dataset/he\")\n",
    "for file in glob.glob(\"MN\"+pattern+\"__*.txt\"):\n",
    "    print(file)\n",
    "    data = np.loadtxt(file,delimiter='\\t',skiprows=1,usecols=col)\n",
    "    data = data/np.mean(data)\n",
    "    sns.distplot(data,hist=False,label=file)\n",
    "os.chdir(\"/home/garner1/dataset/\")\n",
    "plt.legend(loc='upper right')\n",
    "plt.savefig(pattern+\".eccentricity.png\")"
   ]
  },
  {
   "cell_type": "code",
   "execution_count": null,
   "metadata": {},
   "outputs": [],
   "source": [
    "col=12 #circularity\n",
    "\n",
    "os.chdir(\"/home/garner1/dataset/dapi\")\n",
    "fig = plt.figure(figsize=(10,8))\n",
    "for file in glob.glob(pattern+\"__*.txt\"):\n",
    "    print(file)\n",
    "    data = np.loadtxt(file,delimiter='\\t',skiprows=1,usecols=col)\n",
    "    data = data/np.mean(data)\n",
    "    sns.distplot(data,hist=False,label=file)\n",
    "os.chdir(\"/home/garner1/dataset/he\")\n",
    "for file in glob.glob(\"MN\"+pattern+\"__*.txt\"):\n",
    "    print(file)\n",
    "    data = np.loadtxt(file,delimiter='\\t',skiprows=1,usecols=col)\n",
    "    data = data/np.mean(data)\n",
    "    sns.distplot(data,hist=False,label=file)\n",
    "os.chdir(\"/home/garner1/dataset/\")\n",
    "plt.legend(loc='upper right')\n",
    "plt.savefig(pattern+\".circularity.png\")"
   ]
  },
  {
   "cell_type": "code",
   "execution_count": null,
   "metadata": {},
   "outputs": [],
   "source": [
    "col=13 #mean intensity\n",
    "\n",
    "os.chdir(\"/home/garner1/dataset/dapi\")\n",
    "fig = plt.figure(figsize=(10,8))\n",
    "for file in glob.glob(pattern+\"__*.txt\"):\n",
    "    print(file)\n",
    "    data = np.loadtxt(file,delimiter='\\t',skiprows=1,usecols=col)\n",
    "    data = data/np.mean(data)\n",
    "    sns.distplot(data,hist=False,label=file)\n",
    "os.chdir(\"/home/garner1/dataset/he\")\n",
    "for file in glob.glob(\"MN\"+pattern+\"__*.txt\"):\n",
    "    print(file)\n",
    "    data = np.loadtxt(file,delimiter='\\t',skiprows=1,usecols=col)\n",
    "    data = data/np.mean(data)\n",
    "    sns.distplot(data,hist=False,label=file)\n",
    "os.chdir(\"/home/garner1/dataset/\")\n",
    "plt.legend(loc='upper right')\n",
    "plt.savefig(pattern+\".meanIntensity.png\")"
   ]
  },
  {
   "cell_type": "code",
   "execution_count": null,
   "metadata": {},
   "outputs": [],
   "source": []
  }
 ],
 "metadata": {
  "kernelspec": {
   "display_name": "Python 3",
   "language": "python",
   "name": "python3"
  },
  "language_info": {
   "codemirror_mode": {
    "name": "ipython",
    "version": 3
   },
   "file_extension": ".py",
   "mimetype": "text/x-python",
   "name": "python",
   "nbconvert_exporter": "python",
   "pygments_lexer": "ipython3",
   "version": "3.7.4"
  }
 },
 "nbformat": 4,
 "nbformat_minor": 4
}
