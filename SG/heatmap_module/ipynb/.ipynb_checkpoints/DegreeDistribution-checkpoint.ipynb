{
 "cells": [
  {
   "cell_type": "code",
   "execution_count": null,
   "metadata": {},
   "outputs": [],
   "source": [
    "import networkx as nx\n",
    "import numpy as np\n",
    "import pandas as pd\n",
    "import seaborn as sns\n",
    "from scipy import sparse\n",
    "sns.set()"
   ]
  },
  {
   "cell_type": "code",
   "execution_count": null,
   "metadata": {},
   "outputs": [],
   "source": [
    "import glob, os\n",
    "import matplotlib.pyplot as plt\n",
    "\n",
    "pattern=\"*.txt.degree\"\n",
    "\n",
    "os.chdir(\"/home/garner1/dataset/he\")\n",
    "fig = plt.figure(figsize=(15,10))\n",
    "for file in glob.glob(pattern):\n",
    "    print(file)\n",
    "    cc = np.loadtxt(file)\n",
    "    sns.distplot(cc,hist=False,label=file)\n",
    "labels=[file for file in glob.glob(pattern)]"
   ]
  },
  {
   "cell_type": "code",
   "execution_count": null,
   "metadata": {},
   "outputs": [],
   "source": [
    "pattern1=\"57__*.txt.degree\"\n",
    "pattern2=\"MN57__*.txt.degree\"\n",
    "\n",
    "os.chdir(\"/home/garner1/dataset/dapi\")\n",
    "fig = plt.figure(figsize=(15,10))\n",
    "for file in glob.glob(pattern1):\n",
    "    print(file)\n",
    "    cc = np.loadtxt(file)\n",
    "    sns.distplot(cc,label=file,hist=False)\n",
    "DAPIlabels=[file for file in glob.glob(pattern1)]\n",
    "\n",
    "os.chdir(\"/home/garner1/dataset/he\")\n",
    "for file in glob.glob(pattern2):\n",
    "    print(file)\n",
    "    cc = np.loadtxt(file)\n",
    "    sns.distplot(cc,label=file,hist=False)\n",
    "HElabels=[file for file in glob.glob(pattern2)]"
   ]
  }
 ],
 "metadata": {
  "kernelspec": {
   "display_name": "Python 3",
   "language": "python",
   "name": "python3"
  },
  "language_info": {
   "codemirror_mode": {
    "name": "ipython",
    "version": 3
   },
   "file_extension": ".py",
   "mimetype": "text/x-python",
   "name": "python",
   "nbconvert_exporter": "python",
   "pygments_lexer": "ipython3",
   "version": "3.7.4"
  }
 },
 "nbformat": 4,
 "nbformat_minor": 4
}
