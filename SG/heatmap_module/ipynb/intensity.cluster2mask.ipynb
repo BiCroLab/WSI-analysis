{
 "cells": [
  {
   "cell_type": "code",
   "execution_count": 1,
   "metadata": {},
   "outputs": [],
   "source": [
    "import numpy as np\n",
    "from skimage.measure import label, regionprops\n",
    "from skimage.util import invert\n",
    "from scipy.sparse import csr_matrix,lil_matrix,coo_matrix\n",
    "from scipy.linalg import eigh, inv, logm, norm\n",
    "from  scipy import ndimage,sparse\n",
    "import cv2\n",
    "import os\n",
    "import sys\n",
    "import csv\n",
    "import glob\n",
    "\n",
    "import h5py\n",
    "from matplotlib import pyplot as plt\n",
    "import warnings\n",
    "warnings.filterwarnings('ignore')\n"
   ]
  },
  {
   "cell_type": "code",
   "execution_count": 2,
   "metadata": {},
   "outputs": [],
   "source": [
    "'''Using histomicstk'''\n",
    "import histomicstk as htk\n",
    "\n",
    "import numpy as np\n",
    "import scipy as sp\n",
    "\n",
    "import skimage.io\n",
    "import skimage.measure\n",
    "import skimage.color\n",
    "\n",
    "import matplotlib.pyplot as plt\n",
    "import matplotlib.patches as mpatches\n",
    "%matplotlib inline\n"
   ]
  },
  {
   "cell_type": "code",
   "execution_count": 15,
   "metadata": {
    "scrolled": false
   },
   "outputs": [
    {
     "name": "stdout",
     "output_type": "stream",
     "text": [
      "0 5\n",
      "0 6\n"
     ]
    }
   ],
   "source": [
    "import pandas as pd\n",
    "\n",
    "#csv_file = '../pkl/csv/id_13.fov_centroids_embedding_morphology.covd.pkl.csv'\n",
    "csv_file = '../pkl/id_13.fov_centroids_embedding_morphology.covd.pkl.csv'\n",
    "df = pd.read_csv(csv_file)\n",
    "\n",
    "#total_mask_label = np.zeros((512+512*df['fov_row'].max(),512+512*df['fov_col'].max()))\n",
    "\n",
    "rc_df = df.groupby(['fov_row','fov_col']).size().reset_index().rename(columns={0:'count'}) # the df of row-col fov pairs\n",
    "\n",
    "for row, col in list(zip(rc_df.fov_row, rc_df.fov_col))[:2]:\n",
    "    print(row,col)\n",
    "    df_fov = df.loc[(df['fov_row'] == row) & (df['fov_col'] == col)]\n",
    "\n",
    "    # load the h5 file\n",
    "    h5_file = '../h5/id_13/iMS342_20190715_001._r'+str(row)+'_c'+str(col)+'.h5'   #this file contains the segmented nuclei                                                                                                                    \n",
    "    fov = h5py.File(h5_file, 'r') # load the current fov segmentation                                                                                                                   \n",
    "    mask = fov['/exported_watershed_masks'][:]\n",
    "    mask_reduced = np.squeeze(mask, axis=2) #to get rid of the third dimension                                                                                                          \n",
    "    mask_label, numb_of_nuclei = label(mask_reduced,return_num=True) # to define the mask_label array\n",
    "    \n",
    "    # load dapi file\n",
    "    basename = os.path.splitext(h5_file)[0]\n",
    "    dapi_file = basename+'.tif' # the dapi file has to be located in the same directory as the h5 file                                                                                  \n",
    "    dapi_fov= cv2.imread(dapi_file,cv2.IMREAD_GRAYSCALE) #the dapi tif file of the current FOV                                                                                          \n",
    "\n",
    "    # define new_mask_label\n",
    "    new_mask_label = np.zeros((512,512))\n",
    "    for index, nuclei in df_fov.iterrows(): # for each nucleus in csv in fov\n",
    "        # read the necessary information from each row\n",
    "        cx = nuclei['cx']\n",
    "        cy = nuclei['cy']\n",
    "        cluster = int(nuclei['cluster'])\n",
    "        for region in regionprops(mask_label,intensity_image=dapi_fov): # for each nucleus in fov\n",
    "            #if a region is too small or too large do not consider it\n",
    "            if not ((np.count_nonzero(region.intensity_image) <= 10) or (np.count_nonzero(region.intensity_image) > 2500)) :\n",
    "                x = 512*int(col)+region.centroid[0] # shift by FOV location                                                                                                                 \n",
    "                y = 512*int(row)+region.centroid[1] # shift by FOV location                                                                                                                 \n",
    "                if x == cx and y == cy:\n",
    "                    # find location in mask_label where label is equal to region.label\n",
    "                    new_mask_label[mask_label == region.label] = cluster + 1 # sum 1 to make unclustered nuclei equal to bg_label 0\n",
    "\n",
    " #   total_mask_label[512*row:512*(row+1),512*col:512*(col+1)] = new_mask_label\n",
    "\n",
    "\n",
    "    # show pre-clustering figure\n",
    "    #plt.subplot(1, 2, 1)\n",
    "#    plt.figure(figsize=(10, 10))\n",
    "    plt.imsave(basename+'.pre-clustering.png',\n",
    "               invert(skimage.color.label2rgb(mask_label, dapi_fov, bg_label=0)), \n",
    "               origin='lower')\n",
    "#    plt.plot(invert(skimage.color.label2rgb(mask_label, dapi_fov, bg_label=0)), origin='lower')\n",
    "\n",
    "    # show post-clustering figure\n",
    "    #plt.subplot(1, 2, 2)\n",
    "#    plt.figure(figsize=(10, 10))\n",
    "    plt.imsave(basename+'.post-clustering.png',\n",
    "               invert(skimage.color.label2rgb(new_mask_label, dapi_fov, bg_label=0)), origin='lower')\n",
    "    \n",
    "#    plt.savefig(basename+'.PrePost-clustering.png')\n",
    "                    "
   ]
  },
  {
   "cell_type": "markdown",
   "metadata": {},
   "source": [
    "There are cell missing...why?"
   ]
  },
  {
   "cell_type": "code",
   "execution_count": 12,
   "metadata": {},
   "outputs": [],
   "source": [
    "# label all connected components in the fov, 0 is background                                                                                                                        \n",
    "mask_label, numb_of_nuclei = label(mask_reduced,return_num=True)\n",
    "\n",
    "# Display results\n",
    "plt.figure(figsize=(20, 10))\n",
    "\n",
    "plt.subplot(1, 2, 1)\n",
    "plt.imshow(skimage.color.label2rgb(mask_label, dapi_fov, bg_label=0), origin='lower')\n",
    "plt.title('Nuclei segmentation mask overlay', fontsize=12)\n",
    "\n",
    "plt.subplot(1, 2, 2)\n",
    "plt.imshow( dapi_fov )\n",
    "plt.xlim([0, dapi_fov.shape[1]])\n",
    "plt.ylim([0, dapi_fov.shape[0]])\n",
    "plt.title('Nuclei bounding boxes', fontsize=12)\n",
    "for region in regionprops(mask_label,intensity_image=dapi_fov):\n",
    "    counter+=1\n",
    "    #if a region is too small or too large do not consider it\n",
    "    if ((np.count_nonzero(region.intensity_image) <= 10) or (np.count_nonzero(region.intensity_image) > 2500)) :\n",
    "        print('The number of pixels is '+str(np.count_nonzero(region.intensity_image))+' in region='+str(counter))\n",
    "    else:\n",
    "        c = [region.centroid[1], region.centroid[0], 0]\n",
    "        width = region.bbox[3] - region.bbox[1] + 1\n",
    "        height = region.bbox[2] - region.bbox[0] + 1\n",
    "\n",
    "        cur_bbox = {\n",
    "            \"type\":        \"rectangle\",\n",
    "            \"center\":      c,\n",
    "            \"width\":       width,\n",
    "            \"height\":      height,\n",
    "        }\n",
    "\n",
    "        plt.plot(c[0], c[1], 'g+')\n",
    "        mrect = mpatches.Rectangle([c[0] - 0.5 * width, c[1] - 0.5 * height] ,\n",
    "                               width, height, fill=False, ec='g', linewidth=2)\n",
    "        plt.gca().add_patch(mrect)"
   ]
  }
 ],
 "metadata": {
  "kernelspec": {
   "display_name": "Python 3",
   "language": "python",
   "name": "python3"
  },
  "language_info": {
   "codemirror_mode": {
    "name": "ipython",
    "version": 3
   },
   "file_extension": ".py",
   "mimetype": "text/x-python",
   "name": "python",
   "nbconvert_exporter": "python",
   "pygments_lexer": "ipython3",
   "version": "3.7.4"
  }
 },
 "nbformat": 4,
 "nbformat_minor": 2
}
