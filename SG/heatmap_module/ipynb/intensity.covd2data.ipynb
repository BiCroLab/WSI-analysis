{
 "cells": [
  {
   "cell_type": "code",
   "execution_count": null,
   "metadata": {},
   "outputs": [],
   "source": [
    "import numpy as np\n",
    "from skimage.measure import label, regionprops\n",
    "from scipy.sparse import csr_matrix,lil_matrix,coo_matrix\n",
    "from scipy.linalg import eigh, inv, logm, norm\n",
    "from  scipy import ndimage,sparse\n",
    "import cv2\n",
    "import os\n",
    "import sys\n",
    "import csv\n",
    "import glob\n",
    "\n",
    "import h5py\n",
    "from matplotlib import pyplot as plt\n",
    "import warnings\n",
    "#warnings.filterwarnings('ignore')"
   ]
  },
  {
   "cell_type": "code",
   "execution_count": null,
   "metadata": {},
   "outputs": [],
   "source": [
    "'''\n",
    "Set the input information\n",
    "'''\n",
    "h5_file = sys.argv[1]   #this file contains the segmented nuclei\n",
    "datadir = os.path.dirname(os.path.realpath(h5_file))\n",
    "dapi_file = sys.argv[2] #this file contains the tif images\n",
    "npz_file = sys.argv[3] #this is the output file with spatial and morphological descriptors\n",
    "method = sys.argv[4] #choose between covd rotational invariant or not: covdRI or covd \n",
    "report = sys.argv[5] #filename of the output report"
   ]
  },
  {
   "cell_type": "code",
   "execution_count": null,
   "metadata": {},
   "outputs": [],
   "source": [
    "dirname = sys.argv[1]\n",
    "counter = 0\n",
    "for f in glob.glob(dirname+'/*.npz'):\n",
    "    if counter == 0:\n",
    "        data = np.load(f,allow_pickle=True) \n",
    "        covds = data['descriptors']\n",
    "    data = np.load(f,allow_pickle=True)\n",
    "    covds = np.vstack((covds,data['descriptors']))"
   ]
  },
  {
   "cell_type": "code",
   "execution_count": null,
   "metadata": {},
   "outputs": [],
   "source": [
    "print('Clustering the descriptors')\n",
    "import umap\n",
    "import hdbscan\n",
    "import sklearn.cluster as cluster\n",
    "from sklearn.cluster import OPTICS\n",
    "\n",
    "# this is used to identify clusters                                 \n",
    "embedding = umap.UMAP(min_dist=0.0,n_components=3,random_state=42).fit_transform(covds) "
   ]
  },
  {
   "cell_type": "code",
   "execution_count": null,
   "metadata": {},
   "outputs": [],
   "source": [
    "from mpl_toolkits.mplot3d import Axes3D \n",
    "import matplotlib.pyplot as plt\n",
    "import plotly.graph_objects as go\n",
    "from plotly.graph_objs import *\n",
    "import plotly.express as px\n",
    "import seaborn as sns\n",
    "%matplotlib inline\n",
    "sns.set_context('poster')\n",
    "sns.set_style('white')\n",
    "sns.set_color_codes()\n",
    "plot_kwds = {'alpha' : 0.5, 's' : 80, 'linewidths':0}\n",
    "\n",
    "import hdbscan\n",
    "\n",
    "import os\n",
    "import glob\n",
    "\n",
    "from sklearn.neighbors import NearestNeighbors\n",
    "from numpy import linalg as LA\n",
    "import numpy as np\n",
    "import pandas as pd"
   ]
  },
  {
   "cell_type": "code",
   "execution_count": null,
   "metadata": {},
   "outputs": [],
   "source": [
    "df_embedding = pd.DataFrame(data=embedding, columns=['x','y','z'])\n",
    "'''\n",
    "Visualize the 3D UMAP representation of the morphology\n",
    "'''\n",
    "fig = px.scatter_3d(df_embedding, x=\"x\", y=\"y\", z=\"z\")\n",
    "fig.update_traces(marker=dict(size=1,opacity=0.5),selector=dict(mode='markers'))\n",
    "fig.write_html('test.html', auto_open=True)"
   ]
  },
  {
   "cell_type": "code",
   "execution_count": null,
   "metadata": {},
   "outputs": [],
   "source": []
  }
 ],
 "metadata": {
  "kernelspec": {
   "display_name": "Python 3",
   "language": "python",
   "name": "python3"
  },
  "language_info": {
   "codemirror_mode": {
    "name": "ipython",
    "version": 3
   },
   "file_extension": ".py",
   "mimetype": "text/x-python",
   "name": "python",
   "nbconvert_exporter": "python",
   "pygments_lexer": "ipython3",
   "version": "3.7.4"
  }
 },
 "nbformat": 4,
 "nbformat_minor": 2
}
