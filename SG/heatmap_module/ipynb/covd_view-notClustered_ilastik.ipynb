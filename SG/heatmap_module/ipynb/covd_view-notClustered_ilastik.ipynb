{
 "cells": [
  {
   "cell_type": "code",
   "execution_count": 1,
   "metadata": {},
   "outputs": [],
   "source": [
    "import numpy as np\n",
    "from mpl_toolkits.mplot3d import Axes3D \n",
    "import matplotlib.pyplot as plt\n",
    "import glob\n",
    "import plotly.graph_objects as go\n",
    "import numpy as np\n",
    "\n",
    "from plotly.graph_objs import *\n",
    "import pandas as pd\n",
    "import plotly.express as px"
   ]
  },
  {
   "cell_type": "code",
   "execution_count": 2,
   "metadata": {},
   "outputs": [],
   "source": [
    "def show_cluster(embedding_name):\n",
    "    xyz = np.load(embedding_name,allow_pickle=True)\n",
    "    print(embedding_name,xyz.shape)\n",
    "    x, y, z = xyz[:,0], xyz[:,1], xyz[:,2]\n",
    "    fig = go.Figure(data=[go.Scatter3d(\n",
    "        x=x,\n",
    "        y=y,\n",
    "        z=z,\n",
    "        mode='markers',\n",
    "        marker=dict(\n",
    "            size=1,\n",
    "            opacity=0.1\n",
    "        )\n",
    "    )])\n",
    "    # tight layout\n",
    "    fig.update_layout(margin=dict(l=0, r=0, b=0, t=0))\n",
    "    fig.write_html(embedding_name+'.html', auto_open=True)\n"
   ]
  },
  {
   "cell_type": "code",
   "execution_count": 4,
   "metadata": {},
   "outputs": [],
   "source": [
    "'''\n",
    "UMAP representation of the morphology\n",
    "and coloring based on a given feature\n",
    "'''\n",
    "import plotly.graph_objects as go\n",
    "from plotly.graph_objs import *\n",
    "import pandas as pd\n",
    "import plotly.express as px\n",
    "import os\n",
    "\n",
    "id_list = [13,53,17,52,40,38,45,39,57,56,51,46,41,54]\n",
    "usecols = (3, 4, 5, 6, 7, 8)\n",
    "features = ['area','perimeter','eccentricity','circularity','mean_intensity','tot_intensity']\n",
    "\n",
    "for idx in id_list[:1]:\n",
    "    idx = 52\n",
    "    morphology_filename = '/home/garner1/wsi-data/npy/'+str(idx)+'.txt.woInf.gz'\n",
    "    embedding_filename = '/home/garner1/wsi-data/npy/id'+str(idx)+'_clusterable_embedding.morphology.npy'\n",
    "    \n",
    "    morphology = np.loadtxt(morphology_filename, delimiter=\"\\t\", skiprows=True, usecols=usecols)\n",
    "    embedding = np.load(embedding_filename, allow_pickle=True)\n",
    "\n",
    "    df_embedding = pd.DataFrame(data=embedding, columns=['x','y','z'])\n",
    "    df_morphology = pd.DataFrame(data=morphology, columns=['area','perimeter',\n",
    "                                                          'eccentricity','circularity',\n",
    "                                                           'mean_intensity','tot_intensity'])\n",
    "    for feature in features:\n",
    "        df_embedding['color'] = pd.qcut(df_morphology[feature], 10, labels=False)\n",
    "        fig = px.scatter_3d(df_embedding.sample(n=100000,axis=0), x=\"x\", y=\"y\", z=\"z\", color=\"color\", hover_name=\"color\")\n",
    "        fig.update_traces(marker=dict(size=1,opacity=0.5),selector=dict(mode='markers'))\n",
    "        fig.update_layout(title=os.path.basename(embedding_filename)+' '+feature,\n",
    "                            font=dict(\n",
    "                            family=\"Courier New, monospace\",\n",
    "                            size=18,\n",
    "                            color=\"#7f7f7f\"\n",
    "                                )\n",
    "                         )\n",
    "        fig.write_html(embedding_filename+'.'+feature+'.100K_subsampling.html', auto_open=True)"
   ]
  },
  {
   "cell_type": "code",
   "execution_count": 37,
   "metadata": {},
   "outputs": [],
   "source": [
    "'''\n",
    "UMAP representation of the morphology\n",
    "'''\n",
    "import plotly.graph_objects as go\n",
    "from plotly.graph_objs import *\n",
    "import pandas as pd\n",
    "import plotly.express as px\n",
    "import os\n",
    "\n",
    "id_list = [13,53,17,52,40,38,45,39,57,56,51,46,41,54]\n",
    "usecols = (1,2,3, 4, 5, 6, 7, 8)\n",
    "\n",
    "for idx in id_list[:1]:\n",
    "    morphology_filename = '/home/garner1/wsi-data/npy/'+str(idx)+'.txt.woInf.gz'\n",
    "    embedding_filename = '/home/garner1/wsi-data/npy/id'+str(idx)+'_clusterable_embedding.morphology.npy'\n",
    "    \n",
    "    morphology = np.loadtxt(morphology_filename, delimiter=\"\\t\", skiprows=True, usecols=usecols)\n",
    "    embedding = np.load(embedding_filename, allow_pickle=True)\n",
    "\n",
    "    df_embedding = pd.DataFrame(data=embedding, columns=['x','y','z'])\n",
    "    df_morphology = pd.DataFrame(data=morphology, columns=['cx','cy','area','perimeter',\n",
    "                                                          'eccentricity','circularity',\n",
    "                                                           'mean_intensity','tot_intensity'])\n",
    "    df = pd.concat([df_morphology, df_embedding], axis=1)\n",
    "    fig = px.scatter_3d(df.sample(n=10000,axis=0), x=\"x\", y=\"y\", z=\"z\")\n",
    "    fig.update_traces(marker=dict(size=1,opacity=0.5),selector=dict(mode='markers'))\n",
    "    fig.update_layout(title=os.path.basename(embedding_filename),\n",
    "                            font=dict(\n",
    "                            family=\"Courier New, monospace\",\n",
    "                            size=18,\n",
    "                            color=\"#7f7f7f\"\n",
    "                                )\n",
    "                         )\n",
    "    fig.write_html(embedding_filename+'.10K_subsampling.html', auto_open=True)"
   ]
  },
  {
   "cell_type": "code",
   "execution_count": 41,
   "metadata": {},
   "outputs": [
    {
     "data": {
      "image/png": "[encoded data removed]",
      "text/plain": [
       "<Figure size 432x288 with 2 Axes>"
      ]
     },
     "metadata": {},
     "output_type": "display_data"
    }
   ],
   "source": [
    "'''\n",
    "Density based clustering\n",
    "'''\n",
    "import matplotlib.pyplot as plt\n",
    "import seaborn as sns\n",
    "import sklearn.datasets as data\n",
    "%matplotlib inline\n",
    "sns.set_context('poster')\n",
    "sns.set_style('white')\n",
    "sns.set_color_codes()\n",
    "plot_kwds = {'alpha' : 0.5, 's' : 80, 'linewidths':0}\n",
    "\n",
    "import hdbscan\n",
    "\n",
    "XX = df.sample(n=100000,axis=0)\n",
    "pos = XX[['cx','cy']]\n",
    "\n",
    "min_cluster_size = 100 #parameters\n",
    "min_samples = 10       #parameters\n",
    "\n",
    "clusterer = hdbscan.HDBSCAN(min_samples=min_samples, min_cluster_size=min_cluster_size, gen_min_span_tree=True)\n",
    "clusterer.fit(pos) #cluster positions\n",
    "clusterer.condensed_tree_.plot(select_clusters=True, \n",
    "                               selection_palette=sns.color_palette(\"Set2\",len(clusterer.labels_)))\n",
    "\n",
    "from plotly.graph_objs import *\n",
    "import pandas as pd\n",
    "import plotly.express as px\n",
    "import plotly.graph_objects as go\n",
    "\n",
    "XX['cluster'] = clusterer.labels_    #add cluster id to dataframe\n",
    "XX['cluster'] = XX['cluster'].apply(str)   #make clustet id a string\n",
    "\n",
    "#df['alpha'] = clusterer.probabilities_\n",
    "#df['alpha'] = df['alpha'].apply(str)\n",
    "\n",
    "df_filtered = XX[XX.cluster != str(-1)]  # consider only clustered points\n",
    "\n",
    "fig = px.scatter_3d(df_filtered, x=\"x\", y=\"y\", z=\"z\", color=\"cluster\", hover_name=\"cluster\", \n",
    "                        color_discrete_sequence=px.colors.qualitative.Set2)\n",
    "fig.update_traces(marker=dict(size=1,opacity=0.75),selector=dict(mode='markers'))\n",
    "fig.update_layout(title=os.path.basename(embedding_filename)+' min_cluster='+str(min_cluster_size)+' min_samples='+str(min_samples),\n",
    "                  font=dict(family=\"Courier New, monospace\",size=18,color=\"#7f7f7f\")\n",
    "                 )\n",
    "    \n",
    "\n",
    "fig.write_html('test.html', auto_open=True)"
   ]
  },
  {
   "cell_type": "code",
   "execution_count": null,
   "metadata": {},
   "outputs": [],
   "source": [
    "'''\n",
    "Densidy based clustering of the spatial density\n",
    "'''\n",
    "idx = 13\n",
    "morphology_filename = '/home/garner1/wsi-data/npy/'+str(idx)+'.txt.woInf.gz'\n",
    "embedding_filename = '/home/garner1/wsi-data/npy/id'+str(idx)+'_clusterable_embedding.morphology.npy'\n",
    "    \n",
    "pos = np.loadtxt(morphology_filename, delimiter=\"\\t\", skiprows=True, usecols=(1,2))\n",
    "XX = pd.DataFrame(data=pos, columns=['x','y']).sample(n=100000,axis=0)\n",
    "print(XX.shape)\n",
    "    \n",
    "import matplotlib.pyplot as plt\n",
    "import seaborn as sns\n",
    "import sklearn.datasets as data\n",
    "%matplotlib inline\n",
    "sns.set_context('poster')\n",
    "sns.set_style('white')\n",
    "sns.set_color_codes()\n",
    "plot_kwds = {'alpha' : 0.5, 's' : 80, 'linewidths':0}\n",
    "\n",
    "import hdbscan\n",
    "\n",
    "min_cluster_size = 100\n",
    "min_samples = 100\n",
    "clusterer = hdbscan.HDBSCAN(min_samples=min_samples, min_cluster_size=min_cluster_size, gen_min_span_tree=True)\n",
    "clusterer.fit(XX)\n",
    "\n",
    "clusterer.condensed_tree_.plot(select_clusters=True, selection_palette=sns.color_palette(\"Set2\",len(clusterer.labels_)))\n",
    "\n",
    "from plotly.graph_objs import *\n",
    "import pandas as pd\n",
    "import plotly.express as px\n",
    "import plotly.graph_objects as go\n",
    "\n",
    "XX['cluster'] = clusterer.labels_\n",
    "XX['cluster'] = XX['cluster'].apply(str)\n",
    "\n",
    "#df['alpha'] = clusterer.probabilities_\n",
    "#df['alpha'] = df['alpha'].apply(str)\n",
    "\n",
    "df_filtered = XX[XX.cluster != str(-1)]\n",
    "\n",
    "fig = px.scatter_3d(df_filtered, x=\"x\", y=\"y\", z=\"z\", color=\"cluster\", hover_name=\"cluster\", \n",
    "                        color_discrete_sequence=px.colors.qualitative.Set2)\n",
    "fig.update_traces(marker=dict(size=1,opacity=0.75),selector=dict(mode='markers'))\n",
    "fig.update_layout(title=os.path.basename(embedding_filename)+' min_cluster='+str(min_cluster_size)+' min_samples='+str(min_samples),\n",
    "                  font=dict(family=\"Courier New, monospace\",size=18,color=\"#7f7f7f\")\n",
    "                 )\n",
    "    \n",
    "\n",
    "fig.write_html('test.html', auto_open=True)\n"
   ]
  },
  {
   "cell_type": "code",
   "execution_count": 3,
   "metadata": {
    "scrolled": true
   },
   "outputs": [
    {
     "name": "stdout",
     "output_type": "stream",
     "text": [
      "../npy/clusterable_embedding.merge.primary.ilastik.npy\n"
     ]
    }
   ],
   "source": [
    "from plotly.graph_objs import *\n",
    "import pandas as pd\n",
    "import plotly.express as px\n",
    "\n",
    "for f in glob.glob(r'../npy/clusterable_embedding.merge.primary.ilastik.npy'):\n",
    "    print(f)\n",
    "    data = np.load(f,allow_pickle=True)\n",
    "    df = pd.DataFrame(data=data,columns=['x','y','z','label'])\n",
    "    df['label'] = df['label'].apply(round).apply(str)\n",
    "\n",
    "    fig = px.scatter_3d(df, x=\"x\", y=\"y\", z=\"z\", color=\"label\", hover_name=\"label\", \n",
    "                        color_discrete_sequence=px.colors.qualitative.Set2)\n",
    "    fig.update_traces(marker=dict(size=1,opacity=0.75),selector=dict(mode='markers'))\n",
    "    fig.update_layout(margin=dict(l=0, r=0, b=0, t=0),\n",
    "                      legend=go.layout.Legend(\n",
    "                          x=0,\n",
    "                          y=1,\n",
    "                          traceorder='normal',\n",
    "                          font=dict(family='sans-serif',size=20,color='black'),\n",
    "                          itemsizing='constant' #to show larget legend markers\n",
    "                      ))\n",
    "\n",
    "    fig.write_html(f+'.html', auto_open=True)"
   ]
  },
  {
   "cell_type": "code",
   "execution_count": 9,
   "metadata": {
    "scrolled": true
   },
   "outputs": [
    {
     "name": "stdout",
     "output_type": "stream",
     "text": [
      "../npy/clusterable_embedding.merge.38-52-53-57-380.ilastik+HE.-intensity.-xy.npy\n"
     ]
    }
   ],
   "source": [
    "from plotly.graph_objs import *\n",
    "import pandas as pd\n",
    "import plotly.express as px\n",
    "\n",
    "for f in glob.glob(r'../npy/clusterable_embedding.merge.38-52-53-57-380.ilastik+HE.-intensity.-xy.npy'):\n",
    "    print(f)\n",
    "    data = np.load(f,allow_pickle=True)\n",
    "    df = pd.DataFrame(data=data,columns=['x','y','z','label'])\n",
    "    df['label'] = df['label'].apply(round).apply(str)\n",
    "\n",
    "    fig = px.scatter_3d(df, x=\"x\", y=\"y\", z=\"z\", color=\"label\", hover_name=\"label\", \n",
    "                        color_discrete_sequence=px.colors.qualitative.Set2)\n",
    "    fig.update_traces(marker=dict(size=1,opacity=0.75),selector=dict(mode='markers'))\n",
    "    fig.update_layout(margin=dict(l=0, r=0, b=0, t=0))\n",
    "    fig.write_html(f+'.html', auto_open=True)"
   ]
  },
  {
   "cell_type": "code",
   "execution_count": 3,
   "metadata": {
    "scrolled": true
   },
   "outputs": [
    {
     "name": "stdout",
     "output_type": "stream",
     "text": [
      "../npy/clusterable_embedding.merge.38-52-53-57.HE.-intensity.+xy.npy\n",
      "../npy/clusterable_embedding.merge.38-52-53-57.HE.-intensity.-xy.npy\n",
      "../npy/clusterable_embedding.merge.38-52-53-57.HE.+intensity.+xy.npy\n",
      "../npy/clusterable_embedding.merge.38-52-53-57.HE.+intensity.-xy.npy\n"
     ]
    }
   ],
   "source": [
    "from plotly.graph_objs import *\n",
    "import pandas as pd\n",
    "import plotly.express as px\n",
    "\n",
    "for f in glob.glob(r'../npy/clusterable_embedding.merge.38-52-53-57.HE.*.npy'):\n",
    "    print(f)\n",
    "    data = np.load(f,allow_pickle=True)\n",
    "    df = pd.DataFrame(data=data,columns=['x','y','z','label'])\n",
    "    df['label'] = df['label'].apply(round).apply(str)\n",
    "\n",
    "    fig = px.scatter_3d(df, x=\"x\", y=\"y\", z=\"z\", color=\"label\", hover_name=\"label\", \n",
    "                        color_discrete_map={\"38\": \"red\",\"52\": \"green\",\"53\": \"blue\",\"57\": \"goldenrod\"})\n",
    "#                    color_discrete_sequence=px.colors.qualitative.Set2)\n",
    "    fig.update_traces(marker=dict(size=1,opacity=0.75),selector=dict(mode='markers'))\n",
    "    fig.update_layout(margin=dict(l=0, r=0, b=0, t=0))\n",
    "    fig.write_html(f+'.html', auto_open=True)"
   ]
  },
  {
   "cell_type": "code",
   "execution_count": 5,
   "metadata": {
    "scrolled": true
   },
   "outputs": [
    {
     "name": "stdout",
     "output_type": "stream",
     "text": [
      "../npy/clusterable_embedding.merge.38-52-53-57.ilastik+qpHE.+intensity.+xy.npy\n",
      "../npy/clusterable_embedding.merge.38-52-53-57.ilastik+qpHE.-intensity.-xy.npy\n",
      "../npy/clusterable_embedding.merge.38-52-53-57.ilastik+qpHE.+intensity.-xy.npy\n",
      "../npy/clusterable_embedding.merge.38-52-53-57.ilastik+qpHE.-intensity.+xy.npy\n"
     ]
    }
   ],
   "source": [
    "from plotly.graph_objs import *\n",
    "import pandas as pd\n",
    "import plotly.express as px\n",
    "\n",
    "for f in glob.glob(r'../npy/clusterable_embedding.merge.38-52-53-57.ilastik+qpHE.?intensity.?xy.npy'):\n",
    "    print(f)\n",
    "    data = np.load(f,allow_pickle=True)\n",
    "    df = pd.DataFrame(data=data,columns=['x','y','z','label'])\n",
    "    df['label'] = df['label'].apply(round).apply(str)\n",
    "\n",
    "    fig = px.scatter_3d(df, x=\"x\", y=\"y\", z=\"z\", color=\"label\", hover_name=\"label\", \n",
    "                        color_discrete_map={\"38\": \"red\",\"52\": \"green\",\"53\": \"blue\",\"57\": \"goldenrod\"})\n",
    "#                    color_discrete_sequence=px.colors.qualitative.Set2)\n",
    "    fig.update_traces(marker=dict(size=2,opacity=0.75),selector=dict(mode='markers'))\n",
    "    fig.update_layout(margin=dict(l=0, r=0, b=0, t=0))\n",
    "    fig.write_html(f+'.html', auto_open=True)"
   ]
  },
  {
   "cell_type": "markdown",
   "metadata": {},
   "source": [
    "Rotate the pointcloud"
   ]
  },
  {
   "cell_type": "code",
   "execution_count": null,
   "metadata": {},
   "outputs": [],
   "source": [
    "f='../npy/clusterable_embedding.merge.38-52-53-57.ilastik.-intensity.+xy.npy'\n",
    "\n",
    "embedding = np.load(f,allow_pickle=True)\n",
    "df = pd.DataFrame(data=embedding,columns=['x','y','z','label'])\n",
    "df['label'] = df['label'].apply(round).apply(str)\n",
    "\n",
    "colorsIdx = {\"38\": \"red\",\"52\": \"green\",\"53\": \"blue\",\"57\": \"goldenrod\"}\n",
    "cols = df['label'].map(colorsIdx)\n",
    "\n",
    "trace=[go.Scatter3d(x=df['x'], y=df['y'], z=df['z'], mode='markers',marker=dict(size=1,opacity=0.5,color=cols))]\n",
    "\n",
    "x_eye = -1.25\n",
    "y_eye = 2\n",
    "z_eye = 0.5\n",
    "\n",
    "layout = go.Layout(\n",
    "         title='Animation Test',\n",
    "         width=600,\n",
    "         height=600,\n",
    "         scene=dict(camera=dict(eye=dict(x=x_eye, y=y_eye, z=z_eye))),\n",
    "         updatemenus=[dict(type='buttons',\n",
    "                  showactive=False,\n",
    "                  y=1,\n",
    "                  x=0.8,\n",
    "                  xanchor='left',\n",
    "                  yanchor='bottom',\n",
    "                  pad=dict(t=45, r=10),\n",
    "                  buttons=[dict(label='Play',\n",
    "                                 method='animate',\n",
    "                                 args=[None, dict(frame=dict(duration=2, redraw=False), \n",
    "                                                             transition=dict(duration=0),\n",
    "                                                             fromcurrent=True,\n",
    "                                                             mode='immediate'\n",
    "                                                            )]\n",
    "                                            )\n",
    "                                      ]\n",
    "                              )\n",
    "                        ]\n",
    ")\n",
    "\n",
    "\n",
    "def rotate_z(x, y, z, theta):\n",
    "    w = x+1j*y\n",
    "    return np.real(np.exp(1j*theta)*w), np.imag(np.exp(1j*theta)*w), z\n",
    "\n",
    "frames=[]\n",
    "for t in np.arange(0, 6.26, 0.05):\n",
    "    xe, ye, ze = rotate_z(x_eye, y_eye, z_eye, -t)\n",
    "    frames.append(dict(layout=dict(scene=dict(camera=dict(eye=dict(x=xe, y=ye, z=ze))))))\n",
    "\n",
    "fig = go.Figure(data=trace, layout=layout, frames=frames)\n",
    "\n",
    "fig.write_html(f+'.html', auto_open=True)"
   ]
  },
  {
   "cell_type": "markdown",
   "metadata": {},
   "source": [
    "Plot samples with a discrete color sequence (different plots will have different color order)"
   ]
  },
  {
   "cell_type": "code",
   "execution_count": null,
   "metadata": {},
   "outputs": [],
   "source": [
    "from plotly.graph_objs import *\n",
    "import pandas as pd\n",
    "import plotly.express as px\n",
    "\n",
    "for f in glob.glob(r'../npy/clusterable_embedding.merge.38-52-53-57.ilastik.*.npy'):\n",
    "    print(f)\n",
    "    data = np.load(f,allow_pickle=True)\n",
    "    df = pd.DataFrame(data=data,columns=['x','y','z','label'])\n",
    "    df['label'] = df['label'].apply(round).apply(str)\n",
    "\n",
    "    fig = px.scatter_3d(df, x=\"x\", y=\"y\", z=\"z\", color=\"label\", hover_name=\"label\", \n",
    "                        color_discrete_sequence=px.colors.qualitative.Set2)\n",
    "    fig.update_traces(marker=dict(size=1,opacity=0.75),selector=dict(mode='markers'))\n",
    "    fig.update_layout(margin=dict(l=0, r=0, b=0, t=0))\n",
    "    fig.write_html(f+'.html', auto_open=True)"
   ]
  },
  {
   "cell_type": "markdown",
   "metadata": {},
   "source": [
    "We can try to cluster the points in the multisample cloud."
   ]
  },
  {
   "cell_type": "code",
   "execution_count": null,
   "metadata": {},
   "outputs": [],
   "source": [
    "from plotly.graph_objs import *\n",
    "import pandas as pd\n",
    "import plotly.express as px\n",
    "from sklearn.cluster import OPTICS\n",
    "from sklearn.cluster import DBSCAN\n",
    "import numpy as np\n",
    "\n",
    "X = data[:,:3]\n",
    "\n",
    "#clustering = OPTICS(min_samples=50).fit(X)\n",
    "clustering = DBSCAN(eps=0.6, min_samples=50).fit(X)\n",
    "\n",
    "df['label_optic'] = clustering.labels_\n",
    "df['label_optic'] = df['label_optic'].apply(str)\n",
    "\n",
    "fig = px.scatter_3d(df, x=\"x\", y=\"y\", z=\"z\", color=\"label_optic\", hover_name=\"label\", \n",
    "                    color_discrete_sequence=px.colors.qualitative.Set1)\n",
    "fig.update_traces(marker=dict(size=2,opacity=0.25),selector=dict(mode='markers'))\n",
    "fig.update_layout(margin=dict(l=0, r=0, b=0, t=0))\n",
    "fig.write_html('merge-samples.html', auto_open=True)"
   ]
  },
  {
   "cell_type": "markdown",
   "metadata": {},
   "source": [
    "See how the point cloud changes with sampling size"
   ]
  },
  {
   "cell_type": "code",
   "execution_count": null,
   "metadata": {},
   "outputs": [],
   "source": [
    "from numpy.random import normal as normal\n",
    "import matplotlib.pyplot as plt\n",
    "from mpl_toolkits.mplot3d import Axes3D \n",
    "import matplotlib.animation as animation\n",
    "import matplotlib"
   ]
  },
  {
   "cell_type": "code",
   "execution_count": null,
   "metadata": {},
   "outputs": [],
   "source": [
    "####################################################################################################                                                                                                               \n",
    "# load logvec from different samples                                                                                                                                                                               \n",
    "###################################################################################################                                                                                                                \n",
    "import numpy as np\n",
    "import glob\n",
    "import umap\n",
    "import hdbscan\n",
    "import sklearn.cluster as cluster\n",
    "from sklearn.cluster import OPTICS\n",
    "import pandas as pd\n",
    "import plotly.express as px\n",
    "\n",
    "xs = []\n",
    "ys = []\n",
    "zs = []\n",
    "\n",
    "lista = [ f for f in glob.glob(r'../npy/52.txt.r1.s*.logvec.npy') ]"
   ]
  },
  {
   "cell_type": "code",
   "execution_count": null,
   "metadata": {},
   "outputs": [],
   "source": [
    "'''Use this to see individual random clusters'''\n",
    "for f in lista:\n",
    "    X = np.load(f,allow_pickle=True) # create the array of vectorized covd data                                                                                                                                              \n",
    "    clusterable_embedding = umap.UMAP(min_dist=0.0,n_components=3,random_state=42).fit_transform(X) # this is used to identify clusters                                                                                \n",
    "\n",
    "    xs.append(list(clusterable_embedding[:,0]))\n",
    "    ys.append(list(clusterable_embedding[:,1]))\n",
    "    zs.append(list(clusterable_embedding[:,2]))"
   ]
  },
  {
   "cell_type": "code",
   "execution_count": null,
   "metadata": {
    "scrolled": true
   },
   "outputs": [],
   "source": [
    "'''Use this to see random sampling expansion'''\n",
    "for idx in range(2,len(lista)):\n",
    "    print(idx)\n",
    "    logvec_list = [ np.load(f,allow_pickle=True) for f in lista[:idx] ]\n",
    "    X = np.vstack(logvec_list) # create the array of vectorized covd data                                                                                                                                              \n",
    "    clusterable_embedding = umap.UMAP(min_dist=0.0,n_components=3,random_state=42).fit_transform(X) # this is used to identify clusters                                                                                \n",
    "\n",
    "    xs.append(list(clusterable_embedding[:,0]))\n",
    "    ys.append(list(clusterable_embedding[:,1]))\n",
    "    zs.append(list(clusterable_embedding[:,2]))"
   ]
  },
  {
   "cell_type": "code",
   "execution_count": null,
   "metadata": {},
   "outputs": [],
   "source": [
    "nfr = len(xs) # Number of frames\n",
    "fps = 1 # Frame per sec\n",
    "\n",
    "fig = plt.figure()\n",
    "ax = fig.add_subplot(111, projection='3d')\n",
    "sct, = ax.plot([], [], [], \".\", markersize=1)\n",
    "def update(ifrm, xa, ya, za):\n",
    "    sct.set_data(xa[ifrm], ya[ifrm])\n",
    "    sct.set_3d_properties(za[ifrm])\n",
    "ax.set_xlim(-10,10)\n",
    "ax.set_ylim(-10,10)\n",
    "ax.set_zlim(-10,10)\n",
    "ani = animation.FuncAnimation(fig, update, nfr, fargs=(xs,ys,zs), interval=1000)\n",
    "\n",
    "fn = 'plot_3d_scatter_pooling_samples'\n",
    "ani.save(fn+'.mp4',writer='ffmpeg',fps=fps)\n",
    "ani.save(fn+'.gif',writer='imagemagick',fps=fps)\n",
    "\n",
    "plt.rcParams['animation.html'] = 'html5'\n",
    "ani"
   ]
  },
  {
   "cell_type": "code",
   "execution_count": null,
   "metadata": {},
   "outputs": [],
   "source": []
  }
 ],
 "metadata": {
  "kernelspec": {
   "display_name": "Python 3",
   "language": "python",
   "name": "python3"
  },
  "language_info": {
   "codemirror_mode": {
    "name": "ipython",
    "version": 3
   },
   "file_extension": ".py",
   "mimetype": "text/x-python",
   "name": "python",
   "nbconvert_exporter": "python",
   "pygments_lexer": "ipython3",
   "version": "3.7.4"
  }
 },
 "nbformat": 4,
 "nbformat_minor": 2
}
